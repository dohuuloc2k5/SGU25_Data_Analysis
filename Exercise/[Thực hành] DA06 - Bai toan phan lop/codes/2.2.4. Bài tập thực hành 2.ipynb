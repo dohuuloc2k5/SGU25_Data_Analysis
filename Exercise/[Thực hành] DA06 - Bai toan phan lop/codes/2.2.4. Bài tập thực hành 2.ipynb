{
 "cells": [
  {
   "cell_type": "markdown",
   "id": "09e0bb80-ae63-4623-998f-41ff8aa31287",
   "metadata": {},
   "source": [
    "# Xây dựng mô hình từ giải thuật SVM trên dữ liệu các con thú trong rừng. Dữ liệu lấy từ\n",
    "https://www.kaggle.com/code/kareemellithy/animal-condition-predict-svm-knn"
   ]
  },
  {
   "cell_type": "markdown",
   "id": "08d27ddc-b2ef-4882-840e-13d8c027cb54",
   "metadata": {},
   "source": [
    "## Bài làm"
   ]
  },
  {
   "cell_type": "markdown",
   "id": "40296b66-b3dc-4a44-a90f-6d79d0bb85af",
   "metadata": {},
   "source": [
    "### 1: TẢI THƯ VIỆN VÀ CHUẨN BỊ DỮ LIỆU"
   ]
  },
  {
   "cell_type": "code",
   "execution_count": 1,
   "id": "725586a6-8797-42ec-93c7-d2ddb7be9588",
   "metadata": {},
   "outputs": [],
   "source": [
    "# 1. Import các thư viện cần thiết\n",
    "import pandas as pd\n",
    "import numpy as np\n",
    "import matplotlib as mpl\n",
    "import matplotlib.pyplot as plt\n",
    "import seaborn as sns # Cần thiết cho confusion matrix\n",
    "from sklearn.model_selection import train_test_split\n",
    "from sklearn import svm\n",
    "from sklearn.metrics import confusion_matrix, classification_report"
   ]
  },
  {
   "cell_type": "code",
   "execution_count": 3,
   "id": "5d6161c6-78c2-4a54-9936-1ec838b9d41f",
   "metadata": {},
   "outputs": [
    {
     "data": {
      "text/html": [
       "<div>\n",
       "<style scoped>\n",
       "    .dataframe tbody tr th:only-of-type {\n",
       "        vertical-align: middle;\n",
       "    }\n",
       "\n",
       "    .dataframe tbody tr th {\n",
       "        vertical-align: top;\n",
       "    }\n",
       "\n",
       "    .dataframe thead th {\n",
       "        text-align: right;\n",
       "    }\n",
       "</style>\n",
       "<table border=\"1\" class=\"dataframe\">\n",
       "  <thead>\n",
       "    <tr style=\"text-align: right;\">\n",
       "      <th></th>\n",
       "      <th>AnimalName</th>\n",
       "      <th>symptoms1</th>\n",
       "      <th>symptoms2</th>\n",
       "      <th>symptoms3</th>\n",
       "      <th>symptoms4</th>\n",
       "      <th>symptoms5</th>\n",
       "      <th>Dangerous</th>\n",
       "    </tr>\n",
       "  </thead>\n",
       "  <tbody>\n",
       "    <tr>\n",
       "      <th>0</th>\n",
       "      <td>Dog</td>\n",
       "      <td>Fever</td>\n",
       "      <td>Diarrhea</td>\n",
       "      <td>Vomiting</td>\n",
       "      <td>Weight loss</td>\n",
       "      <td>Dehydration</td>\n",
       "      <td>Yes</td>\n",
       "    </tr>\n",
       "    <tr>\n",
       "      <th>1</th>\n",
       "      <td>Dog</td>\n",
       "      <td>Fever</td>\n",
       "      <td>Diarrhea</td>\n",
       "      <td>Coughing</td>\n",
       "      <td>Tiredness</td>\n",
       "      <td>Pains</td>\n",
       "      <td>Yes</td>\n",
       "    </tr>\n",
       "    <tr>\n",
       "      <th>2</th>\n",
       "      <td>Dog</td>\n",
       "      <td>Fever</td>\n",
       "      <td>Diarrhea</td>\n",
       "      <td>Coughing</td>\n",
       "      <td>Vomiting</td>\n",
       "      <td>Anorexia</td>\n",
       "      <td>Yes</td>\n",
       "    </tr>\n",
       "    <tr>\n",
       "      <th>3</th>\n",
       "      <td>Dog</td>\n",
       "      <td>Fever</td>\n",
       "      <td>Difficulty breathing</td>\n",
       "      <td>Coughing</td>\n",
       "      <td>Lethargy</td>\n",
       "      <td>Sneezing</td>\n",
       "      <td>Yes</td>\n",
       "    </tr>\n",
       "    <tr>\n",
       "      <th>4</th>\n",
       "      <td>Dog</td>\n",
       "      <td>Fever</td>\n",
       "      <td>Diarrhea</td>\n",
       "      <td>Coughing</td>\n",
       "      <td>Lethargy</td>\n",
       "      <td>Blue Eye</td>\n",
       "      <td>Yes</td>\n",
       "    </tr>\n",
       "  </tbody>\n",
       "</table>\n",
       "</div>"
      ],
      "text/plain": [
       "  AnimalName symptoms1             symptoms2 symptoms3    symptoms4  \\\n",
       "0        Dog     Fever              Diarrhea  Vomiting  Weight loss   \n",
       "1        Dog     Fever              Diarrhea  Coughing    Tiredness   \n",
       "2        Dog     Fever              Diarrhea  Coughing     Vomiting   \n",
       "3        Dog     Fever  Difficulty breathing  Coughing     Lethargy   \n",
       "4        Dog     Fever              Diarrhea  Coughing     Lethargy   \n",
       "\n",
       "     symptoms5 Dangerous  \n",
       "0  Dehydration       Yes  \n",
       "1        Pains       Yes  \n",
       "2     Anorexia       Yes  \n",
       "3     Sneezing       Yes  \n",
       "4     Blue Eye       Yes  "
      ]
     },
     "execution_count": 3,
     "metadata": {},
     "output_type": "execute_result"
    }
   ],
   "source": [
    "# 2. Nạp dữ liệu \n",
    "df = pd.read_csv('../data/2.2.4 Bài tập thực hành 2/data.csv')\n",
    "df.head()"
   ]
  },
  {
   "cell_type": "code",
   "execution_count": 5,
   "id": "9c78f2ff-56b6-49e8-b170-e294d2756f8e",
   "metadata": {},
   "outputs": [
    {
     "name": "stdout",
     "output_type": "stream",
     "text": [
      "Tiền xử lý thành công. Dữ liệu đã sẵn sàng.\n",
      "Số lượng features (sau get_dummies): 1147\n",
      "Tổng số mẫu (sau khi lọc NaN): 869\n",
      "Số mẫu Huấn luyện (Train): 695\n",
      "Số mẫu Kiểm tra (Test): 174\n"
     ]
    }
   ],
   "source": [
    "# 3. Tiền xử lý dữ liệu\n",
    "if 'df' in locals():\n",
    "    # 3.1 Xử lý giá trị thiếu (bỏ 2 dòng có 'Dangerous' là NaN)\n",
    "    df.dropna(subset=['Dangerous'], inplace=True)\n",
    "\n",
    "    # 3.2 Tạo 'target' (y)\n",
    "    # Chuyển cột 'Dangerous' (Yes/No) thành số (1/0)\n",
    "    target = df['Dangerous'].map({'Yes': 1, 'No': 0}).values\n",
    "    \n",
    "    # 3.3 Tạo 'data' (X)\n",
    "    # Xác định các cột features (toàn bộ là chữ)\n",
    "    feature_cols = ['AnimalName', 'symptoms1', 'symptoms2', 'symptoms3', 'symptoms4', 'symptoms5']\n",
    "    # Dùng get_dummies để chuyển tất cả cột chữ thành số\n",
    "    df_processed = pd.get_dummies(df[feature_cols], drop_first=True)\n",
    "    data = df_processed.values\n",
    "    \n",
    "    # 3.4 Lấy tên các features (để tham khảo)\n",
    "    features_names = df_processed.columns.tolist()\n",
    "\n",
    "    print(\"Tiền xử lý thành công. Dữ liệu đã sẵn sàng.\")\n",
    "    print(f\"Số lượng features (sau get_dummies): {len(features_names)}\")\n",
    "\n",
    "    # 4. Chia dữ liệu (Giống random_state trong bài mẫu SVM)\n",
    "    # Tỉ lệ 80:20, random_state=101\n",
    "    X_train, X_test, y_train, y_test = train_test_split(data, target,\n",
    "                                                        test_size = 0.2, \n",
    "                                                        random_state=101)\n",
    "\n",
    "    print(f\"Tổng số mẫu (sau khi lọc NaN): {len(data)}\")\n",
    "    print(f\"Số mẫu Huấn luyện (Train): {len(X_train)}\")\n",
    "    print(f\"Số mẫu Kiểm tra (Test): {len(X_test)}\")"
   ]
  },
  {
   "cell_type": "markdown",
   "id": "0c29316b-f2d2-4f6e-b930-99d181e618ef",
   "metadata": {},
   "source": [
    "### 2: MÔ PHỎNG BÀI TOÁN 1 (TÌM KERNEL TỐT NHẤT)"
   ]
  },
  {
   "cell_type": "code",
   "execution_count": 6,
   "id": "d000b1ae-e24a-42ab-a0eb-3d3b2cfcb98b",
   "metadata": {},
   "outputs": [
    {
     "name": "stdout",
     "output_type": "stream",
     "text": [
      "\n",
      "--- 2. Nhiệm vụ 1: Tìm Kernel Tốt nhất (Giống Bài toán 1 - Iris) ---\n",
      "  Kernel: 'linear', Accuracy: 1.0000\n",
      "  Kernel: 'poly', Accuracy: 0.9655\n",
      "  Kernel: 'rbf', Accuracy: 0.9655\n",
      "  Kernel: 'sigmoid', Accuracy: 0.9713\n",
      "\n",
      "--- Kết quả Nhiệm vụ 1 ---\n",
      "Best validation accuracy : 1.0000 with kernel: 'linear'\n"
     ]
    }
   ],
   "source": [
    "if 'df' in locals():\n",
    "    print(\"\\n--- 2. Nhiệm vụ 1: Tìm Kernel Tốt nhất (Giống Bài toán 1 - Iris) ---\")\n",
    "    \n",
    "    # 4. Tìm tham số kernel tối ưu\n",
    "    kernels = ['linear', 'poly', 'rbf', 'sigmoid']\n",
    "    best_svm = None\n",
    "    best_val_acc = -1\n",
    "    best_kernel = None\n",
    "    \n",
    "    # Vòng lặp for để duyệt qua các kernel (Giống hệt bài mẫu)\n",
    "    for kernel_name in kernels:\n",
    "        # Khởi tạo mô hình\n",
    "        clf = svm.SVC(kernel=kernel_name, probability=True)\n",
    "        \n",
    "        # Huấn luyện mô hình\n",
    "        clf.fit(X_train, y_train)\n",
    "        \n",
    "        # Tính độ chính xác trên tập kiểm tra\n",
    "        tmp_val_acc = clf.score(X_test, y_test)\n",
    "        \n",
    "        print(f\"  Kernel: '{kernel_name}', Accuracy: {tmp_val_acc:.4f}\")\n",
    "        \n",
    "        # Cập nhật mô hình tốt nhất\n",
    "        if (tmp_val_acc > best_val_acc):\n",
    "            best_val_acc = tmp_val_acc\n",
    "            best_svm = clf # Lưu lại mô hình tốt nhất\n",
    "            best_kernel = kernel_name\n",
    "    \n",
    "    # Hiển thị mô hình tốt nhất\n",
    "    print(f\"\\n--- Kết quả Nhiệm vụ 1 ---\")\n",
    "    print(f\"Best validation accuracy : {best_val_acc:.4f} with kernel: '{best_kernel}'\")"
   ]
  },
  {
   "cell_type": "markdown",
   "id": "a8d39f03-c033-49a9-973a-3d7750fc734d",
   "metadata": {},
   "source": [
    "### 3: MÔ PHỎNG BÀI TOÁN 2 (ĐÁNH GIÁ CHI TIẾT)"
   ]
  },
  {
   "cell_type": "code",
   "execution_count": 7,
   "id": "a882be51-3e4b-4df5-960c-d2352a5d2706",
   "metadata": {},
   "outputs": [
    {
     "name": "stdout",
     "output_type": "stream",
     "text": [
      "\n",
      "--- 3. Nhiệm vụ 2: Đánh giá chi tiết (Giống Bài toán 2 - Digits) ---\n",
      "Sử dụng mô hình tốt nhất (kernel='linear') để dự đoán trên tập Test...\n",
      "\n",
      "Đang tạo Ma trận nhầm lẫn (Confusion Matrix)...\n"
     ]
    },
    {
     "data": {
      "image/png": "[encoded data removed]",
      "text/plain": [
       "<Figure size 800x500 with 2 Axes>"
      ]
     },
     "metadata": {},
     "output_type": "display_data"
    },
    {
     "name": "stdout",
     "output_type": "stream",
     "text": [
      "\n",
      "--- Báo cáo Phân loại (Classification Report) ---\n",
      "              precision    recall  f1-score   support\n",
      "\n",
      "          No       1.00      1.00      1.00         6\n",
      "         Yes       1.00      1.00      1.00       168\n",
      "\n",
      "    accuracy                           1.00       174\n",
      "   macro avg       1.00      1.00      1.00       174\n",
      "weighted avg       1.00      1.00      1.00       174\n",
      "\n"
     ]
    }
   ],
   "source": [
    "if 'df' in locals():\n",
    "    print(\"\\n--- 3. Nhiệm vụ 2: Đánh giá chi tiết (Giống Bài toán 2 - Digits) ---\")\n",
    "    \n",
    "    # 1. Chuẩn bị:\n",
    "    # Sử dụng mô hình tốt nhất (best_svm) đã tìm được ở trên\n",
    "    print(f\"Sử dụng mô hình tốt nhất (kernel='{best_kernel}') để dự đoán trên tập Test...\")\n",
    "    predictions = best_svm.predict(X_test)\n",
    "\n",
    "    # 2. Đánh giá hiệu quả với Confusion Matrix\n",
    "    print(\"\\nĐang tạo Ma trận nhầm lẫn (Confusion Matrix)...\")\n",
    "    # (So sánh nhãn thực tế y_test với nhãn dự đoán predictions)\n",
    "    cm = confusion_matrix(y_test, predictions)\n",
    "    \n",
    "    # Tạo nhãn cho ma trận\n",
    "    conf_matrix = pd.DataFrame(data = cm, \n",
    "                               columns = ['Dự đoán: No (0)', 'Dự đoán: Yes (1)'],\n",
    "                               index = ['Thực tế: No (0)', 'Thực tế: Yes (1)'])\n",
    "\n",
    "    plt.figure(figsize = (8,5))\n",
    "    sns.heatmap(conf_matrix, annot=True, fmt='d', cmap=\"YlGnBu\")\n",
    "    plt.title(f\"Ma trận nhầm lẫn (Confusion Matrix) - Kernel: '{best_kernel}'\")\n",
    "    plt.xlabel(\"Dự đoán (Predicted)\")\n",
    "    plt.ylabel(\"Thực tế (Actual)\")\n",
    "    plt.show()\n",
    "\n",
    "    # 3. In kết quả dạng văn bản (Classification Report)\n",
    "    print(\"\\n--- Báo cáo Phân loại (Classification Report) ---\")\n",
    "    # Cập nhật tên lớp cho đúng\n",
    "    class_names = ['No', 'Yes']\n",
    "    \n",
    "    print(classification_report(y_test, predictions, target_names=class_names))"
   ]
  },
  {
   "cell_type": "code",
   "execution_count": 9,
   "id": "c08cfa5a-f875-499b-8692-a709368451a0",
   "metadata": {},
   "outputs": [
    {
     "name": "stderr",
     "output_type": "stream",
     "text": [
      "[NbConvertApp] Converting notebook 2.2.4. Bài tập thực hành 2.ipynb to html\n",
      "[NbConvertApp] WARNING | Alternative text is missing on 1 image(s).\n",
      "[NbConvertApp] Writing 345581 bytes to 2.2.4. Bài tập thực hành 2.html\n"
     ]
    }
   ],
   "source": [
    "!jupyter nbconvert --to html \"2.2.4. Bài tập thực hành 2.ipynb\""
   ]
  },
  {
   "cell_type": "code",
   "execution_count": null,
   "id": "114030b4-fc0b-4327-9635-36373c4356dc",
   "metadata": {},
   "outputs": [],
   "source": []
  }
 ],
 "metadata": {
  "kernelspec": {
   "display_name": "Python [conda env:base] *",
   "language": "python",
   "name": "conda-base-py"
  },
  "language_info": {
   "codemirror_mode": {
    "name": "ipython",
    "version": 3
   },
   "file_extension": ".py",
   "mimetype": "text/x-python",
   "name": "python",
   "nbconvert_exporter": "python",
   "pygments_lexer": "ipython3",
   "version": "3.13.5"
  }
 },
 "nbformat": 4,
 "nbformat_minor": 5
}
