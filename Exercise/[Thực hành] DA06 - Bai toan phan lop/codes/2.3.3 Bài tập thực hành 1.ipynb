{
 "cells": [
  {
   "cell_type": "markdown",
   "id": "7d634bdc-0239-4c6e-9196-8d42e46bbb62",
   "metadata": {},
   "source": [
    "# Xây dựng mô hình Naïve ngây thơ trên tập dữ liệu hành vi của khách hàng lấy tại\n",
    "https://www.kaggle.com/code/arezalo/customer-behaviour-prediction-naive-bayes"
   ]
  },
  {
   "cell_type": "markdown",
   "id": "a9664100-d862-45ef-a88d-5060c1cc4f3f",
   "metadata": {},
   "source": [
    "## Bài làm"
   ]
  },
  {
   "cell_type": "markdown",
   "id": "2d3702fa-1477-4719-b70e-4a3371146165",
   "metadata": {},
   "source": [
    "### 1. Import thư viện và nạp dữ liệu"
   ]
  },
  {
   "cell_type": "code",
   "execution_count": 3,
   "id": "ad372deb-65e8-4771-a268-76af31dbd27f",
   "metadata": {},
   "outputs": [
    {
     "data": {
      "text/html": [
       "<div>\n",
       "<style scoped>\n",
       "    .dataframe tbody tr th:only-of-type {\n",
       "        vertical-align: middle;\n",
       "    }\n",
       "\n",
       "    .dataframe tbody tr th {\n",
       "        vertical-align: top;\n",
       "    }\n",
       "\n",
       "    .dataframe thead th {\n",
       "        text-align: right;\n",
       "    }\n",
       "</style>\n",
       "<table border=\"1\" class=\"dataframe\">\n",
       "  <thead>\n",
       "    <tr style=\"text-align: right;\">\n",
       "      <th></th>\n",
       "      <th>User ID</th>\n",
       "      <th>Gender</th>\n",
       "      <th>Age</th>\n",
       "      <th>EstimatedSalary</th>\n",
       "      <th>Purchased</th>\n",
       "    </tr>\n",
       "  </thead>\n",
       "  <tbody>\n",
       "    <tr>\n",
       "      <th>0</th>\n",
       "      <td>15624510</td>\n",
       "      <td>Male</td>\n",
       "      <td>19</td>\n",
       "      <td>19000</td>\n",
       "      <td>0</td>\n",
       "    </tr>\n",
       "    <tr>\n",
       "      <th>1</th>\n",
       "      <td>15810944</td>\n",
       "      <td>Male</td>\n",
       "      <td>35</td>\n",
       "      <td>20000</td>\n",
       "      <td>0</td>\n",
       "    </tr>\n",
       "    <tr>\n",
       "      <th>2</th>\n",
       "      <td>15668575</td>\n",
       "      <td>Female</td>\n",
       "      <td>26</td>\n",
       "      <td>43000</td>\n",
       "      <td>0</td>\n",
       "    </tr>\n",
       "    <tr>\n",
       "      <th>3</th>\n",
       "      <td>15603246</td>\n",
       "      <td>Female</td>\n",
       "      <td>27</td>\n",
       "      <td>57000</td>\n",
       "      <td>0</td>\n",
       "    </tr>\n",
       "    <tr>\n",
       "      <th>4</th>\n",
       "      <td>15804002</td>\n",
       "      <td>Male</td>\n",
       "      <td>19</td>\n",
       "      <td>76000</td>\n",
       "      <td>0</td>\n",
       "    </tr>\n",
       "  </tbody>\n",
       "</table>\n",
       "</div>"
      ],
      "text/plain": [
       "    User ID  Gender  Age  EstimatedSalary  Purchased\n",
       "0  15624510    Male   19            19000          0\n",
       "1  15810944    Male   35            20000          0\n",
       "2  15668575  Female   26            43000          0\n",
       "3  15603246  Female   27            57000          0\n",
       "4  15804002    Male   19            76000          0"
      ]
     },
     "execution_count": 3,
     "metadata": {},
     "output_type": "execute_result"
    }
   ],
   "source": [
    "# 1. Import thư viện và nạp dữ liệu (Giống bài mẫu)\n",
    "import numpy as np\n",
    "import pandas as pd\n",
    "from sklearn.model_selection import train_test_split\n",
    "from sklearn.metrics import accuracy_score, confusion_matrix, classification_report\n",
    "import seaborn as sns # Thêm thư viện để vẽ ma trận nhầm lẫn\n",
    "import matplotlib.pyplot as plt\n",
    "\n",
    "from sklearn.naive_bayes import GaussianNB\n",
    "from sklearn.preprocessing import StandardScaler\n",
    "\n",
    "data = pd.read_csv('../data/2.3.3 Bài tập thực hành 1/Customer_Behaviour.csv', encoding='latin-1')\n",
    "data.head()"
   ]
  },
  {
   "cell_type": "markdown",
   "id": "c31ba39e-7ecc-4b95-9e46-a82612f72200",
   "metadata": {},
   "source": [
    "### 2. Xử lý dữ liệu"
   ]
  },
  {
   "cell_type": "code",
   "execution_count": 4,
   "id": "6645bdc0-002b-42fc-a326-43e35829c120",
   "metadata": {},
   "outputs": [
    {
     "name": "stdout",
     "output_type": "stream",
     "text": [
      "Dữ liệu sau khi xử lý 'Gender':\n",
      "   Age  EstimatedSalary  Purchased  Gender_Male\n",
      "0   19            19000          0         True\n",
      "1   35            20000          0         True\n",
      "2   26            43000          0        False\n",
      "3   27            57000          0        False\n",
      "4   19            76000          0         True\n"
     ]
    }
   ],
   "source": [
    "if 'data' in locals():\n",
    "    # Bỏ cột không cần thiết (Giống bài mẫu bỏ 'Unnamed')\n",
    "    data = data.drop(columns=['User ID'], axis=1)\n",
    "    \n",
    "    # Chuyển đổi cột 'Gender' thành số (0 và 1)\n",
    "    data = pd.get_dummies(data, columns=['Gender'], drop_first=True)\n",
    "    print(\"Dữ liệu sau khi xử lý 'Gender':\")\n",
    "    print(data.head())\n",
    "    \n",
    "    # Separate features (X) and target labels (y)\n",
    "    # Target (y) của chúng ta là 'Purchased'\n",
    "    X = data.drop('Purchased', axis=1)\n",
    "    y = data['Purchased']\n",
    "    \n",
    "    # Split the data (Giống bài mẫu)\n",
    "    X_train, X_test, y_train, y_test = train_test_split(X, y, test_size=0.2, random_state=42)"
   ]
  },
  {
   "cell_type": "markdown",
   "id": "84be503f-cd42-4096-9e0a-91f87aaef992",
   "metadata": {},
   "source": [
    "### 3. CHUẨN HÓA"
   ]
  },
  {
   "cell_type": "code",
   "execution_count": 6,
   "id": "cd464449-24c2-4ebd-8b95-a19cfb502d90",
   "metadata": {},
   "outputs": [],
   "source": [
    "# Chúng ta dùng StandardScaler để chuẩn hóa dữ liệu số (Age, Salary)\n",
    "if 'data' in locals():\n",
    "    scaler = StandardScaler()\n",
    "    # Fit and transform the training data (X_train)\n",
    "    X_train_scaled = scaler.fit_transform(X_train)\n",
    "    # Transform the test data (X_test)\n",
    "    X_test_scaled = scaler.transform(X_test)"
   ]
  },
  {
   "cell_type": "markdown",
   "id": "28e5d8b8-aef7-427c-b30c-691bdb05f372",
   "metadata": {},
   "source": [
    "###  4. Xây dựng mô hình Naïve Bayes"
   ]
  },
  {
   "cell_type": "code",
   "execution_count": 8,
   "id": "9f1f0549-2540-4c42-bc99-ffcee9cb76da",
   "metadata": {},
   "outputs": [],
   "source": [
    "if 'data' in locals():\n",
    "    classifier = GaussianNB()\n",
    "    classifier.fit(X_train_scaled, y_train) # Huấn luyện trên dữ liệu đã chuẩn hóa"
   ]
  },
  {
   "cell_type": "markdown",
   "id": "88afe408-1a69-405d-ba44-4e289a956142",
   "metadata": {},
   "source": [
    "### 5. Đánh giá hiệu quả của mô hình"
   ]
  },
  {
   "cell_type": "code",
   "execution_count": 9,
   "id": "0e19e56d-2104-40e0-9bf8-9f312fe69694",
   "metadata": {},
   "outputs": [
    {
     "name": "stdout",
     "output_type": "stream",
     "text": [
      "\n",
      "--- 5. Đánh giá hiệu quả mô hình ---\n",
      "Accuracy: 0.9375\n",
      "Confusion Matrix:\n",
      "[[50  2]\n",
      " [ 3 25]]\n",
      "Classification Report:\n",
      "              precision    recall  f1-score   support\n",
      "\n",
      "           0       0.94      0.96      0.95        52\n",
      "           1       0.93      0.89      0.91        28\n",
      "\n",
      "    accuracy                           0.94        80\n",
      "   macro avg       0.93      0.93      0.93        80\n",
      "weighted avg       0.94      0.94      0.94        80\n",
      "\n"
     ]
    },
    {
     "data": {
      "image/png": "[encoded data removed]",
      "text/plain": [
       "<Figure size 600x400 with 2 Axes>"
      ]
     },
     "metadata": {},
     "output_type": "display_data"
    }
   ],
   "source": [
    "if 'data' in locals():\n",
    "    print(\"\\n--- 5. Đánh giá hiệu quả mô hình ---\")\n",
    "    # Make predictions on the test data (đã chuẩn hóa)\n",
    "    y_pred = classifier.predict(X_test_scaled)\n",
    "    \n",
    "    # Evaluate the model\n",
    "    accuracy = accuracy_score(y_test, y_pred)\n",
    "    conf_matrix = confusion_matrix(y_test, y_pred)\n",
    "    classification_rep = classification_report(y_test, y_pred)\n",
    "    \n",
    "    print(f\"Accuracy: {accuracy:.4f}\") # In 4 số lẻ cho rõ\n",
    "    print(\"Confusion Matrix:\")\n",
    "    print(conf_matrix)\n",
    "    print(\"Classification Report:\")\n",
    "    print(classification_rep)\n",
    "    \n",
    "    # Vẽ ma trận nhầm lẫn cho đẹp hơn (Giống bài SVM)\n",
    "    plt.figure(figsize=(6, 4))\n",
    "    sns.heatmap(conf_matrix, annot=True, fmt='d', cmap=\"YlGnBu\", \n",
    "                xticklabels=['Not Purchased', 'Purchased'], \n",
    "                yticklabels=['Not Purchased', 'Purchased'])\n",
    "    plt.title('Ma trận nhầm lẫn - Gaussian Naïve Bayes')\n",
    "    plt.xlabel('Dự đoán (Predicted)')\n",
    "    plt.ylabel('Thực tế (Actual)')\n",
    "    plt.show()"
   ]
  },
  {
   "cell_type": "code",
   "execution_count": 10,
   "id": "40837d34-611f-42c7-9cdb-780c6d6aa4f9",
   "metadata": {},
   "outputs": [
    {
     "name": "stderr",
     "output_type": "stream",
     "text": [
      "[NbConvertApp] Converting notebook 2.3.3 Bài tập thực hành 1.ipynb to html\n",
      "[NbConvertApp] Writing 282805 bytes to 2.3.3 Bài tập thực hành 1.html\n"
     ]
    }
   ],
   "source": [
    "!jupyter nbconvert --to html \"2.3.3 Bài tập thực hành 1.ipynb\""
   ]
  },
  {
   "cell_type": "code",
   "execution_count": null,
   "id": "22e084cd-ab2b-4d85-9a7e-3fd1037a4eb0",
   "metadata": {},
   "outputs": [],
   "source": []
  }
 ],
 "metadata": {
  "kernelspec": {
   "display_name": "Python [conda env:base] *",
   "language": "python",
   "name": "conda-base-py"
  },
  "language_info": {
   "codemirror_mode": {
    "name": "ipython",
    "version": 3
   },
   "file_extension": ".py",
   "mimetype": "text/x-python",
   "name": "python",
   "nbconvert_exporter": "python",
   "pygments_lexer": "ipython3",
   "version": "3.13.5"
  }
 },
 "nbformat": 4,
 "nbformat_minor": 5
}
