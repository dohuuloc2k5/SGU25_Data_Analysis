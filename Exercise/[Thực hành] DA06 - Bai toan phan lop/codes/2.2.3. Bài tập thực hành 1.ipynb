{
 "cells": [
  {
   "cell_type": "markdown",
   "id": "3b4ec98e-c921-4484-9647-8605bcbea21e",
   "metadata": {},
   "source": [
    "# Xây dựng mô hình từ giải thuật SVM trên dữ liệu bệnh tiểu đường. Dữ liệu lấy từ\n",
    "https://www.kaggle.com/code/tumpanjawat/diabetes-eda-random-forest-hp"
   ]
  },
  {
   "cell_type": "markdown",
   "id": "e2703f8a-c43b-43e0-a4a9-50e34f42957d",
   "metadata": {},
   "source": [
    "### Bài làm"
   ]
  },
  {
   "cell_type": "markdown",
   "id": "4b249708-0a66-477a-af23-dfede92566e8",
   "metadata": {},
   "source": [
    "### 1. TẢI THƯ VIỆN VÀ CHUẨN BỊ DỮ LIỆU"
   ]
  },
  {
   "cell_type": "code",
   "execution_count": 2,
   "id": "0e34c8de-f1a7-46be-b52e-bbe6f4b88f12",
   "metadata": {},
   "outputs": [],
   "source": [
    "# 1. Import các thư viện cần thiết\n",
    "import pandas as pd\n",
    "import numpy as np\n",
    "import matplotlib as mpl\n",
    "import matplotlib.pyplot as plt\n",
    "import seaborn as sns # Cần thiết cho confusion matrix\n",
    "from sklearn.model_selection import train_test_split\n",
    "from sklearn import svm\n",
    "from sklearn.metrics import confusion_matrix, classification_report"
   ]
  },
  {
   "cell_type": "code",
   "execution_count": 5,
   "id": "46379dd5-8495-4918-a01c-cb0d7f5177fb",
   "metadata": {},
   "outputs": [
    {
     "data": {
      "text/html": [
       "<div>\n",
       "<style scoped>\n",
       "    .dataframe tbody tr th:only-of-type {\n",
       "        vertical-align: middle;\n",
       "    }\n",
       "\n",
       "    .dataframe tbody tr th {\n",
       "        vertical-align: top;\n",
       "    }\n",
       "\n",
       "    .dataframe thead th {\n",
       "        text-align: right;\n",
       "    }\n",
       "</style>\n",
       "<table border=\"1\" class=\"dataframe\">\n",
       "  <thead>\n",
       "    <tr style=\"text-align: right;\">\n",
       "      <th></th>\n",
       "      <th>gender</th>\n",
       "      <th>age</th>\n",
       "      <th>hypertension</th>\n",
       "      <th>heart_disease</th>\n",
       "      <th>smoking_history</th>\n",
       "      <th>bmi</th>\n",
       "      <th>HbA1c_level</th>\n",
       "      <th>blood_glucose_level</th>\n",
       "      <th>diabetes</th>\n",
       "    </tr>\n",
       "  </thead>\n",
       "  <tbody>\n",
       "    <tr>\n",
       "      <th>0</th>\n",
       "      <td>Female</td>\n",
       "      <td>80.0</td>\n",
       "      <td>0</td>\n",
       "      <td>1</td>\n",
       "      <td>never</td>\n",
       "      <td>25.19</td>\n",
       "      <td>6.6</td>\n",
       "      <td>140</td>\n",
       "      <td>0</td>\n",
       "    </tr>\n",
       "    <tr>\n",
       "      <th>1</th>\n",
       "      <td>Female</td>\n",
       "      <td>54.0</td>\n",
       "      <td>0</td>\n",
       "      <td>0</td>\n",
       "      <td>No Info</td>\n",
       "      <td>27.32</td>\n",
       "      <td>6.6</td>\n",
       "      <td>80</td>\n",
       "      <td>0</td>\n",
       "    </tr>\n",
       "    <tr>\n",
       "      <th>2</th>\n",
       "      <td>Male</td>\n",
       "      <td>28.0</td>\n",
       "      <td>0</td>\n",
       "      <td>0</td>\n",
       "      <td>never</td>\n",
       "      <td>27.32</td>\n",
       "      <td>5.7</td>\n",
       "      <td>158</td>\n",
       "      <td>0</td>\n",
       "    </tr>\n",
       "    <tr>\n",
       "      <th>3</th>\n",
       "      <td>Female</td>\n",
       "      <td>36.0</td>\n",
       "      <td>0</td>\n",
       "      <td>0</td>\n",
       "      <td>current</td>\n",
       "      <td>23.45</td>\n",
       "      <td>5.0</td>\n",
       "      <td>155</td>\n",
       "      <td>0</td>\n",
       "    </tr>\n",
       "    <tr>\n",
       "      <th>4</th>\n",
       "      <td>Male</td>\n",
       "      <td>76.0</td>\n",
       "      <td>1</td>\n",
       "      <td>1</td>\n",
       "      <td>current</td>\n",
       "      <td>20.14</td>\n",
       "      <td>4.8</td>\n",
       "      <td>155</td>\n",
       "      <td>0</td>\n",
       "    </tr>\n",
       "  </tbody>\n",
       "</table>\n",
       "</div>"
      ],
      "text/plain": [
       "   gender   age  hypertension  heart_disease smoking_history    bmi  \\\n",
       "0  Female  80.0             0              1           never  25.19   \n",
       "1  Female  54.0             0              0         No Info  27.32   \n",
       "2    Male  28.0             0              0           never  27.32   \n",
       "3  Female  36.0             0              0         current  23.45   \n",
       "4    Male  76.0             1              1         current  20.14   \n",
       "\n",
       "   HbA1c_level  blood_glucose_level  diabetes  \n",
       "0          6.6                  140         0  \n",
       "1          6.6                   80         0  \n",
       "2          5.7                  158         0  \n",
       "3          5.0                  155         0  \n",
       "4          4.8                  155         0  "
      ]
     },
     "execution_count": 5,
     "metadata": {},
     "output_type": "execute_result"
    }
   ],
   "source": [
    "# 2. Nạp dữ liệu\n",
    "df = pd.read_csv('../data/2.2.3. Bài tập thực hành 1/diabetes_prediction_dataset.csv')\n",
    "df.head()"
   ]
  },
  {
   "cell_type": "code",
   "execution_count": 6,
   "id": "ada2c49f-53ab-4b6d-958d-2b2b47d1b85d",
   "metadata": {},
   "outputs": [],
   "source": [
    "# 3. Tiền xử lý dữ liệu (get_dummies)\n",
    "df_processed = pd.get_dummies(df, columns=['gender', 'smoking_history'], drop_first=True)"
   ]
  },
  {
   "cell_type": "code",
   "execution_count": 7,
   "id": "cce16977-7ebd-4996-939f-0219023e57c2",
   "metadata": {},
   "outputs": [],
   "source": [
    "# 4. Tách features (đặc trưng) và target (nhãn)\n",
    "target_name = 'diabetes'\n",
    "features_names = [col for col in df_processed.columns if col != target_name]\n",
    "data = df_processed[features_names].values\n",
    "target = df_processed[target_name].values"
   ]
  },
  {
   "cell_type": "code",
   "execution_count": 8,
   "id": "25f12e4a-1564-4a33-9df7-1dfdeb712a6a",
   "metadata": {},
   "outputs": [
    {
     "name": "stdout",
     "output_type": "stream",
     "text": [
      "Tổng số mẫu: 100000\n",
      "Số mẫu Huấn luyện (Train): 80000\n",
      "Số mẫu Kiểm tra (Test): 20000\n"
     ]
    }
   ],
   "source": [
    "# 5. Chia dữ liệu (Giống random_state trong bài mẫu SVM)\n",
    "# Tỉ lệ 80:20, random_state=101\n",
    "X_train, X_test, y_train, y_test = train_test_split(data, target,\n",
    "                                                    test_size = 0.2, \n",
    "                                                    random_state=101)\n",
    "\n",
    "print(f\"Tổng số mẫu: {len(data)}\")\n",
    "print(f\"Số mẫu Huấn luyện (Train): {len(X_train)}\")\n",
    "print(f\"Số mẫu Kiểm tra (Test): {len(X_test)}\")"
   ]
  },
  {
   "cell_type": "markdown",
   "id": "86c59dff-32b7-4260-a1ba-c5d7a98a2e90",
   "metadata": {},
   "source": [
    "### 2: MÔ PHỎNG BÀI TOÁN 1 (TÌM KERNEL TỐT NHẤT)"
   ]
  },
  {
   "cell_type": "code",
   "execution_count": 9,
   "id": "5d77f2be-4688-42d3-90bc-e4fc3f832c07",
   "metadata": {},
   "outputs": [
    {
     "name": "stdout",
     "output_type": "stream",
     "text": [
      "Sử dụng tập con 1500 mẫu để huấn luyện vòng lặp kernel...\n",
      "Đang huấn luyện với kernel='linear'...\n",
      "Đang huấn luyện với kernel='poly'...\n",
      "Đang huấn luyện với kernel='rbf'...\n",
      "Đang huấn luyện với kernel='sigmoid'...\n",
      "\n",
      "--- Kết quả Nhiệm vụ 1 ---\n",
      "Best validation accuracy : 0.9594 with kernel: 'linear'\n"
     ]
    }
   ],
   "source": [
    "# Nhiệm vụ 1: Tìm Kernel Tốt nhất\n",
    "SUBSET_SIZE = 1500\n",
    "X_train_sub = X_train[:SUBSET_SIZE]\n",
    "y_train_sub = y_train[:SUBSET_SIZE]\n",
    "print(f\"Sử dụng tập con {SUBSET_SIZE} mẫu để huấn luyện vòng lặp kernel...\")\n",
    "\n",
    "# 4. Tìm tham số kernel tối ưu\n",
    "kernels = ['linear', 'poly', 'rbf', 'sigmoid']\n",
    "best_svm = None\n",
    "best_val_acc = -1\n",
    "best_kernel = None\n",
    "\n",
    "# Vòng lặp for để duyệt qua các kernel (Giống hệt bài mẫu)\n",
    "for kernel_name in kernels:\n",
    "    print(f\"Đang huấn luyện với kernel='{kernel_name}'...\")\n",
    "    # Khởi tạo mô hình\n",
    "    clf = svm.SVC(kernel=kernel_name, probability=True)\n",
    "    \n",
    "    # Huấn luyện mô hình\n",
    "    clf.fit(X_train_sub, y_train_sub)\n",
    "    \n",
    "    # Tính độ chính xác trên tập kiểm tra\n",
    "    tmp_val_acc = clf.score(X_test, y_test)\n",
    "    \n",
    "    # Cập nhật mô hình tốt nhất\n",
    "    if (tmp_val_acc > best_val_acc):\n",
    "        best_val_acc = tmp_val_acc\n",
    "        best_svm = clf\n",
    "        best_kernel = kernel_name\n",
    "\n",
    "# Hiển thị mô hình tốt nhất\n",
    "print(f\"\\n--- Kết quả Nhiệm vụ 1 ---\")\n",
    "print(f\"Best validation accuracy : {best_val_acc:.4f} with kernel: '{best_kernel}'\")"
   ]
  },
  {
   "cell_type": "markdown",
   "id": "2e25c759-8d8f-4536-820d-8522c4b83dec",
   "metadata": {},
   "source": [
    "### 3: MÔ PHỎNG BÀI TOÁN 2 (ĐÁNH GIÁ CHI TIẾT)"
   ]
  },
  {
   "cell_type": "code",
   "execution_count": 10,
   "id": "5051df4a-57d6-47f6-9adf-ea54c4debb41",
   "metadata": {},
   "outputs": [
    {
     "name": "stdout",
     "output_type": "stream",
     "text": [
      "Huấn luyện trên 1500 mẫu đầu tiên của bộ dữ liệu...\n",
      "Dự đoán trên phần còn lại của dữ liệu (từ mẫu 1501 trở đi)...\n",
      "\n",
      "Đang tạo Ma trận nhầm lẫn (Confusion Matrix)...\n",
      "Đã lưu Ma trận nhầm lẫn vào file 'diabetes_svm_confusion_matrix.png'.\n"
     ]
    },
    {
     "data": {
      "image/png": "[encoded data removed]",
      "text/plain": [
       "<Figure size 800x500 with 2 Axes>"
      ]
     },
     "metadata": {},
     "output_type": "display_data"
    },
    {
     "name": "stdout",
     "output_type": "stream",
     "text": [
      "\n",
      "--- Báo cáo Phân loại (Classification Report) ---\n",
      "              precision    recall  f1-score   support\n",
      "\n",
      "           0       0.96      1.00      0.98     90128\n",
      "           1       0.94      0.59      0.72      8372\n",
      "\n",
      "    accuracy                           0.96     98500\n",
      "   macro avg       0.95      0.79      0.85     98500\n",
      "weighted avg       0.96      0.96      0.96     98500\n",
      "\n"
     ]
    }
   ],
   "source": [
    "# 1. Chuẩn bị dữ liệu (Huấn luyện trên 1500 mẫu đầu, dự đoán trên phần còn lại)\n",
    "# (Đây là logic chính xác từ bài mẫu MNIST)\n",
    "TRAIN_COUNT = 1500\n",
    "print(f\"Huấn luyện trên {TRAIN_COUNT} mẫu đầu tiên của bộ dữ liệu...\")\n",
    "data_train = data[:TRAIN_COUNT]\n",
    "target_train = target[:TRAIN_COUNT]\n",
    "\n",
    "print(f\"Dự đoán trên phần còn lại của dữ liệu (từ mẫu {TRAIN_COUNT+1} trở đi)...\")\n",
    "data_predict = data[TRAIN_COUNT:]\n",
    "target_actual = target[TRAIN_COUNT:] # Nhãn thực tế để so sánh\n",
    "\n",
    "# 2. Xây dựng mô hình SVM với tham số cụ thể\n",
    "# (Đây là các tham số từ bài mẫu MNIST)\n",
    "svc_model_2 = svm.SVC(gamma=0.001 , C = 100)\n",
    "\n",
    "# Huấn luyện mô hình\n",
    "svc_model_2.fit(data_train, target_train)\n",
    "\n",
    "# Dự đoán\n",
    "predictions = svc_model_2.predict(data_predict)\n",
    "\n",
    "# 3. Đánh giá hiệu quả với Confusion Matrix\n",
    "print(\"\\nĐang tạo Ma trận nhầm lẫn (Confusion Matrix)...\")\n",
    "cm = confusion_matrix(target_actual, predictions)\n",
    "conf_matrix = pd.DataFrame(data = cm)\n",
    "\n",
    "plt.figure(figsize = (8,5))\n",
    "sns.heatmap(conf_matrix, annot=True, fmt='d', cmap=\"YlGnBu\")\n",
    "plt.title(\"Ma trận nhầm lẫn (Confusion Matrix) - Giống Bài mẫu 2\")\n",
    "plt.xlabel(\"Dự đoán (Predicted)\")\n",
    "plt.ylabel(\"Thực tế (Actual)\")\n",
    "# Lưu hình ảnh ma trận\n",
    "plt.savefig('diabetes_svm_confusion_matrix.png')\n",
    "print(\"Đã lưu Ma trận nhầm lẫn vào file 'diabetes_svm_confusion_matrix.png'.\")\n",
    "plt.show()\n",
    "\n",
    "# 4. In kết quả dạng văn bản (Classification Report)\n",
    "print(\"\\n--- Báo cáo Phân loại (Classification Report) ---\")\n",
    "print(classification_report(target_actual, predictions))"
   ]
  },
  {
   "cell_type": "code",
   "execution_count": 11,
   "id": "72c6e5b0-69ed-44bb-8e95-8edc5d9d99d8",
   "metadata": {},
   "outputs": [
    {
     "name": "stderr",
     "output_type": "stream",
     "text": [
      "[NbConvertApp] Converting notebook 2.2.3. Bài tập thực hành 1.ipynb to html\n",
      "[NbConvertApp] WARNING | Alternative text is missing on 1 image(s).\n",
      "[NbConvertApp] Writing 336245 bytes to 2.2.3. Bài tập thực hành 1.html\n"
     ]
    }
   ],
   "source": [
    "!jupyter nbconvert --to html \"2.2.3. Bài tập thực hành 1.ipynb\""
   ]
  },
  {
   "cell_type": "code",
   "execution_count": null,
   "id": "87c13303-5506-44a2-972b-976ab9ff03d7",
   "metadata": {},
   "outputs": [],
   "source": []
  }
 ],
 "metadata": {
  "kernelspec": {
   "display_name": "Python [conda env:base] *",
   "language": "python",
   "name": "conda-base-py"
  },
  "language_info": {
   "codemirror_mode": {
    "name": "ipython",
    "version": 3
   },
   "file_extension": ".py",
   "mimetype": "text/x-python",
   "name": "python",
   "nbconvert_exporter": "python",
   "pygments_lexer": "ipython3",
   "version": "3.13.5"
  }
 },
 "nbformat": 4,
 "nbformat_minor": 5
}
