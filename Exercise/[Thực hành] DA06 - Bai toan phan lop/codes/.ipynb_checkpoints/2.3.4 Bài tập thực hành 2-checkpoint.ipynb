{
 "cells": [
  {
   "cell_type": "markdown",
   "id": "110fbf95-9924-469c-8f56-20ef5e260386",
   "metadata": {},
   "source": [
    "# Xây dựng mô hình Naïve ngây thơ trên tập dữ liệu mushroom. Dữ liệu lấy tại\n",
    "https://www.kaggle.com/datasets/uciml/mushroom-classification/data"
   ]
  },
  {
   "cell_type": "markdown",
   "id": "1ad9b991-07af-4270-9d08-c991251b62f5",
   "metadata": {},
   "source": [
    "## Bài làm"
   ]
  },
  {
   "cell_type": "markdown",
   "id": "87a59823-7a6c-400e-907f-b42cf44218d2",
   "metadata": {},
   "source": [
    "### 1. Import thư viện và nạp dữ liệu"
   ]
  },
  {
   "cell_type": "code",
   "execution_count": 1,
   "id": "63af65d8-bc91-4bc0-ac0d-d8987512ddf3",
   "metadata": {},
   "outputs": [],
   "source": [
    "import numpy as np\n",
    "import pandas as pd\n",
    "from sklearn.model_selection import train_test_split\n",
    "from sklearn.metrics import accuracy_score, confusion_matrix, classification_report\n",
    "import seaborn as sns # Thêm thư viện để vẽ ma trận nhầm lẫn\n",
    "import matplotlib.pyplot as plt"
   ]
  },
  {
   "cell_type": "code",
   "execution_count": 2,
   "id": "c319ae41-fbd6-4397-b791-ccf3f996d08b",
   "metadata": {},
   "outputs": [],
   "source": [
    "from sklearn.naive_bayes import MultinomialNB"
   ]
  },
  {
   "cell_type": "code",
   "execution_count": 6,
   "id": "fd8ab167-999a-4bb0-bd3b-61e38c9da0ff",
   "metadata": {},
   "outputs": [
    {
     "data": {
      "text/html": [
       "<div>\n",
       "<style scoped>\n",
       "    .dataframe tbody tr th:only-of-type {\n",
       "        vertical-align: middle;\n",
       "    }\n",
       "\n",
       "    .dataframe tbody tr th {\n",
       "        vertical-align: top;\n",
       "    }\n",
       "\n",
       "    .dataframe thead th {\n",
       "        text-align: right;\n",
       "    }\n",
       "</style>\n",
       "<table border=\"1\" class=\"dataframe\">\n",
       "  <thead>\n",
       "    <tr style=\"text-align: right;\">\n",
       "      <th></th>\n",
       "      <th>class</th>\n",
       "      <th>cap-shape</th>\n",
       "      <th>cap-surface</th>\n",
       "      <th>cap-color</th>\n",
       "      <th>bruises</th>\n",
       "      <th>odor</th>\n",
       "      <th>gill-attachment</th>\n",
       "      <th>gill-spacing</th>\n",
       "      <th>gill-size</th>\n",
       "      <th>gill-color</th>\n",
       "      <th>...</th>\n",
       "      <th>stalk-surface-below-ring</th>\n",
       "      <th>stalk-color-above-ring</th>\n",
       "      <th>stalk-color-below-ring</th>\n",
       "      <th>veil-type</th>\n",
       "      <th>veil-color</th>\n",
       "      <th>ring-number</th>\n",
       "      <th>ring-type</th>\n",
       "      <th>spore-print-color</th>\n",
       "      <th>population</th>\n",
       "      <th>habitat</th>\n",
       "    </tr>\n",
       "  </thead>\n",
       "  <tbody>\n",
       "    <tr>\n",
       "      <th>0</th>\n",
       "      <td>p</td>\n",
       "      <td>x</td>\n",
       "      <td>s</td>\n",
       "      <td>n</td>\n",
       "      <td>t</td>\n",
       "      <td>p</td>\n",
       "      <td>f</td>\n",
       "      <td>c</td>\n",
       "      <td>n</td>\n",
       "      <td>k</td>\n",
       "      <td>...</td>\n",
       "      <td>s</td>\n",
       "      <td>w</td>\n",
       "      <td>w</td>\n",
       "      <td>p</td>\n",
       "      <td>w</td>\n",
       "      <td>o</td>\n",
       "      <td>p</td>\n",
       "      <td>k</td>\n",
       "      <td>s</td>\n",
       "      <td>u</td>\n",
       "    </tr>\n",
       "    <tr>\n",
       "      <th>1</th>\n",
       "      <td>e</td>\n",
       "      <td>x</td>\n",
       "      <td>s</td>\n",
       "      <td>y</td>\n",
       "      <td>t</td>\n",
       "      <td>a</td>\n",
       "      <td>f</td>\n",
       "      <td>c</td>\n",
       "      <td>b</td>\n",
       "      <td>k</td>\n",
       "      <td>...</td>\n",
       "      <td>s</td>\n",
       "      <td>w</td>\n",
       "      <td>w</td>\n",
       "      <td>p</td>\n",
       "      <td>w</td>\n",
       "      <td>o</td>\n",
       "      <td>p</td>\n",
       "      <td>n</td>\n",
       "      <td>n</td>\n",
       "      <td>g</td>\n",
       "    </tr>\n",
       "    <tr>\n",
       "      <th>2</th>\n",
       "      <td>e</td>\n",
       "      <td>b</td>\n",
       "      <td>s</td>\n",
       "      <td>w</td>\n",
       "      <td>t</td>\n",
       "      <td>l</td>\n",
       "      <td>f</td>\n",
       "      <td>c</td>\n",
       "      <td>b</td>\n",
       "      <td>n</td>\n",
       "      <td>...</td>\n",
       "      <td>s</td>\n",
       "      <td>w</td>\n",
       "      <td>w</td>\n",
       "      <td>p</td>\n",
       "      <td>w</td>\n",
       "      <td>o</td>\n",
       "      <td>p</td>\n",
       "      <td>n</td>\n",
       "      <td>n</td>\n",
       "      <td>m</td>\n",
       "    </tr>\n",
       "    <tr>\n",
       "      <th>3</th>\n",
       "      <td>p</td>\n",
       "      <td>x</td>\n",
       "      <td>y</td>\n",
       "      <td>w</td>\n",
       "      <td>t</td>\n",
       "      <td>p</td>\n",
       "      <td>f</td>\n",
       "      <td>c</td>\n",
       "      <td>n</td>\n",
       "      <td>n</td>\n",
       "      <td>...</td>\n",
       "      <td>s</td>\n",
       "      <td>w</td>\n",
       "      <td>w</td>\n",
       "      <td>p</td>\n",
       "      <td>w</td>\n",
       "      <td>o</td>\n",
       "      <td>p</td>\n",
       "      <td>k</td>\n",
       "      <td>s</td>\n",
       "      <td>u</td>\n",
       "    </tr>\n",
       "    <tr>\n",
       "      <th>4</th>\n",
       "      <td>e</td>\n",
       "      <td>x</td>\n",
       "      <td>s</td>\n",
       "      <td>g</td>\n",
       "      <td>f</td>\n",
       "      <td>n</td>\n",
       "      <td>f</td>\n",
       "      <td>w</td>\n",
       "      <td>b</td>\n",
       "      <td>k</td>\n",
       "      <td>...</td>\n",
       "      <td>s</td>\n",
       "      <td>w</td>\n",
       "      <td>w</td>\n",
       "      <td>p</td>\n",
       "      <td>w</td>\n",
       "      <td>o</td>\n",
       "      <td>e</td>\n",
       "      <td>n</td>\n",
       "      <td>a</td>\n",
       "      <td>g</td>\n",
       "    </tr>\n",
       "  </tbody>\n",
       "</table>\n",
       "<p>5 rows × 23 columns</p>\n",
       "</div>"
      ],
      "text/plain": [
       "  class cap-shape cap-surface cap-color bruises odor gill-attachment  \\\n",
       "0     p         x           s         n       t    p               f   \n",
       "1     e         x           s         y       t    a               f   \n",
       "2     e         b           s         w       t    l               f   \n",
       "3     p         x           y         w       t    p               f   \n",
       "4     e         x           s         g       f    n               f   \n",
       "\n",
       "  gill-spacing gill-size gill-color  ... stalk-surface-below-ring  \\\n",
       "0            c         n          k  ...                        s   \n",
       "1            c         b          k  ...                        s   \n",
       "2            c         b          n  ...                        s   \n",
       "3            c         n          n  ...                        s   \n",
       "4            w         b          k  ...                        s   \n",
       "\n",
       "  stalk-color-above-ring stalk-color-below-ring veil-type veil-color  \\\n",
       "0                      w                      w         p          w   \n",
       "1                      w                      w         p          w   \n",
       "2                      w                      w         p          w   \n",
       "3                      w                      w         p          w   \n",
       "4                      w                      w         p          w   \n",
       "\n",
       "  ring-number ring-type spore-print-color population habitat  \n",
       "0           o         p                 k          s       u  \n",
       "1           o         p                 n          n       g  \n",
       "2           o         p                 n          n       m  \n",
       "3           o         p                 k          s       u  \n",
       "4           o         e                 n          a       g  \n",
       "\n",
       "[5 rows x 23 columns]"
      ]
     },
     "execution_count": 6,
     "metadata": {},
     "output_type": "execute_result"
    }
   ],
   "source": [
    "data = pd.read_csv('../data/2.3.4 Bài tập thực hành 2/mushrooms.csv', encoding='latin-1')\n",
    "data.head()"
   ]
  },
  {
   "cell_type": "markdown",
   "id": "81bcf99f-91bc-426f-8212-48cf6e202523",
   "metadata": {},
   "source": [
    "### 2. Xử lý dữ liệu"
   ]
  },
  {
   "cell_type": "code",
   "execution_count": 9,
   "id": "28252c35-860e-48c7-8a2c-fe6fc9067f09",
   "metadata": {},
   "outputs": [],
   "source": [
    "# 2.1 Xử lý giá trị thiếu ('?') trong 'stalk-root'\n",
    "mode = data[data['stalk-root'] != '?']['stalk-root'].mode()[0]\n",
    "data['stalk-root'] = data['stalk-root'].replace('?', mode)"
   ]
  },
  {
   "cell_type": "code",
   "execution_count": 11,
   "id": "9f31e6a1-530a-48ba-933b-c65556a99646",
   "metadata": {},
   "outputs": [],
   "source": [
    "# 2.2 Separate features (X) and target labels (y)\n",
    "# Target (y) của chúng ta là 'class'\n",
    "# p = poisonous (độc) = 1, e = edible (ăn được) = 0\n",
    "y = data['class'].map({'p': 1, 'e': 0})\n",
    "    \n",
    "# Features (X) là tất cả các cột còn lại\n",
    "X = data.drop('class', axis=1)"
   ]
  },
  {
   "cell_type": "markdown",
   "id": "0eceb384-fc30-4a86-a4cf-2d8ba0eab5b0",
   "metadata": {},
   "source": [
    "### 3. Vector hóa"
   ]
  },
  {
   "cell_type": "code",
   "execution_count": 14,
   "id": "2ae344f4-b188-44c7-a493-0044ea0102c6",
   "metadata": {},
   "outputs": [
    {
     "name": "stdout",
     "output_type": "stream",
     "text": [
      "Số lượng features ban đầu: 22\n",
      "Số lượng features sau khi vector hóa: 94\n",
      "Đã chia dữ liệu: 6499 train, 1625 test.\n"
     ]
    }
   ],
   "source": [
    "# Chúng ta biến đổi tất cả 22 cột feature thành các cột 0/1\n",
    "X_vectorized = pd.get_dummies(X, drop_first=True)\n",
    "    \n",
    "print(f\"Số lượng features ban đầu: {len(X.columns)}\")\n",
    "print(f\"Số lượng features sau khi vector hóa: {len(X_vectorized.columns)}\")\n",
    "\n",
    "#Split the data \n",
    "X_train, X_test, y_train, y_test = train_test_split(X_vectorized, y, test_size=0.2, random_state=42)\n",
    "print(f\"Đã chia dữ liệu: {len(X_train)} train, {len(X_test)} test.\")"
   ]
  },
  {
   "cell_type": "markdown",
   "id": "c12359e2-e2d7-4d67-83cc-8e9abee30278",
   "metadata": {},
   "source": [
    "### 4. Xây dựng mô hình Naïve Bayes"
   ]
  },
  {
   "cell_type": "code",
   "execution_count": 16,
   "id": "67c917f7-b33b-4b4b-930d-3290150e4785",
   "metadata": {},
   "outputs": [],
   "source": [
    "# (Dùng MultinomialNB vì X_vectorized là dữ liệu đếm 0/1)\n",
    "if 'data' in locals():\n",
    "    classifier = MultinomialNB()\n",
    "    classifier.fit(X_train, y_train) # Huấn luyện trên dữ liệu vector hóa"
   ]
  },
  {
   "cell_type": "markdown",
   "id": "bc28bba5-66e6-403c-8f28-c7d52c57781e",
   "metadata": {},
   "source": [
    "### 5. Đánh giá hiệu quả của mô hình"
   ]
  },
  {
   "cell_type": "code",
   "execution_count": 17,
   "id": "8f27123a-3eaa-4052-afc2-46fe44c64f85",
   "metadata": {},
   "outputs": [
    {
     "name": "stdout",
     "output_type": "stream",
     "text": [
      "\n",
      "--- 5. Đánh giá hiệu quả mô hình ---\n",
      "Accuracy: 0.9514\n",
      "Confusion Matrix:\n",
      "[[835   8]\n",
      " [ 71 711]]\n",
      "Classification Report:\n",
      "                  precision    recall  f1-score   support\n",
      "\n",
      "Edible (Ăn được)       0.92      0.99      0.95       843\n",
      " Poisonous (Độc)       0.99      0.91      0.95       782\n",
      "\n",
      "        accuracy                           0.95      1625\n",
      "       macro avg       0.96      0.95      0.95      1625\n",
      "    weighted avg       0.95      0.95      0.95      1625\n",
      "\n"
     ]
    },
    {
     "data": {
      "image/png": "[encoded data removed]",
      "text/plain": [
       "<Figure size 600x400 with 2 Axes>"
      ]
     },
     "metadata": {},
     "output_type": "display_data"
    }
   ],
   "source": [
    "if 'data' in locals():\n",
    "    print(\"\\n--- 5. Đánh giá hiệu quả mô hình ---\")\n",
    "    # Make predictions on the test data\n",
    "    y_pred = classifier.predict(X_test)\n",
    "    \n",
    "    # Evaluate the model\n",
    "    accuracy = accuracy_score(y_test, y_pred)\n",
    "    conf_matrix = confusion_matrix(y_test, y_pred)\n",
    "    classification_rep = classification_report(y_test, y_pred, target_names=['Edible (Ăn được)', 'Poisonous (Độc)'])\n",
    "    \n",
    "    print(f\"Accuracy: {accuracy:.4f}\")\n",
    "    print(\"Confusion Matrix:\")\n",
    "    print(conf_matrix)\n",
    "    print(\"Classification Report:\")\n",
    "    print(classification_rep)\n",
    "    \n",
    "    # Vẽ ma trận nhầm lẫn cho đẹp hơn\n",
    "    plt.figure(figsize=(6, 4))\n",
    "    sns.heatmap(conf_matrix, annot=True, fmt='d', cmap=\"YlGnBu\", \n",
    "                xticklabels=['Edible', 'Poisonous'], \n",
    "                yticklabels=['Edible', 'Poisonous'])\n",
    "    plt.title('Ma trận nhầm lẫn - Naïve Bayes (Dữ liệu Nấm)')\n",
    "    plt.xlabel('Dự đoán (Predicted)')\n",
    "    plt.ylabel('Thực tế (Actual)')\n",
    "    plt.show()"
   ]
  },
  {
   "cell_type": "code",
   "execution_count": 18,
   "id": "725f508a-1947-4368-82ac-079f2b399dbb",
   "metadata": {},
   "outputs": [
    {
     "name": "stderr",
     "output_type": "stream",
     "text": [
      "[NbConvertApp] Converting notebook 2.3.4 Bài tập thực hành 2.ipynb to html\n",
      "[NbConvertApp] Writing 285854 bytes to 2.3.4 Bài tập thực hành 2.html\n"
     ]
    }
   ],
   "source": [
    "!jupyter nbconvert --to html \"2.3.4 Bài tập thực hành 2.ipynb\""
   ]
  },
  {
   "cell_type": "code",
   "execution_count": null,
   "id": "2f77f90b-972c-43e7-a0f8-758d117e2823",
   "metadata": {},
   "outputs": [],
   "source": []
  }
 ],
 "metadata": {
  "kernelspec": {
   "display_name": "Python [conda env:base] *",
   "language": "python",
   "name": "conda-base-py"
  },
  "language_info": {
   "codemirror_mode": {
    "name": "ipython",
    "version": 3
   },
   "file_extension": ".py",
   "mimetype": "text/x-python",
   "name": "python",
   "nbconvert_exporter": "python",
   "pygments_lexer": "ipython3",
   "version": "3.13.5"
  }
 },
 "nbformat": 4,
 "nbformat_minor": 5
}
