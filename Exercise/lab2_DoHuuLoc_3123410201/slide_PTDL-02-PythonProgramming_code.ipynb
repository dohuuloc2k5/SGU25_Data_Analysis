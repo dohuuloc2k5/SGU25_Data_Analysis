{
 "cells": [
  {
   "cell_type": "markdown",
   "id": "969c17a7-a78a-4911-b447-51283e984cad",
   "metadata": {},
   "source": [
    "# Code Slide PTDL-02-PythonProgramming\n"
   ]
  },
  {
   "cell_type": "markdown",
   "id": "eba5dfde-d1e8-4ab2-845b-b140a39f4e86",
   "metadata": {},
   "source": [
    "## Programming\n",
    "\n"
   ]
  },
  {
   "cell_type": "markdown",
   "id": "2cd16f7a-7397-4060-bbd7-19e4f53dd2c6",
   "metadata": {},
   "source": [
    "### Python Hello World\n"
   ]
  },
  {
   "cell_type": "code",
   "execution_count": 1,
   "id": "c6235236-4cd6-4739-a474-31d0c3205dfd",
   "metadata": {},
   "outputs": [
    {
     "name": "stdout",
     "output_type": "stream",
     "text": [
      "Hello world\n"
     ]
    }
   ],
   "source": [
    "print(\"Hello world\")"
   ]
  },
  {
   "cell_type": "markdown",
   "id": "a94bd9cd-4dd4-46c9-8561-8c9fda6cd291",
   "metadata": {},
   "source": [
    "### Python Syntax"
   ]
  },
  {
   "cell_type": "code",
   "execution_count": 2,
   "id": "b8b21c21-23ed-4007-b4a3-695f9c395627",
   "metadata": {},
   "outputs": [],
   "source": [
    "#comment"
   ]
  },
  {
   "cell_type": "code",
   "execution_count": 3,
   "id": "c8f078e1-03ae-47df-954f-5c6db4e2a9ca",
   "metadata": {},
   "outputs": [
    {
     "name": "stdout",
     "output_type": "stream",
     "text": [
      "Pass\n"
     ]
    }
   ],
   "source": [
    "# Indentation the spaces at the beginning of a code line 4 spaces\n",
    "score = 80\n",
    "if score >=60 :\n",
    "    print(\"Pass\")\n"
   ]
  },
  {
   "cell_type": "markdown",
   "id": "d4454afc-e2b1-4ea3-b0ac-d62328305349",
   "metadata": {},
   "source": [
    "### Python Variables"
   ]
  },
  {
   "cell_type": "code",
   "execution_count": 5,
   "id": "b36f9cc8-4ec1-4fb4-a739-ade88e5b0d0c",
   "metadata": {},
   "outputs": [
    {
     "name": "stdout",
     "output_type": "stream",
     "text": [
      "2\n",
      "2.5\n",
      "Hello\n",
      "Hello\n",
      "Hello\n",
      "Hello\n"
     ]
    }
   ],
   "source": [
    "x = 2\n",
    "print(x)\n",
    "price = 2.5\n",
    "print(price)\n",
    "word = 'Hello'\n",
    "print(word)\n",
    "word = 'Hello'\n",
    "print(word)\n",
    "word = \"Hello\"\n",
    "print(word)\n",
    "word = '''Hello'''\n",
    "print(word)"
   ]
  },
  {
   "cell_type": "code",
   "execution_count": 6,
   "id": "4e3de915-7050-4836-8981-e8f3fc17c95f",
   "metadata": {},
   "outputs": [
    {
     "name": "stdout",
     "output_type": "stream",
     "text": [
      "3\n"
     ]
    }
   ],
   "source": [
    "x = 2\n",
    "y = x + 1\n",
    "print(y)"
   ]
  },
  {
   "cell_type": "markdown",
   "id": "df4201c0-6f61-42fe-94cd-2858cdf3f1d8",
   "metadata": {},
   "source": [
    "### Python version"
   ]
  },
  {
   "cell_type": "code",
   "execution_count": 8,
   "id": "bf0d9742-0e6e-40d3-ba28-ad7acce99074",
   "metadata": {},
   "outputs": [
    {
     "name": "stdout",
     "output_type": "stream",
     "text": [
      "Python Version: 3.13.5\n"
     ]
    }
   ],
   "source": [
    "from platform import python_version\n",
    "print(\"Python Version:\", python_version())"
   ]
  },
  {
   "cell_type": "markdown",
   "id": "f0007ad0-a217-4066-ba99-86befb72b74c",
   "metadata": {},
   "source": [
    "### Python Data Types"
   ]
  },
  {
   "cell_type": "code",
   "execution_count": 11,
   "id": "0531bede-be39-42d7-9ce6-b995c1a0067d",
   "metadata": {},
   "outputs": [],
   "source": [
    "x = \"Hello World\" #str\n",
    "x = 2             #int\n",
    "x = 2.5           #float\n",
    "x = 7j            #complex"
   ]
  },
  {
   "cell_type": "code",
   "execution_count": 12,
   "id": "b125fa93-8a6d-4e85-a3dc-20dab73c147d",
   "metadata": {},
   "outputs": [],
   "source": [
    "x = [\"apple\", \"banana\", \"cherry\"]             #list\n",
    "x = (\"apple\", \"banana\", \"cherry\")             #tuple\n",
    "x = range(6)                                  #range\n",
    "x = {\"name\" : \"Tom\", \"age\" : 20}              #dict\n",
    "x = {\"apple\", \"banana\", \"cherry\"}             #set\n",
    "x = frozenset({\"apple\", \"banana\", \"cherry\"})  #frozenset"
   ]
  },
  {
   "cell_type": "code",
   "execution_count": 13,
   "id": "7e993a3b-6a50-498b-86e6-cbf377ea68cb",
   "metadata": {},
   "outputs": [],
   "source": [
    "x = True                                      #bool\n",
    "x = b\"Hello\"                                  #bytes\n",
    "x = bytearray(5)                              #bytearray\n",
    "x = memoryview(bytes(5))                      #memoryview\n",
    "x = None                                      #NoneType"
   ]
  },
  {
   "cell_type": "markdown",
   "id": "72618964-c832-4f38-8ab3-eb5fabfe7cdc",
   "metadata": {},
   "source": [
    "### Python Casting"
   ]
  },
  {
   "cell_type": "code",
   "execution_count": 14,
   "id": "6af00503-e08c-4d87-8f12-5f6aa325fb1f",
   "metadata": {},
   "outputs": [
    {
     "name": "stdout",
     "output_type": "stream",
     "text": [
      "3 <class 'str'>\n",
      "3 <class 'int'>\n",
      "3.0 <class 'float'>\n"
     ]
    }
   ],
   "source": [
    "x = str(3)\n",
    "y = int(3)\n",
    "z = float(3)\n",
    "print(x, type(x))\n",
    "print(y, type(y))\n",
    "print(z, type(z))"
   ]
  },
  {
   "cell_type": "markdown",
   "id": "6021779b-af72-4bfb-b675-b402bc63ffd9",
   "metadata": {},
   "source": [
    "### Python Numbers"
   ]
  },
  {
   "cell_type": "code",
   "execution_count": 16,
   "id": "c38cf15f-ce63-4d74-8ffa-f0a16be4b939",
   "metadata": {},
   "outputs": [
    {
     "name": "stdout",
     "output_type": "stream",
     "text": [
      "2 <class 'int'>\n",
      "3.14 <class 'float'>\n",
      "7j <class 'complex'>\n"
     ]
    }
   ],
   "source": [
    "x = 2 \n",
    "y = 3.14\n",
    "z = 7j\n",
    "print(x, type(x))\n",
    "print(y, type(y))\n",
    "print(z, type(z))"
   ]
  },
  {
   "cell_type": "markdown",
   "id": "adf19a54-4079-4bc0-b3fa-ee7bdbcb064a",
   "metadata": {},
   "source": [
    "### Python Arithmetic Operators"
   ]
  },
  {
   "cell_type": "code",
   "execution_count": 18,
   "id": "4dc99518-b7ed-4cf7-aeb3-cfe008da02e7",
   "metadata": {},
   "outputs": [
    {
     "name": "stdout",
     "output_type": "stream",
     "text": [
      "7+2= 9\n",
      "7-2= 5\n",
      "7*2= 14\n",
      "7/2= 3.5\n",
      "7// 3\n",
      "7%2 1\n",
      "7**2 49\n"
     ]
    }
   ],
   "source": [
    "print('7+2=',7+2)\n",
    "print('7-2=',7-2)\n",
    "print('7*2=',7*2)\n",
    "print('7/2=',7/2)\n",
    "print('7//',7//2)\n",
    "print('7%2',7%2)\n",
    "print('7**2',7**2)"
   ]
  },
  {
   "cell_type": "markdown",
   "id": "c5237469-322a-482d-bba7-b686eacfe0b5",
   "metadata": {},
   "source": [
    "### Python Booleans: True or False"
   ]
  },
  {
   "cell_type": "code",
   "execution_count": 21,
   "id": "bb9b0be2-5775-4d6f-bddd-8b89124a7baf",
   "metadata": {},
   "outputs": [
    {
     "name": "stdout",
     "output_type": "stream",
     "text": [
      "True\n",
      "False\n",
      "False\n"
     ]
    }
   ],
   "source": [
    "print(3>2)\n",
    "print(3==2)\n",
    "print(3<2)"
   ]
  },
  {
   "cell_type": "markdown",
   "id": "5cf12e78-bb6f-49e7-8e91-42772478809e",
   "metadata": {},
   "source": [
    "### EX\n"
   ]
  },
  {
   "cell_type": "code",
   "execution_count": 24,
   "id": "e71644d3-9021-40e8-8357-a0ed8cf31e1d",
   "metadata": {},
   "outputs": [
    {
     "name": "stdout",
     "output_type": "stream",
     "text": [
      "Your BMI is: 20.8\n"
     ]
    }
   ],
   "source": [
    "height_cm = 170\n",
    "weight_kg = 60\n",
    "height_m = height_cm/100\n",
    "BMI = (weight_kg/(height_m**2))\n",
    "print (\"Your BMI is: \" + str(round(BMI,1)))\n"
   ]
  },
  {
   "cell_type": "code",
   "execution_count": 25,
   "id": "61931107-2e08-41fd-8907-aaada3f64b2a",
   "metadata": {},
   "outputs": [
    {
     "name": "stdout",
     "output_type": "stream",
     "text": [
      "fv =  194.87\n"
     ]
    }
   ],
   "source": [
    "# How much is your $100 worth after 7 years?\n",
    "fv = 100 * 1.1 ** 7\n",
    "print('fv = ', round(fv, 2))\n",
    "# output = 194.87"
   ]
  },
  {
   "cell_type": "markdown",
   "id": "3f895d86-7141-491c-8f31-1d7eb8191c41",
   "metadata": {},
   "source": [
    "### Future Value\n"
   ]
  },
  {
   "cell_type": "code",
   "execution_count": 28,
   "id": "69201120-79bb-4490-bb9a-a4fa16f3fc0a",
   "metadata": {},
   "outputs": [
    {
     "name": "stdout",
     "output_type": "stream",
     "text": [
      "194.87\n"
     ]
    }
   ],
   "source": [
    "pv = 100\n",
    "r = 0.1 \n",
    "n = 7 \n",
    "fv = pv * ((1+(r))**n)\n",
    "print(round(fv,2))"
   ]
  },
  {
   "cell_type": "code",
   "execution_count": 30,
   "id": "708fe7cc-a3ef-44e4-b38d-938570fdebde",
   "metadata": {},
   "outputs": [
    {
     "name": "stdout",
     "output_type": "stream",
     "text": [
      "194.87\n"
     ]
    }
   ],
   "source": [
    "amount = 100\n",
    "interest = 10 #10% = 0.01 * 10\n",
    "years = 7 \n",
    "\n",
    "future_value = amount * ((1 + (0.01 * interest)) ** years)\n",
    "print( round(future_value, 2))"
   ]
  },
  {
   "cell_type": "markdown",
   "id": "e90f5c2f-db65-42fa-b64d-b1a1f1e4012a",
   "metadata": {},
   "source": [
    "## Data Structures"
   ]
  },
  {
   "cell_type": "markdown",
   "id": "a97143bc-5579-48ec-ac29-ea42592e9b2f",
   "metadata": {},
   "source": [
    "### Python Data Types"
   ]
  },
  {
   "cell_type": "code",
   "execution_count": 31,
   "id": "edc0bb90-a46f-4aea-aa4f-b33d97d04a59",
   "metadata": {},
   "outputs": [],
   "source": [
    "x = [\"apple\", \"banana\", \"cherry\"] #list\n",
    "x = (\"apple\", \"banana\", \"cherry\") #tuple\n",
    "x = {\"name\" : \"Tom\", \"age\" : 20} #dict\n",
    "x = {\"apple\", \"banana\", \"cherry\"} #set"
   ]
  },
  {
   "cell_type": "markdown",
   "id": "54da2337-0210-41dd-9077-bda45aa5a344",
   "metadata": {},
   "source": [
    "#### Lists []"
   ]
  },
  {
   "cell_type": "code",
   "execution_count": 32,
   "id": "80baf223-402a-4436-a1fc-27d5d1a2aacf",
   "metadata": {},
   "outputs": [
    {
     "name": "stdout",
     "output_type": "stream",
     "text": [
      "4\n",
      "60\n",
      "70\n",
      "90\n"
     ]
    }
   ],
   "source": [
    "x = [60,70,80,90]\n",
    "print(len(x))\n",
    "print(x[0])\n",
    "print(x[1])\n",
    "print(x[-1])\n",
    "      "
   ]
  },
  {
   "cell_type": "markdown",
   "id": "6b7115c9-591e-45b0-aa81-d87c21645bef",
   "metadata": {},
   "source": [
    "#### Tuples ()"
   ]
  },
  {
   "cell_type": "code",
   "execution_count": 33,
   "id": "73ec19b1-b0c1-4acf-b62b-f9b910d00790",
   "metadata": {},
   "outputs": [
    {
     "name": "stdout",
     "output_type": "stream",
     "text": [
      "10\n",
      "20\n",
      "30\n",
      "50\n"
     ]
    }
   ],
   "source": [
    "x = (10, 20, 30, 40, 50)\n",
    "print(x[0])\n",
    "print(x[1])\n",
    "print(x[2])\n",
    "print(x[-1])"
   ]
  },
  {
   "cell_type": "markdown",
   "id": "2a92549f-c64e-48d3-904c-ff97907d02a3",
   "metadata": {},
   "source": [
    "#### Sets {}"
   ]
  },
  {
   "cell_type": "code",
   "execution_count": 35,
   "id": "713a310d-0e82-4e65-9ff3-59225279d2b1",
   "metadata": {},
   "outputs": [
    {
     "name": "stdout",
     "output_type": "stream",
     "text": [
      "True\n",
      "False\n",
      "True\n",
      "3\n",
      "3\n",
      "2\n"
     ]
    }
   ],
   "source": [
    "animals = {'cat', 'dog'}\n",
    "print('cat' in animals)\n",
    "print('fish' in animals)\n",
    "animals.add('fish')\n",
    "print('fish' in animals)\n",
    "print(len(animals))\n",
    "animals.add('cat')\n",
    "print(len(animals))\n",
    "animals.remove('cat')\n",
    "print(len(animals))"
   ]
  },
  {
   "cell_type": "markdown",
   "id": "689a09f3-a894-4ca6-8a43-18f74e56773b",
   "metadata": {},
   "source": [
    "#### Dictionary {key : value}"
   ]
  },
  {
   "cell_type": "code",
   "execution_count": 36,
   "id": "0352fd76-8b34-4ad7-9186-0f23293ac665",
   "metadata": {},
   "outputs": [
    {
     "name": "stdout",
     "output_type": "stream",
     "text": [
      "English\n"
     ]
    }
   ],
   "source": [
    "k = { 'EN':'English','FR':'French' }\n",
    "print(k['EN'])"
   ]
  },
  {
   "cell_type": "markdown",
   "id": "65daafbd-29e2-4e52-8140-2846bdd14113",
   "metadata": {},
   "source": [
    "### Python for Finance Applications"
   ]
  },
  {
   "cell_type": "code",
   "execution_count": 37,
   "id": "4b0fdf2f-eb32-48d8-a9e5-79ef19b72c75",
   "metadata": {},
   "outputs": [
    {
     "name": "stdout",
     "output_type": "stream",
     "text": [
      "Total expenses: 293.5\n"
     ]
    }
   ],
   "source": [
    "# Python Lists\n",
    "expenses = [72.50, 80.75, 50.00, 90.25]\n",
    "total_expenses = sum(expenses)\n",
    "print(\"Total expenses:\", total_expenses)"
   ]
  },
  {
   "cell_type": "code",
   "execution_count": 40,
   "id": "fce952a2-5afb-4f50-a382-0e9183804054",
   "metadata": {},
   "outputs": [
    {
     "name": "stdout",
     "output_type": "stream",
     "text": [
      "Account name: Cash Account number: 1001\n",
      "Account name: Accounts Receivable Account number: 1002\n",
      "Account name: Inventory Account number: 1003\n"
     ]
    }
   ],
   "source": [
    "# Python Tuples\n",
    "accounts = ((\"Cash\", 1001), (\"Accounts Receivable\", 1002),(\"Inventory\", 1003))\n",
    "for account in accounts:\n",
    "    print(\"Account name:\", account[0], \"Account number:\", account[1])"
   ]
  },
  {
   "cell_type": "code",
   "execution_count": 41,
   "id": "a8376c99-822a-4ffb-96a3-50adb1c473fb",
   "metadata": {},
   "outputs": [
    {
     "name": "stdout",
     "output_type": "stream",
     "text": [
      "Account number 1004 is not in use.\n"
     ]
    }
   ],
   "source": [
    "# Python Sets\n",
    "account_numbers = {1001, 1002, 1003}\n",
    "new_account_number = 1004\n",
    "if new_account_number not in account_numbers:\n",
    "    print(\"Account number\", new_account_number, \"is not in use.\")"
   ]
  },
  {
   "cell_type": "code",
   "execution_count": 43,
   "id": "aa5f650a-6ca8-4b8f-9612-0b28e08e207e",
   "metadata": {},
   "outputs": [
    {
     "name": "stdout",
     "output_type": "stream",
     "text": [
      "Account number: 1001\n",
      "Account name: Cash\n",
      "Account balance: 500.0\n",
      "Account type: Asset\n",
      "Account number: 1002\n",
      "Account name: Accounts Receivable\n",
      "Account balance: 1000.0\n",
      "Account type: Asset\n",
      "Account number: 2001\n",
      "Account name: Accounts Payable\n",
      "Account balance: 750.0\n",
      "Account type: Liability\n"
     ]
    }
   ],
   "source": [
    "# Python Dictionaries\n",
    "accounts = {\"1001\": {\"name\": \"Cash\", \"balance\": 500.00, \"type\": \"Asset\"},\n",
    "\"1002\": {\"name\": \"Accounts Receivable\", \"balance\": 1000.00, \"type\": \"Asset\"},\n",
    "\"2001\": {\"name\": \"Accounts Payable\", \"balance\": 750.00, \"type\": \"Liability\"}}\n",
    "for account_number, account_info in accounts.items():\n",
    "    print(\"Account number:\", account_number)\n",
    "    print(\"Account name:\", account_info[\"name\"])\n",
    "    print(\"Account balance:\", account_info[\"balance\"])\n",
    "    print(\"Account type:\", account_info[\"type\"])"
   ]
  },
  {
   "cell_type": "markdown",
   "id": "09a8b97a-925a-4498-ab01-ddb7a8d5e116",
   "metadata": {},
   "source": [
    "## Control Logic and Loops"
   ]
  },
  {
   "cell_type": "markdown",
   "id": "10c906cc-bf75-48fb-850f-a75dce733732",
   "metadata": {},
   "source": [
    "### Python if"
   ]
  },
  {
   "cell_type": "code",
   "execution_count": 44,
   "id": "1e68b7be-f383-4058-807a-09e6de006b1f",
   "metadata": {},
   "outputs": [
    {
     "name": "stdout",
     "output_type": "stream",
     "text": [
      "Pass\n"
     ]
    }
   ],
   "source": [
    "score = 80\n",
    "if score >=60 :\n",
    "    print(\"Pass\")"
   ]
  },
  {
   "cell_type": "markdown",
   "id": "a5eb521d-60a0-4f28-9556-e46735f9a832",
   "metadata": {},
   "source": [
    "### Python if else"
   ]
  },
  {
   "cell_type": "code",
   "execution_count": 46,
   "id": "51f77136-73b6-4db8-a514-832102413f3c",
   "metadata": {},
   "outputs": [
    {
     "name": "stdout",
     "output_type": "stream",
     "text": [
      "Pass\n"
     ]
    }
   ],
   "source": [
    "score = 80\n",
    "if score >=60 :\n",
    "    print(\"Pass\")\n",
    "else: \n",
    "    print(\"Fail\")"
   ]
  },
  {
   "cell_type": "markdown",
   "id": "c0dc4a69-2b5a-4b8f-916c-117471cf5482",
   "metadata": {},
   "source": [
    "### Python if elif else"
   ]
  },
  {
   "cell_type": "code",
   "execution_count": 47,
   "id": "9a99ce68-a7be-41c3-84dc-7698c2519f9e",
   "metadata": {},
   "outputs": [
    {
     "name": "stdout",
     "output_type": "stream",
     "text": [
      "A\n"
     ]
    }
   ],
   "source": [
    "score = 95\n",
    "if score >= 90 :\n",
    "    print(\"A\")\n",
    "elif score >=60 :\n",
    "    print(\"Pass\")\n",
    "else:\n",
    "    print(\"Fail\")"
   ]
  },
  {
   "cell_type": "code",
   "execution_count": 52,
   "id": "47a4fcbc-8c16-41d2-873d-42a669005150",
   "metadata": {},
   "outputs": [
    {
     "name": "stdout",
     "output_type": "stream",
     "text": [
      "A\n"
     ]
    }
   ],
   "source": [
    "score = 90\n",
    "grade = \"\"\n",
    "if score >=90:\n",
    "    grade = \"A\"\n",
    "elif score >= 80:\n",
    "    grade = \"B\"\n",
    "elif score >= 70:\n",
    "    grade = \"C\"\n",
    "elif score >= 60:\n",
    "    grade = \"D\"\n",
    "else:\n",
    "    grade = \"E\"\n",
    "print(grade)"
   ]
  },
  {
   "cell_type": "markdown",
   "id": "b3dd7596-91f4-4c41-a777-2c8c0cef1586",
   "metadata": {},
   "source": [
    "### Python for Loops"
   ]
  },
  {
   "cell_type": "code",
   "execution_count": 53,
   "id": "ceccae68-1784-4b24-8694-8f82936c90a3",
   "metadata": {},
   "outputs": [
    {
     "name": "stdout",
     "output_type": "stream",
     "text": [
      "1\n",
      "2\n",
      "3\n",
      "4\n",
      "5\n"
     ]
    }
   ],
   "source": [
    "for i in range(1,6):\n",
    "    print(i)"
   ]
  },
  {
   "cell_type": "code",
   "execution_count": 54,
   "id": "cd59265e-b98a-4d57-bf17-8bac33d322db",
   "metadata": {},
   "outputs": [
    {
     "name": "stdout",
     "output_type": "stream",
     "text": [
      "1  *  1  =  1\n",
      "1  *  2  =  2\n",
      "1  *  3  =  3\n",
      "1  *  4  =  4\n",
      "1  *  5  =  5\n",
      "1  *  6  =  6\n",
      "1  *  7  =  7\n",
      "1  *  8  =  8\n",
      "1  *  9  =  9\n",
      "2  *  1  =  2\n",
      "2  *  2  =  4\n",
      "2  *  3  =  6\n",
      "2  *  4  =  8\n",
      "2  *  5  =  10\n",
      "2  *  6  =  12\n",
      "2  *  7  =  14\n",
      "2  *  8  =  16\n",
      "2  *  9  =  18\n",
      "3  *  1  =  3\n",
      "3  *  2  =  6\n",
      "3  *  3  =  9\n",
      "3  *  4  =  12\n",
      "3  *  5  =  15\n",
      "3  *  6  =  18\n",
      "3  *  7  =  21\n",
      "3  *  8  =  24\n",
      "3  *  9  =  27\n",
      "4  *  1  =  4\n",
      "4  *  2  =  8\n",
      "4  *  3  =  12\n",
      "4  *  4  =  16\n",
      "4  *  5  =  20\n",
      "4  *  6  =  24\n",
      "4  *  7  =  28\n",
      "4  *  8  =  32\n",
      "4  *  9  =  36\n",
      "5  *  1  =  5\n",
      "5  *  2  =  10\n",
      "5  *  3  =  15\n",
      "5  *  4  =  20\n",
      "5  *  5  =  25\n",
      "5  *  6  =  30\n",
      "5  *  7  =  35\n",
      "5  *  8  =  40\n",
      "5  *  9  =  45\n",
      "6  *  1  =  6\n",
      "6  *  2  =  12\n",
      "6  *  3  =  18\n",
      "6  *  4  =  24\n",
      "6  *  5  =  30\n",
      "6  *  6  =  36\n",
      "6  *  7  =  42\n",
      "6  *  8  =  48\n",
      "6  *  9  =  54\n",
      "7  *  1  =  7\n",
      "7  *  2  =  14\n",
      "7  *  3  =  21\n",
      "7  *  4  =  28\n",
      "7  *  5  =  35\n",
      "7  *  6  =  42\n",
      "7  *  7  =  49\n",
      "7  *  8  =  56\n",
      "7  *  9  =  63\n",
      "8  *  1  =  8\n",
      "8  *  2  =  16\n",
      "8  *  3  =  24\n",
      "8  *  4  =  32\n",
      "8  *  5  =  40\n",
      "8  *  6  =  48\n",
      "8  *  7  =  56\n",
      "8  *  8  =  64\n",
      "8  *  9  =  72\n",
      "9  *  1  =  9\n",
      "9  *  2  =  18\n",
      "9  *  3  =  27\n",
      "9  *  4  =  36\n",
      "9  *  5  =  45\n",
      "9  *  6  =  54\n",
      "9  *  7  =  63\n",
      "9  *  8  =  72\n",
      "9  *  9  =  81\n"
     ]
    }
   ],
   "source": [
    "for i in range(1,10):\n",
    "    for j in range(1,10):\n",
    "        print(i, ' * ' , j , ' = ', i*j)"
   ]
  },
  {
   "cell_type": "markdown",
   "id": "3914c827-e7dc-4db4-ac62-b66c08831f57",
   "metadata": {},
   "source": [
    "### Python while loops"
   ]
  },
  {
   "cell_type": "code",
   "execution_count": 55,
   "id": "4dc66b42-c3fa-4338-a80d-37ae082c35a2",
   "metadata": {},
   "outputs": [
    {
     "name": "stdout",
     "output_type": "stream",
     "text": [
      "10\n",
      "11\n",
      "12\n",
      "13\n",
      "14\n",
      "15\n",
      "16\n",
      "17\n",
      "18\n",
      "19\n"
     ]
    }
   ],
   "source": [
    "age = 10\n",
    "while age < 20:\n",
    "    print(age)\n",
    "    age = age + 1"
   ]
  },
  {
   "cell_type": "markdown",
   "id": "dd30738e-957d-4c0f-99f7-8057e96842ac",
   "metadata": {},
   "source": [
    "## Python Functions"
   ]
  },
  {
   "cell_type": "code",
   "execution_count": 56,
   "id": "961bec58-eda1-4d72-a01c-d1154bc04f63",
   "metadata": {},
   "outputs": [
    {
     "name": "stdout",
     "output_type": "stream",
     "text": [
      "194.87\n"
     ]
    }
   ],
   "source": [
    "def getfv(pv, r, n):\n",
    "    fv = pv * (( 1+(r)) ** n)\n",
    "    return fv\n",
    "fv = getfv(100, 0.1, 7)\n",
    "print(round(fv,2))"
   ]
  },
  {
   "cell_type": "markdown",
   "id": "ac007d76-9a14-4742-8329-351b3fa6e10a",
   "metadata": {},
   "source": [
    "## Python Classes/Objects"
   ]
  },
  {
   "cell_type": "markdown",
   "id": "2b879b86-e2e1-48f6-88b5-8a82d040a2df",
   "metadata": {},
   "source": [
    "### Python class"
   ]
  },
  {
   "cell_type": "code",
   "execution_count": 59,
   "id": "71148b37-d76f-480f-a5a3-0ce03b7bdf4a",
   "metadata": {},
   "outputs": [
    {
     "name": "stdout",
     "output_type": "stream",
     "text": [
      "5\n"
     ]
    }
   ],
   "source": [
    "class MyClass:\n",
    "    x = 5\n",
    "\n",
    "c1 = MyClass()\n",
    "print(c1.x)"
   ]
  },
  {
   "cell_type": "code",
   "execution_count": 60,
   "id": "12d2b905-38e3-4bd5-990d-1d8b89a19ed3",
   "metadata": {},
   "outputs": [
    {
     "name": "stdout",
     "output_type": "stream",
     "text": [
      "Alan\n",
      "20\n"
     ]
    }
   ],
   "source": [
    "class Person:\n",
    "    def __init__(self, name, age):\n",
    "        self.name = name\n",
    "        self.age = age\n",
    "p1 = Person(\"Alan\", 20)\n",
    "print(p1.name)\n",
    "print(p1.age)"
   ]
  },
  {
   "cell_type": "code",
   "execution_count": 64,
   "id": "a933c2dd-14eb-4937-b3b8-acc77632622a",
   "metadata": {},
   "outputs": [
    {
     "name": "stdout",
     "output_type": "stream",
     "text": [
      "Hello my name is Alan\n"
     ]
    }
   ],
   "source": [
    "class Person:  # Định nghĩa một lớp tên Person\n",
    "    def __init__(self, name, age):  # Hàm khởi tạo, chạy khi tạo đối tượng\n",
    "        self.name = name  # Thuộc tính instance\n",
    "        self.age = age\n",
    "\n",
    "    def myfunc(self):  # Phương thức (method) của lớp\n",
    "        print(\"Hello my name is \" + self.name)\n",
    "\n",
    "\n",
    "# Tạo một đối tượng (instance) từ lớp Person\n",
    "p1 = Person(\"Alan\", 20)\n",
    "\n",
    "# Gọi phương thức myfunc()\n",
    "p1.myfunc()\n"
   ]
  },
  {
   "cell_type": "code",
   "execution_count": 65,
   "id": "fcad9f98-7369-48e2-9c02-794d3584a4b5",
   "metadata": {},
   "outputs": [
    {
     "name": "stdout",
     "output_type": "stream",
     "text": [
      "Hello my name is Alan\n",
      "Alan\n",
      "20\n"
     ]
    }
   ],
   "source": [
    "class Person:\n",
    "    def __init__(self, name, age):\n",
    "        self.name = name\n",
    "        self.age = age\n",
    "    def myfunc(self):\n",
    "        print(\"Hello my name is \" + self.name)\n",
    "\n",
    "p1 = Person(\"Alan\", 20)\n",
    "p1.myfunc()\n",
    "print(p1.name)\n",
    "print(p1.age)"
   ]
  },
  {
   "cell_type": "code",
   "execution_count": 69,
   "id": "c0035cb6-b0e0-4c9e-b945-cfab15b29d84",
   "metadata": {},
   "outputs": [],
   "source": [
    "class Vehicle:\n",
    "    name = \"\"\n",
    "    kind = \"car\"\n",
    "    color = \"\"\n",
    "    value = 100.00\n",
    "    def description(self):\n",
    "        desc_str = \"%s is a %s %s worth $%.2f.\" % (self.name, self.color, self.kind, self.value)\n",
    "        return desc_str"
   ]
  },
  {
   "cell_type": "markdown",
   "id": "effcbede-ce79-4649-a8a1-73331ffb94d0",
   "metadata": {},
   "source": [
    "## Python Modules"
   ]
  },
  {
   "cell_type": "markdown",
   "id": "dbe53a58-a7b6-4188-be51-613b2040baea",
   "metadata": {},
   "source": [
    "### Modules"
   ]
  },
  {
   "cell_type": "code",
   "execution_count": 74,
   "id": "8625cc2f-0ca6-41de-b88b-a7a058a99077",
   "metadata": {},
   "outputs": [],
   "source": [
    "# mymodule.py\n",
    "def greeting(name):\n",
    "    print(\"Hello, \" + name)\n",
    "\n",
    "# import mymodule\n",
    "# mymodule.greeting(\"Alan\")"
   ]
  },
  {
   "cell_type": "markdown",
   "id": "97222fa9-bf23-4760-9d06-052bf042681a",
   "metadata": {},
   "source": [
    "## Python File Input / Output"
   ]
  },
  {
   "cell_type": "code",
   "execution_count": 75,
   "id": "b7649884-c346-426f-876f-9090a06e1ad2",
   "metadata": {},
   "outputs": [
    {
     "name": "stdout",
     "output_type": "stream",
     "text": [
      "Hello World\n",
      "This is Python File Input Output\n"
     ]
    }
   ],
   "source": [
    "# Python File Input / Output\n",
    "with open('myfile.txt', 'w') as file:\n",
    "    file.write('Hello World\\nThis is Python File Input Output')\n",
    "with open('myfile.txt', 'r') as file:\n",
    "    text = file.read()\n",
    "    print(text)"
   ]
  },
  {
   "cell_type": "code",
   "execution_count": 76,
   "id": "3bcf5f98-111a-4983-afa7-a73cbd8ed13a",
   "metadata": {},
   "outputs": [
    {
     "name": "stdout",
     "output_type": "stream",
     "text": [
      "mymodule.py\n",
      "def greeting(name):\n",
      "    print(\"Hello, \" + name)\n",
      "\n"
     ]
    }
   ],
   "source": [
    "# Python File Input / Output\n",
    "filename = 'mymodule.py'\n",
    "\n",
    "# Ghi file\n",
    "with open(filename, 'w') as file:\n",
    "    text = '''def greeting(name):\n",
    "    print(\"Hello, \" + name)\n",
    "'''\n",
    "    file.write(text)\n",
    "\n",
    "# Đọc file\n",
    "with open(filename, 'r') as file:\n",
    "    text = file.read()\n",
    "\n",
    "print(filename)\n",
    "print(text)\n"
   ]
  },
  {
   "cell_type": "markdown",
   "id": "c5699d37-4451-48ad-8e8c-796ad28bd67e",
   "metadata": {},
   "source": [
    "### Python main() function"
   ]
  },
  {
   "cell_type": "code",
   "execution_count": 77,
   "id": "ed6645cc-8845-44ed-9007-ad073546f695",
   "metadata": {},
   "outputs": [
    {
     "name": "stdout",
     "output_type": "stream",
     "text": [
      "Hello World!\n"
     ]
    }
   ],
   "source": [
    "#Python main() function\n",
    "def main():\n",
    "    print(\"Hello World!\")\n",
    "\n",
    "if __name__ == \"__main__\":\n",
    "    main()"
   ]
  },
  {
   "cell_type": "markdown",
   "id": "57a8a826-e761-4455-b3cd-bbcbcb308ac0",
   "metadata": {},
   "source": [
    "## Files and Exception Handling"
   ]
  },
  {
   "cell_type": "markdown",
   "id": "87915cf1-f8cc-47b9-bb99-12ed8deadccf",
   "metadata": {},
   "source": [
    "### Python Files (File Handling)"
   ]
  },
  {
   "cell_type": "code",
   "execution_count": 78,
   "id": "75f28635-66e8-4852-b75a-3d2e6d675602",
   "metadata": {},
   "outputs": [
    {
     "name": "stdout",
     "output_type": "stream",
     "text": [
      "Hello World\n"
     ]
    }
   ],
   "source": [
    "f = open(\"myfile.txt\", \"w\")\n",
    "f.write(\"Hello World\")\n",
    "f.close()\n",
    "\n",
    "f = open(\"myfile.txt\", \"r\")\n",
    "text = f.read()\n",
    "print(text)\n",
    "f.close()"
   ]
  },
  {
   "cell_type": "code",
   "execution_count": 79,
   "id": "6c250956-fc52-4020-9c38-6d9cb16054fb",
   "metadata": {},
   "outputs": [
    {
     "name": "stdout",
     "output_type": "stream",
     "text": [
      "Hello World\n"
     ]
    }
   ],
   "source": [
    "# Python File Input / Output\n",
    "with open('myfile.txt', 'w') as file:\n",
    "    file.write('Hello World')\n",
    "with open('myfile.txt', 'r') as file:\n",
    "    text = file.read()\n",
    "print(text)"
   ]
  },
  {
   "cell_type": "markdown",
   "id": "7bd4026e-ad31-4c5b-adce-9adc9d394df2",
   "metadata": {},
   "source": [
    "## Python Files"
   ]
  },
  {
   "cell_type": "code",
   "execution_count": 80,
   "id": "cdf96b46-2b76-4930-b10f-5e439a0d88ae",
   "metadata": {},
   "outputs": [
    {
     "name": "stdout",
     "output_type": "stream",
     "text": [
      "Hello World\n",
      "Python File IO\n"
     ]
    }
   ],
   "source": [
    "# Python File Input / Output\n",
    "with open('myfile.txt', 'w') as file:\n",
    "    file.write('Hello World\\nPython File IO')\n",
    "\n",
    "with open('myfile.txt', 'r') as file:\n",
    "    text = file.read()\n",
    "\n",
    "print(text)"
   ]
  },
  {
   "cell_type": "code",
   "execution_count": 81,
   "id": "6d2d7e58-96d0-46c2-ba75-c6a4da32f0a1",
   "metadata": {},
   "outputs": [
    {
     "name": "stdout",
     "output_type": "stream",
     "text": [
      "Hello World\n",
      "Python File IO\n",
      "New line\n"
     ]
    }
   ],
   "source": [
    "# Python File Input / Output\n",
    "with open('myfile.txt', 'a+') as file:\n",
    "    file.write('\\n' + 'New line')\n",
    "\n",
    "with open('myfile.txt', 'r') as file:\n",
    "    text = file.read()\n",
    "print(text)"
   ]
  },
  {
   "cell_type": "markdown",
   "id": "68c0b34a-b6d6-486e-9514-f9319a2b78db",
   "metadata": {},
   "source": [
    "### Python OS, IO, files, and Google Drive"
   ]
  },
  {
   "cell_type": "code",
   "execution_count": 83,
   "id": "593cf3ab-9993-4e19-8dc9-19013ac36510",
   "metadata": {},
   "outputs": [
    {
     "name": "stdout",
     "output_type": "stream",
     "text": [
      "C:\\Users\\MSI Gaming\\Desktop\\lab2_DoHuuLoc_3123410201\n"
     ]
    }
   ],
   "source": [
    "import os\n",
    "\n",
    "cwd = os.getcwd()\n",
    "print(cwd)"
   ]
  },
  {
   "cell_type": "code",
   "execution_count": 85,
   "id": "06a7cccc-6b24-486a-8f02-03c6e34c4e2d",
   "metadata": {},
   "outputs": [
    {
     "data": {
      "text/plain": [
       "['.ipynb_checkpoints',\n",
       " 'myfile.txt',\n",
       " 'mymodule.py',\n",
       " 'slide_PTDL-02-PythonProgramming_code.ipynb']"
      ]
     },
     "execution_count": 85,
     "metadata": {},
     "output_type": "execute_result"
    }
   ],
   "source": [
    "os.listdir(cwd)\n"
   ]
  },
  {
   "cell_type": "code",
   "execution_count": null,
   "id": "c9753050-bfbd-4bb6-9351-2b382401b718",
   "metadata": {},
   "outputs": [],
   "source": [
    "from google.colab import files\n",
    "\n",
    "with open('io_file_myday.txt', 'w') as f:\n",
    "    f.write('Google Colab File Write Text some content Myday')\n",
    "\n",
    "import time\n",
    "time.sleep(1) # time sleep 1 second\n",
    "\n",
    "files.download('io_file_myday.txt')\n",
    "print('downloaded')"
   ]
  },
  {
   "cell_type": "code",
   "execution_count": null,
   "id": "5f9d573d-7295-4564-bf65-4f58ac309099",
   "metadata": {},
   "outputs": [],
   "source": [
    "from google.colab import files\n",
    "uploaded = files.upload()\n",
    "\n",
    "for fn in uploaded.keys():\n",
    "    print('User uploaded file \"{name}\" with length {length} bytes'.format(name=fn, length=len(uploaded[fn])))"
   ]
  },
  {
   "cell_type": "code",
   "execution_count": null,
   "id": "fdf22352-3d50-4510-81a3-c8c1ec0e577c",
   "metadata": {},
   "outputs": [],
   "source": [
    "import os\n",
    "if os.path.exists(\"myfile.txt\"):\n",
    "    os.remove(\"myfile.txt\")\n",
    "    print(\"myfile.txt removed\")\n",
    "\n",
    "else:\n",
    "    print(\"The file does not exist\")"
   ]
  },
  {
   "cell_type": "code",
   "execution_count": 92,
   "id": "f0cd180f-a36b-46e4-bb07-84f87e43d97b",
   "metadata": {},
   "outputs": [
    {
     "data": {
      "text/plain": [
       "['.ipynb_checkpoints',\n",
       " 'myfile.txt',\n",
       " 'mymodule.py',\n",
       " 'slide_PTDL-02-PythonProgramming_code.ipynb']"
      ]
     },
     "execution_count": 92,
     "metadata": {},
     "output_type": "execute_result"
    }
   ],
   "source": [
    "import os\n",
    "os.listdir()\n",
    "os.mkdir(\"myfolder1\")\n",
    "os.listdir()\n",
    "os.rmdir(\"myfolder1\")\n",
    "os.listdir()"
   ]
  },
  {
   "cell_type": "markdown",
   "id": "28486aa7-e385-4574-929d-325aeef34c7e",
   "metadata": {},
   "source": [
    "## Python Try Except"
   ]
  },
  {
   "cell_type": "markdown",
   "id": "15ae8e43-6981-40d0-9856-c58655fa494d",
   "metadata": {},
   "source": [
    "### try: except:"
   ]
  },
  {
   "cell_type": "code",
   "execution_count": 95,
   "id": "378892cf-9faf-4638-83b6-778096438b53",
   "metadata": {},
   "outputs": [
    {
     "name": "stdout",
     "output_type": "stream",
     "text": [
      "(10, 20, 30, 40, 50)\n"
     ]
    }
   ],
   "source": [
    "#Python try except\n",
    "try:\n",
    "    print(x)\n",
    "except:\n",
    "    print(\"Exception Error\")"
   ]
  },
  {
   "cell_type": "markdown",
   "id": "d321f859-d63f-456b-8707-461f94bd1566",
   "metadata": {},
   "source": [
    "### Python try: except: finally:"
   ]
  },
  {
   "cell_type": "code",
   "execution_count": 96,
   "id": "2fe45219-8e73-4b7e-b793-d235a9f838b7",
   "metadata": {},
   "outputs": [
    {
     "name": "stdout",
     "output_type": "stream",
     "text": [
      "Hello\n",
      "Finally process\n"
     ]
    }
   ],
   "source": [
    "#Python try except finally\n",
    "try:\n",
    "    print(\"Hello\")\n",
    "except:\n",
    "    print(\"Exception Error\")\n",
    "finally:\n",
    "    print(\"Finally process\")"
   ]
  },
  {
   "cell_type": "markdown",
   "id": "6a60242c-7d1c-4b6e-9f2a-6d79de19c7f0",
   "metadata": {},
   "source": [
    "### Python try: except: else:`"
   ]
  },
  {
   "cell_type": "code",
   "execution_count": 97,
   "id": "a0b746c4-207a-4a64-9be9-e156b4473628",
   "metadata": {},
   "outputs": [
    {
     "name": "stdout",
     "output_type": "stream",
     "text": [
      "Hello\n",
      "No exception\n"
     ]
    }
   ],
   "source": [
    "#Python try except else\n",
    "try:\n",
    "    print(\"Hello\")\n",
    "except:\n",
    "    print(\"Exception Error\")\n",
    "else:\n",
    "    print(\"No exception\")"
   ]
  },
  {
   "cell_type": "markdown",
   "id": "fb7bf8dc-5858-4f42-a1a9-0239bc57b601",
   "metadata": {},
   "source": [
    "### Python try: except: else: finally:"
   ]
  },
  {
   "cell_type": "code",
   "execution_count": 98,
   "id": "203793ae-04a9-4a48-a3f5-87b7eddb44b7",
   "metadata": {},
   "outputs": [
    {
     "name": "stdout",
     "output_type": "stream",
     "text": [
      "Hello\n",
      "No exception\n",
      "Finally process\n"
     ]
    }
   ],
   "source": [
    "try:\n",
    "    print(\"Hello\")\n",
    "\n",
    "except:\n",
    "    print(\"Exception Error\")\n",
    "else:\n",
    "    print(\"No exception\")\n",
    "finally:\n",
    "    print(\"Finally process\")"
   ]
  },
  {
   "cell_type": "code",
   "execution_count": 99,
   "id": "958bbd1c-9b9c-4437-835d-8bbf610d3f74",
   "metadata": {},
   "outputs": [
    {
     "name": "stdin",
     "output_type": "stream",
     "text": [
      "Enter the price of the stock (e.g. 10): \n"
     ]
    },
    {
     "name": "stdout",
     "output_type": "stream",
     "text": [
      "Exception error: could not convert string to float: ''\n",
      "Thank you.\n"
     ]
    }
   ],
   "source": [
    "try:\n",
    "    price = float(input(\"Enter the price of the stock (e.g. 10):\"))\n",
    "    shares = int(input(\"Enter the number of shares (e.g. 2):\"))\n",
    "    total = price * shares\n",
    "except Exception as e:\n",
    "    print(\"Exception error:\", str(e))\n",
    "else:\n",
    "    print(\"The total value of the shares is:\", total)\n",
    "finally:\n",
    "    print(\"Thank you.\")"
   ]
  },
  {
   "cell_type": "code",
   "execution_count": 100,
   "id": "02c5eeef-2c8f-43d8-9d48-1ff923af95a2",
   "metadata": {},
   "outputs": [
    {
     "name": "stdout",
     "output_type": "stream",
     "text": [
      "Exception file Error\n"
     ]
    }
   ],
   "source": [
    "try:\n",
    "    file = open(\"myfile.txt\")\n",
    "    file.write(\"Python write file\")\n",
    "    print(\"file saved\")\n",
    "except:\n",
    "    print(\"Exception file Error\")"
   ]
  },
  {
   "cell_type": "code",
   "execution_count": 101,
   "id": "054814f7-b266-41d4-9fe4-8bb0790a6ebe",
   "metadata": {},
   "outputs": [
    {
     "name": "stdout",
     "output_type": "stream",
     "text": [
      "Exception file Error\n",
      "Finally process\n"
     ]
    }
   ],
   "source": [
    "try:\n",
    "    file = open(\"myfile.txt\")\n",
    "    file.write(\"Python write file\")\n",
    "    print(\"file saved\")\n",
    "except:\n",
    "    print(\"Exception file Error\")\n",
    "finally:\n",
    "    file.close()\n",
    "    print(\"Finally process\")"
   ]
  },
  {
   "cell_type": "code",
   "execution_count": 104,
   "id": "a3d53101-a00c-4029-b4e9-5ec18a77ca29",
   "metadata": {},
   "outputs": [
    {
     "name": "stdout",
     "output_type": "stream",
     "text": [
      "file saved\n",
      "Finally process\n"
     ]
    }
   ],
   "source": [
    "try:\n",
    "    file = open(\"myfile.txt\", 'w')\n",
    "    file.write(\"Python write file\")\n",
    "    print(\"file saved\")\n",
    "except:\n",
    "    print(\"Exception file Error\")\n",
    "finally:\n",
    "    file.close()\n",
    "    print(\"Finally process\")"
   ]
  },
  {
   "cell_type": "markdown",
   "id": "1f326814-5618-4baf-8251-2222f75ea064",
   "metadata": {},
   "source": [
    "# END"
   ]
  },
  {
   "cell_type": "code",
   "execution_count": null,
   "id": "9201ba2f-d80b-4b94-b642-93906136c2b0",
   "metadata": {},
   "outputs": [],
   "source": []
  }
 ],
 "metadata": {
  "kernelspec": {
   "display_name": "Python [conda env:base] *",
   "language": "python",
   "name": "conda-base-py"
  },
  "language_info": {
   "codemirror_mode": {
    "name": "ipython",
    "version": 3
   },
   "file_extension": ".py",
   "mimetype": "text/x-python",
   "name": "python",
   "nbconvert_exporter": "python",
   "pygments_lexer": "ipython3",
   "version": "3.13.5"
  }
 },
 "nbformat": 4,
 "nbformat_minor": 5
}
