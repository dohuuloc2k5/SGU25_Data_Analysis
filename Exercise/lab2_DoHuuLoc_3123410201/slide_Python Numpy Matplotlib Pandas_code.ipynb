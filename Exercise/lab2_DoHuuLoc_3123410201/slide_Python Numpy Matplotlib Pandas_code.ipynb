{
 "cells": [
  {
   "cell_type": "markdown",
   "id": "42accf92-0ac1-40e9-b257-f4baa8d06aa8",
   "metadata": {},
   "source": [
    "# Ôn tập Python, Numpy, Matplotlib và Pandas"
   ]
  },
  {
   "cell_type": "markdown",
   "id": "d9d7ae30-9fd4-40f9-9f80-a7f7a169dde4",
   "metadata": {},
   "source": [
    "## Biến Kiểu, dữ liệu, Khối lệnh"
   ]
  },
  {
   "cell_type": "markdown",
   "id": "2c32fc4e-3d51-4fd2-9e52-ee8167a6d1e6",
   "metadata": {},
   "source": [
    "### Biến"
   ]
  },
  {
   "cell_type": "code",
   "execution_count": 1,
   "id": "8dc436fb-bc4d-42fb-8931-6cc7d4e94524",
   "metadata": {},
   "outputs": [],
   "source": [
    "n = 12 # biến n là kiểu nguyên\n",
    "n = n + 0.1 # biến n chuyển sang kiểu thực"
   ]
  },
  {
   "cell_type": "markdown",
   "id": "375f5a11-4377-4c0f-9026-543fcb0585c5",
   "metadata": {},
   "source": [
    "### Dữ liệu kiểu chuỗi"
   ]
  },
  {
   "cell_type": "code",
   "execution_count": 4,
   "id": "0f9c591f-dbeb-42d0-a20d-b822e9b95ba3",
   "metadata": {},
   "outputs": [
    {
     "name": "stdout",
     "output_type": "stream",
     "text": [
      "matt\n",
      "I ain't gonna\n",
      "This string has multiple lines in it\n"
     ]
    }
   ],
   "source": [
    "name = 'matt' \n",
    "print(name)\n",
    "# chuỗi trong nó có chứa dấu nháy đơn\n",
    "with_quote = \"I ain't gonna\" \n",
    "print(with_quote)\n",
    "# chuỗi có nôi dung nằm trên 2 dòng\n",
    "longer = \"\"\"This string has multiple lines in it\"\"\"\n",
    "print(longer)\n",
    "\n",
    "\n",
    "\n"
   ]
  },
  {
   "cell_type": "markdown",
   "id": "fd29d88b-966f-4888-ac89-b1b39a04cfc1",
   "metadata": {},
   "source": [
    "### Chuỗi trần"
   ]
  },
  {
   "cell_type": "code",
   "execution_count": 8,
   "id": "4f2eee19-2275-4972-a1a4-0123d807d69f",
   "metadata": {},
   "outputs": [
    {
     "name": "stdout",
     "output_type": "stream",
     "text": [
      "\\neu moi ngay\n"
     ]
    }
   ],
   "source": [
    "a = r'\\neu moi ngay'   # chuỗi raw (raw string)\n",
    "print(a)"
   ]
  },
  {
   "cell_type": "markdown",
   "id": "853a9afe-dc98-457c-a953-c2c0f853e413",
   "metadata": {},
   "source": [
    "### Chú thích (comment)"
   ]
  },
  {
   "cell_type": "code",
   "execution_count": 9,
   "id": "fb85cf61-a09b-45fe-83d0-ebaa46523857",
   "metadata": {},
   "outputs": [
    {
     "name": "stdout",
     "output_type": "stream",
     "text": [
      "day la chuong trinh python\n"
     ]
    }
   ],
   "source": [
    "print(\"day la chuong trinh python\") # đây là ghi chú và sẽ không được biên dịch"
   ]
  },
  {
   "cell_type": "markdown",
   "id": "e4207ac0-49c8-4775-9bb8-902a70aefe0d",
   "metadata": {},
   "source": [
    "## Nhập và Xuất dữ liệu"
   ]
  },
  {
   "cell_type": "markdown",
   "id": "3008b7f9-9649-43ce-b566-b47d055a69a8",
   "metadata": {},
   "source": [
    "### Xuất dữ liệu"
   ]
  },
  {
   "cell_type": "code",
   "execution_count": 10,
   "id": "30a557ce-d3ab-4727-b051-61fee0bfeda8",
   "metadata": {},
   "outputs": [
    {
     "name": "stdout",
     "output_type": "stream",
     "text": [
      "42\n",
      "a =  \\neu moi ngay\n",
      "a b\n",
      "ab\n",
      "192.168.178.42\n",
      "a:-)b\n"
     ]
    }
   ],
   "source": [
    "print(42)\n",
    "print(\"a = \", a)\n",
    "print(\"a\",\"b\")\n",
    "print(\"a\",\"b\",sep=\"\")\n",
    "print(192,168,178,42,sep=\".\")\n",
    "print(\"a\",\"b\",sep=\":-)\")\n"
   ]
  },
  {
   "cell_type": "markdown",
   "id": "b5858590-570e-4d46-9eba-ea192241eb20",
   "metadata": {},
   "source": [
    "### Nhập dữ liệu"
   ]
  },
  {
   "cell_type": "code",
   "execution_count": 14,
   "id": "e35a36ce-ee9a-4ce3-b152-3a0f7a85db97",
   "metadata": {},
   "outputs": [
    {
     "name": "stdin",
     "output_type": "stream",
     "text": [
      "What's your name?  loc\n"
     ]
    },
    {
     "name": "stdout",
     "output_type": "stream",
     "text": [
      "Nice to meet you loc!\n"
     ]
    },
    {
     "name": "stdin",
     "output_type": "stream",
     "text": [
      "Your age?  5\n"
     ]
    },
    {
     "name": "stdout",
     "output_type": "stream",
     "text": [
      "You are already 5 years old, loc!\n"
     ]
    }
   ],
   "source": [
    "#Sử dụng hàm input để nhập dữ liệu từ bàn phím\n",
    "name = input(\"What's your name? \")\n",
    "print(\"Nice to meet you \" + name + \"!\")\n",
    "age = input(\"Your age? \")\n",
    "print(\"You are already \" + age + \" years old, \" + name + \"!\")"
   ]
  },
  {
   "cell_type": "code",
   "execution_count": 13,
   "id": "a37d04dc-9f28-493b-923b-be3db1316c84",
   "metadata": {},
   "outputs": [
    {
     "name": "stdin",
     "output_type": "stream",
     "text": [
      "Your age?  5\n"
     ]
    },
    {
     "name": "stdout",
     "output_type": "stream",
     "text": [
      "You are already %d years old! 5\n"
     ]
    }
   ],
   "source": [
    "#Có thể kết hợp chuyển kiểu nếu muốn tường minh\n",
    "age = int(input(\"Your age? \"))\n",
    "print(\"You are already %d years old!\", age)"
   ]
  },
  {
   "cell_type": "markdown",
   "id": "a19a9be4-52d0-4eff-9c06-324ee6681412",
   "metadata": {},
   "source": [
    "## Ví dụ minh họa Giải phương trình bậc 2"
   ]
  },
  {
   "cell_type": "code",
   "execution_count": 19,
   "id": "2cfc9064-760d-4007-aa3d-3265f3340df4",
   "metadata": {},
   "outputs": [
    {
     "name": "stdin",
     "output_type": "stream",
     "text": [
      "A =  1\n",
      "B =  2\n",
      "C =  3\n"
     ]
    },
    {
     "name": "stdout",
     "output_type": "stream",
     "text": [
      "Phuong trinh vo nghiem\n"
     ]
    }
   ],
   "source": [
    "# Nhập a,b,c kiểu số thực và tính delta\n",
    "a = float(input(\"A = \" ))\n",
    "b = float(input(\"B = \" ))\n",
    "c = float(input(\"C = \" ))\n",
    "delta = b*b-4*a*c\n",
    "#Biện luận các trường hợp của mdelta\n",
    "if delta== 0:\n",
    "    print(\"Nghiem kep: x = \", str(-b/2/a))\n",
    "\n",
    "if delta<0:\n",
    "    print(\"Phuong trinh vo nghiem\")\n",
    "\n",
    "if delta>0:\n",
    "    print(\"X1 = \" + str((-b+delta**0.5)/2/a))\n",
    "    print(\"X2 = \" + str((-b-delta**0.5)/2/a))"
   ]
  },
  {
   "cell_type": "markdown",
   "id": "dc46d24a-7c9a-425b-8b79-d743dfdc4d63",
   "metadata": {},
   "source": [
    "## Kiểu dữ liệu & phép toán"
   ]
  },
  {
   "cell_type": "markdown",
   "id": "1f9f1362-9281-4afb-88a6-e047bcc8ece4",
   "metadata": {},
   "source": [
    "### Kiểu số"
   ]
  },
  {
   "cell_type": "code",
   "execution_count": 24,
   "id": "8ea6ddcf-57f3-45ea-b143-b39006e51870",
   "metadata": {},
   "outputs": [
    {
     "name": "stdout",
     "output_type": "stream",
     "text": [
      "1234\n",
      "2801\n",
      "506\n",
      "9\n"
     ]
    }
   ],
   "source": [
    "# Python viết số nguyên theo nhiều hệ cơ số\n",
    "A = 1234 # hệ cơ số 10\n",
    "print(A)\n",
    "B = 0xAF1 # hệ cơ số 16\n",
    "print(B)\n",
    "C = 0o772 # hệ cơ số 8\n",
    "print(C)\n",
    "D = 0b1001 # hệ cơ số 2\n",
    "print(D)"
   ]
  },
  {
   "cell_type": "code",
   "execution_count": 27,
   "id": "28d7f205-11c1-4121-bdb1-1b834d843b8d",
   "metadata": {},
   "outputs": [
    {
     "name": "stdout",
     "output_type": "stream",
     "text": [
      "1234\n",
      "0x4d2\n",
      "0o2322\n",
      "0b10011010010\n"
     ]
    }
   ],
   "source": [
    "K = str(1234) # chuyển thành str ở hệ cơ số 10\n",
    "L = hex(1234) # chuyển thành str ở hệ cơ số 16\n",
    "M = oct(1234) # chuyển thành str ở hệ cơ số 8\n",
    "N = bin(1234) # chuyển thành str ở hệ cơ số 2\n",
    "print(K)\n",
    "print(L)\n",
    "print(M)\n",
    "print(N)"
   ]
  },
  {
   "cell_type": "markdown",
   "id": "5c350442-b447-4f50-92ad-4e938c89d0c8",
   "metadata": {},
   "source": [
    "### Phép toán"
   ]
  },
  {
   "cell_type": "code",
   "execution_count": 28,
   "id": "5b28ddc2-88c2-4781-90b2-2a47c6e2100b",
   "metadata": {},
   "outputs": [
    {
     "data": {
      "text/plain": [
       "3.3333333333333335"
      ]
     },
     "execution_count": 28,
     "metadata": {},
     "output_type": "execute_result"
    }
   ],
   "source": [
    "#Chia đúng \n",
    "10/3"
   ]
  },
  {
   "cell_type": "code",
   "execution_count": 29,
   "id": "625070b0-3174-4ef7-b4df-d2e100f9734b",
   "metadata": {},
   "outputs": [],
   "source": [
    "#Chia nguyên"
   ]
  },
  {
   "cell_type": "code",
   "execution_count": 31,
   "id": "25e0046c-e910-43aa-b83a-0b7867ff5707",
   "metadata": {},
   "outputs": [
    {
     "data": {
      "text/plain": [
       "3"
      ]
     },
     "execution_count": 31,
     "metadata": {},
     "output_type": "execute_result"
    }
   ],
   "source": [
    "10//3\n"
   ]
  },
  {
   "cell_type": "markdown",
   "id": "64f2ddb2-7177-4c91-8ae0-8a897e984d2c",
   "metadata": {},
   "source": [
    "## Cấu trúc rẽ nhánh"
   ]
  },
  {
   "cell_type": "code",
   "execution_count": 35,
   "id": "21c8acca-e8c5-4003-9a8f-f50ecea4c252",
   "metadata": {},
   "outputs": [
    {
     "name": "stdin",
     "output_type": "stream",
     "text": [
      "What's your name?  loc\n"
     ]
    },
    {
     "name": "stdout",
     "output_type": "stream",
     "text": [
      "Nice to meet you loc!\n"
     ]
    },
    {
     "name": "stdin",
     "output_type": "stream",
     "text": [
      "Your age?  20\n"
     ]
    },
    {
     "name": "stdout",
     "output_type": "stream",
     "text": [
      "You are already 20 years old, loc !\n",
      "Đủ tuổi đi bầu cử\n"
     ]
    }
   ],
   "source": [
    "name = input(\"What's your name? \")\n",
    "print(\"Nice to meet you \" + name + \"!\")\n",
    "age = int(input(\"Your age? \"))\n",
    "print(\"You are already\", age, \"years old,\",\n",
    "name, \"!\")\n",
    "if age>=18:\n",
    "    print(\"Đủ tuổi đi bầu cử\")\n",
    "    if age>100:\n",
    "        print(\"Có vẻ sai sai!\")\n",
    "else:\n",
    "    print(\"Nhỏ quá\")"
   ]
  },
  {
   "cell_type": "markdown",
   "id": "d6b479f5-c301-4efe-a00e-1dd3a77147d6",
   "metadata": {},
   "source": [
    "## Vòng lặp"
   ]
  },
  {
   "cell_type": "markdown",
   "id": "d3fd2f5b-3933-4469-9a4a-fdedcc298cdd",
   "metadata": {},
   "source": [
    "## Vòng lặp for"
   ]
  },
  {
   "cell_type": "code",
   "execution_count": 38,
   "id": "afcf12c2-1538-4e9d-ac44-dbe9f8e7ff30",
   "metadata": {},
   "outputs": [
    {
     "name": "stdout",
     "output_type": "stream",
     "text": [
      "10\n",
      "11\n",
      "12\n",
      "13\n",
      "14\n",
      "15\n",
      "16\n",
      "17\n",
      "18\n",
      "19\n"
     ]
    }
   ],
   "source": [
    "for d in range(10,20): # in các số từ 10 đến 19\n",
    "    print(d)\n"
   ]
  },
  {
   "cell_type": "code",
   "execution_count": 39,
   "id": "1d2d6e4a-e720-4589-94b7-5e3f66d58445",
   "metadata": {},
   "outputs": [
    {
     "name": "stdout",
     "output_type": "stream",
     "text": [
      "20\n",
      "19\n",
      "18\n",
      "17\n",
      "16\n",
      "15\n",
      "14\n",
      "13\n",
      "12\n",
      "11\n"
     ]
    }
   ],
   "source": [
    "for d in range(20,10,-1): # in các số từ 20 đến 11\n",
    "    print(d)"
   ]
  },
  {
   "cell_type": "markdown",
   "id": "e8b3e098-a677-448e-89f9-7ba1602812d4",
   "metadata": {},
   "source": [
    "## Hàm"
   ]
  },
  {
   "cell_type": "code",
   "execution_count": 43,
   "id": "dedd278c-5461-499e-920f-9cfe4ac37141",
   "metadata": {},
   "outputs": [
    {
     "name": "stdout",
     "output_type": "stream",
     "text": [
      "200\n",
      "10\n",
      "5\n",
      "30\n"
     ]
    }
   ],
   "source": [
    "# hàm tính tích 2 số\n",
    "def tich(a, b=1):\n",
    "    return a*b\n",
    "print(tich(10, 20)) # 200\n",
    "print(tich(10)) # 10\n",
    "print(tich(a=5)) # 5\n",
    "print(tich(b=6, a=5)) # 30"
   ]
  },
  {
   "cell_type": "markdown",
   "id": "29c802d8-9c54-499d-af7c-38df73fea0ac",
   "metadata": {},
   "source": [
    "## Chuỗi và danh sách"
   ]
  },
  {
   "cell_type": "markdown",
   "id": "cafd2cfc-0c23-4754-89fb-3b8005ad1f6f",
   "metadata": {},
   "source": [
    "### Kiểu dữ liệu tuần tự (sequential data type)"
   ]
  },
  {
   "cell_type": "markdown",
   "id": "c7e92d56-0aa9-46cc-876f-2e6b4ca8d472",
   "metadata": {},
   "source": [
    "### String (chuỗi)"
   ]
  },
  {
   "cell_type": "code",
   "execution_count": 46,
   "id": "af463457-b6df-48cf-ac54-d12ec7af9f68",
   "metadata": {},
   "outputs": [
    {
     "name": "stdout",
     "output_type": "stream",
     "text": [
      "Good Morning!\n",
      "ABABAB\n"
     ]
    },
    {
     "data": {
      "text/plain": [
       "True"
      ]
     },
     "execution_count": 46,
     "metadata": {},
     "output_type": "execute_result"
    }
   ],
   "source": [
    "# Kiểu chuỗi\n",
    "s = \"Good\" + \" \" + \"Morning!\"\n",
    "print(s)\n",
    "\n",
    "s = \"AB\" * 3 # số nguyên\n",
    "print(s)\n",
    "s in '1ABABABCD' # True\n"
   ]
  },
  {
   "cell_type": "markdown",
   "id": "9f19f1de-3bae-47b8-b02f-0e11daeea941",
   "metadata": {},
   "source": [
    "### Chỉ mục trong chuỗi"
   ]
  },
  {
   "cell_type": "markdown",
   "id": "c668ddea-81b5-4758-8ee8-b5614371b9cf",
   "metadata": {},
   "source": [
    "### Cắt chuỗi"
   ]
  },
  {
   "cell_type": "code",
   "execution_count": 47,
   "id": "88c394cc-834c-4d0c-9ad6-7352d6d50642",
   "metadata": {},
   "outputs": [
    {
     "name": "stdout",
     "output_type": "stream",
     "text": [
      "345\n",
      "3456789\n",
      "012345\n",
      "345\n",
      "\n",
      "654\n",
      "0123456789\n",
      "012345678\n",
      "0123456789\n",
      "9876543210\n",
      "9876543210\n",
      "876543210\n"
     ]
    }
   ],
   "source": [
    "s = '0123456789'\n",
    "print(s[3:6])\n",
    "print(s[3:])\n",
    "print(s[:6])\n",
    "print(s[-7:-4])\n",
    "print(s[-4:-7])\n",
    "print(s[-4:-7:-1])\n",
    "print(s[:len(s)])\n",
    "print(s[:len(s)-1])\n",
    "print(s[:])\n",
    "print(s[len(s)::-1])\n",
    "print(s[len(s)-1::-1])\n",
    "print(s[len(s)-2::-1])\n"
   ]
  },
  {
   "cell_type": "markdown",
   "id": "ae84d95d-d54c-4808-8338-50b43fc0050c",
   "metadata": {},
   "source": [
    "### Định dạng chuỗi"
   ]
  },
  {
   "cell_type": "code",
   "execution_count": 49,
   "id": "754df5e5-1086-4f4d-b492-36950b7ec543",
   "metadata": {},
   "outputs": [
    {
     "name": "stdout",
     "output_type": "stream",
     "text": [
      "This is DHNTT.\n",
      "This is DHNTT. DHNTT\n",
      "{s} This is DHNTT.\n"
     ]
    }
   ],
   "source": [
    "# Python cho phép định dạng chuỗi ở dạng f-string\n",
    "myname = 'DHNTT'\n",
    "s = f'This is {myname}.' \n",
    "print(s)\n",
    "w = f'{s} {myname}' \n",
    "print(w)\n",
    "z = f'{{s}} {s}' \n",
    "print(z)"
   ]
  },
  {
   "cell_type": "code",
   "execution_count": 50,
   "id": "51bf8011-27b0-46f2-ab22-96c97fdd2079",
   "metadata": {},
   "outputs": [
    {
     "data": {
      "text/plain": [
       "'1: 111, 2: 222'"
      ]
     },
     "execution_count": 50,
     "metadata": {},
     "output_type": "execute_result"
    }
   ],
   "source": [
    "#Mạnh mẽ nhất là định dạng bằng format\n",
    "# điền lần lượt từng giá trị vào giữa cặp ngoặc nhọn\n",
    "'a: {}, b: {}, c: {}'.format(1, 2, 3)\n",
    "# điền nhưng không lần lượt\n",
    "'a: {1}, b: {2}, c: {0}'.format('one', 'two', 'three')\n",
    "'two same values: {0}, {0}'.format(1, 2)\n",
    "# điền và chỉ định từng giá trị\n",
    "'1: {one}, 2: {two}'.format(one=111, two=222)"
   ]
  },
  {
   "cell_type": "code",
   "execution_count": 52,
   "id": "2d8edeea-8d94-4043-bc9a-c06a7cd80333",
   "metadata": {},
   "outputs": [
    {
     "data": {
      "text/plain": [
       "'+++aaaa+++'"
      ]
     },
     "execution_count": 52,
     "metadata": {},
     "output_type": "execute_result"
    }
   ],
   "source": [
    "#Định dạng bằng format cho phép căn lề phong phú\n",
    "# căn giữa: ' aaaa '\n",
    "'{:^10}'.format('aaaa')\n",
    "# căn lề trái: 'aaaa '\n",
    "'{:<10}'.format('aaaa')\n",
    "# căn lề phải ' aaaa'\n",
    "'{:>10}'.format('aaaa')\n",
    "# căn lề phải, thay khoảng trắng bằng -: '------aaaa'\n",
    "'{:->10}'.format('aaaa')\n",
    "# căn lề trái, thay khoảng trắng *: 'aaa******'\n",
    "'{:*<10}'.format('aaaa')\n",
    "# căn giữa, thay khoảng trắng bằng +: '+++aaaa+++'\n",
    "'{:+^10}'.format('aaaa')"
   ]
  },
  {
   "cell_type": "markdown",
   "id": "39cc73a3-cea8-4d98-89c3-81f2bed6a670",
   "metadata": {},
   "source": [
    "### Các phương thức của chuỗi"
   ]
  },
  {
   "cell_type": "markdown",
   "id": "04bcbfc6-0f87-4f23-9e59-4755dd0d9ce7",
   "metadata": {},
   "source": [
    "## List (danh sách)"
   ]
  },
  {
   "cell_type": "markdown",
   "id": "29e5f293-3df5-4c6b-b91f-13ff83d6955d",
   "metadata": {},
   "source": [
    "### Giới thiệu và khai báo"
   ]
  },
  {
   "cell_type": "code",
   "execution_count": 53,
   "id": "2b077eb0-1ada-4dfb-83cc-ec155cf44eb8",
   "metadata": {},
   "outputs": [
    {
     "data": {
      "text/plain": [
       "[]"
      ]
     },
     "execution_count": 53,
     "metadata": {},
     "output_type": "execute_result"
    }
   ],
   "source": [
    "[1, 2, 3, 4, 5] # list 5 số nguyên\n",
    "['a', 'b', 'c', 'd'] # list 4 chuỗi\n",
    "[[1, 2], [3, 4]] # list 2 list con\n",
    "[1, 'one', [2, 'two']] # list hỗ hợp\n",
    "[] # list rỗng"
   ]
  },
  {
   "cell_type": "markdown",
   "id": "8ab2cdf9-f283-49a9-9626-d6bbdb0d76d1",
   "metadata": {},
   "source": [
    "### Khởi tạo list"
   ]
  },
  {
   "cell_type": "code",
   "execution_count": 55,
   "id": "efb7123e-f667-4cc1-b2f1-314641ba1b1e",
   "metadata": {},
   "outputs": [
    {
     "name": "stdout",
     "output_type": "stream",
     "text": [
      "[1, 2, 3, 4]\n",
      "['a', 'b', 'c']\n",
      "[]\n"
     ]
    }
   ],
   "source": [
    "# Tạo list bằng constructor\n",
    "l1 = list([1, 2, 3, 4]) # list 4 số nguyên\n",
    "print(l1)\n",
    "l2 = list('abc') # list 3 chuỗi con\n",
    "print(l2)\n",
    "l3 = list() # list rỗng\n",
    "print(l3)"
   ]
  },
  {
   "cell_type": "code",
   "execution_count": 59,
   "id": "ac8ebecc-b8b0-40fb-b195-6f73e33e6b9d",
   "metadata": {},
   "outputs": [
    {
     "name": "stdout",
     "output_type": "stream",
     "text": [
      "[0, 1, 2, 3, 4, 5, 6, 7, 8, 9, 10, 11, 12, 13, 14, 15, 16, 17, 18, 19, 20, 21, 22, 23, 24, 25, 26, 27, 28, 29, 30, 31, 32, 33, 34, 35, 36, 37, 38, 39, 40, 41, 42, 43, 44, 45, 46, 47, 48, 49, 50, 51, 52, 53, 54, 55, 56, 57, 58, 59, 60, 61, 62, 63, 64, 65, 66, 67, 68, 69, 70, 71, 72, 73, 74, 75, 76, 77, 78, 79, 80, 81, 82, 83, 84, 85, 86, 87, 88, 89, 90, 91, 92, 93, 94, 95, 96, 97, 98, 99, 100, 101, 102, 103, 104, 105, 106, 107, 108, 109, 110, 111, 112, 113, 114, 115, 116, 117, 118, 119, 120, 121, 122, 123, 124, 125, 126, 127, 128, 129, 130, 131, 132, 133, 134, 135, 136, 137, 138, 139, 140, 141, 142, 143, 144, 145, 146, 147, 148, 149, 150, 151, 152, 153, 154, 155, 156, 157, 158, 159, 160, 161, 162, 163, 164, 165, 166, 167, 168, 169, 170, 171, 172, 173, 174, 175, 176, 177, 178, 179, 180, 181, 182, 183, 184, 185, 186, 187, 188, 189, 190, 191, 192, 193, 194, 195, 196, 197, 198, 199, 200, 201, 202, 203, 204, 205, 206, 207, 208, 209, 210, 211, 212, 213, 214, 215, 216, 217, 218, 219, 220, 221, 222, 223, 224, 225, 226, 227, 228, 229, 230, 231, 232, 233, 234, 235, 236, 237, 238, 239, 240, 241, 242, 243, 244, 245, 246, 247, 248, 249, 250, 251, 252, 253, 254, 255, 256, 257, 258, 259, 260, 261, 262, 263, 264, 265, 266, 267, 268, 269, 270, 271, 272, 273, 274, 275, 276, 277, 278, 279, 280, 281, 282, 283, 284, 285, 286, 287, 288, 289, 290, 291, 292, 293, 294, 295, 296, 297, 298, 299, 300, 301, 302, 303, 304, 305, 306, 307, 308, 309, 310, 311, 312, 313, 314, 315, 316, 317, 318, 319, 320, 321, 322, 323, 324, 325, 326, 327, 328, 329, 330, 331, 332, 333, 334, 335, 336, 337, 338, 339, 340, 341, 342, 343, 344, 345, 346, 347, 348, 349, 350, 351, 352, 353, 354, 355, 356, 357, 358, 359, 360, 361, 362, 363, 364, 365, 366, 367, 368, 369, 370, 371, 372, 373, 374, 375, 376, 377, 378, 379, 380, 381, 382, 383, 384, 385, 386, 387, 388, 389, 390, 391, 392, 393, 394, 395, 396, 397, 398, 399, 400, 401, 402, 403, 404, 405, 406, 407, 408, 409, 410, 411, 412, 413, 414, 415, 416, 417, 418, 419, 420, 421, 422, 423, 424, 425, 426, 427, 428, 429, 430, 431, 432, 433, 434, 435, 436, 437, 438, 439, 440, 441, 442, 443, 444, 445, 446, 447, 448, 449, 450, 451, 452, 453, 454, 455, 456, 457, 458, 459, 460, 461, 462, 463, 464, 465, 466, 467, 468, 469, 470, 471, 472, 473, 474, 475, 476, 477, 478, 479, 480, 481, 482, 483, 484, 485, 486, 487, 488, 489, 490, 491, 492, 493, 494, 495, 496, 497, 498, 499, 500, 501, 502, 503, 504, 505, 506, 507, 508, 509, 510, 511, 512, 513, 514, 515, 516, 517, 518, 519, 520, 521, 522, 523, 524, 525, 526, 527, 528, 529, 530, 531, 532, 533, 534, 535, 536, 537, 538, 539, 540, 541, 542, 543, 544, 545, 546, 547, 548, 549, 550, 551, 552, 553, 554, 555, 556, 557, 558, 559, 560, 561, 562, 563, 564, 565, 566, 567, 568, 569, 570, 571, 572, 573, 574, 575, 576, 577, 578, 579, 580, 581, 582, 583, 584, 585, 586, 587, 588, 589, 590, 591, 592, 593, 594, 595, 596, 597, 598, 599, 600, 601, 602, 603, 604, 605, 606, 607, 608, 609, 610, 611, 612, 613, 614, 615, 616, 617, 618, 619, 620, 621, 622, 623, 624, 625, 626, 627, 628, 629, 630, 631, 632, 633, 634, 635, 636, 637, 638, 639, 640, 641, 642, 643, 644, 645, 646, 647, 648, 649, 650, 651, 652, 653, 654, 655, 656, 657, 658, 659, 660, 661, 662, 663, 664, 665, 666, 667, 668, 669, 670, 671, 672, 673, 674, 675, 676, 677, 678, 679, 680, 681, 682, 683, 684, 685, 686, 687, 688, 689, 690, 691, 692, 693, 694, 695, 696, 697, 698, 699, 700, 701, 702, 703, 704, 705, 706, 707, 708, 709, 710, 711, 712, 713, 714, 715, 716, 717, 718, 719, 720, 721, 722, 723, 724, 725, 726, 727, 728, 729, 730, 731, 732, 733, 734, 735, 736, 737, 738, 739, 740, 741, 742, 743, 744, 745, 746, 747, 748, 749, 750, 751, 752, 753, 754, 755, 756, 757, 758, 759, 760, 761, 762, 763, 764, 765, 766, 767, 768, 769, 770, 771, 772, 773, 774, 775, 776, 777, 778, 779, 780, 781, 782, 783, 784, 785, 786, 787, 788, 789, 790, 791, 792, 793, 794, 795, 796, 797, 798, 799, 800, 801, 802, 803, 804, 805, 806, 807, 808, 809, 810, 811, 812, 813, 814, 815, 816, 817, 818, 819, 820, 821, 822, 823, 824, 825, 826, 827, 828, 829, 830, 831, 832, 833, 834, 835, 836, 837, 838, 839, 840, 841, 842, 843, 844, 845, 846, 847, 848, 849, 850, 851, 852, 853, 854, 855, 856, 857, 858, 859, 860, 861, 862, 863, 864, 865, 866, 867, 868, 869, 870, 871, 872, 873, 874, 875, 876, 877, 878, 879, 880, 881, 882, 883, 884, 885, 886, 887, 888, 889, 890, 891, 892, 893, 894, 895, 896, 897, 898, 899, 900, 901, 902, 903, 904, 905, 906, 907, 908, 909, 910, 911, 912, 913, 914, 915, 916, 917, 918, 919, 920, 921, 922, 923, 924, 925, 926, 927, 928, 929, 930, 931, 932, 933, 934, 935, 936, 937, 938, 939, 940, 941, 942, 943, 944, 945, 946, 947, 948, 949, 950, 951, 952, 953, 954, 955, 956, 957, 958, 959, 960, 961, 962, 963, 964, 965, 966, 967, 968, 969, 970, 971, 972, 973, 974, 975, 976, 977, 978, 979, 980, 981, 982, 983, 984, 985, 986, 987, 988, 989, 990, 991, 992, 993, 994, 995, 996, 997, 998, 999]\n",
      "---------------------------------------------------------------------------------------------------------------------------------------------\n",
      "[[0, 0], [1, 1], [2, 4], [3, 9], [4, 16], [5, 25], [6, 36], [7, 49], [8, 64], [9, 81]]\n"
     ]
    }
   ],
   "source": [
    "#Tạo list bằng list comprehension\n",
    "# list 1000 số nguyên từ 0 đến 999\n",
    "X = [n for n in range(1000)]\n",
    "print(X)\n",
    "print('---------------------------------------------------------------------------------------------------------------------------------------------')\n",
    "# list gồm 10 list con là các cặp [x, x2]\n",
    "# với x chạy từ 0 đến 9\n",
    "Y = [[x, x*x] for x in range(10)]\n",
    "print(Y)"
   ]
  },
  {
   "cell_type": "markdown",
   "id": "1a9ea125-24c7-4f0f-82b9-eb949c476634",
   "metadata": {},
   "source": [
    "### Phép toán, chỉ mục và cắt"
   ]
  },
  {
   "cell_type": "code",
   "execution_count": 60,
   "id": "b0bb4845-7452-455d-bf51-1540f9932ed8",
   "metadata": {},
   "outputs": [
    {
     "name": "stdout",
     "output_type": "stream",
     "text": [
      "[1, 2, 3, ['a', 'b', 'c']]\n"
     ]
    }
   ],
   "source": [
    "# Điểm khác biệt là nội dung của list có thể thay đổi\n",
    "l1 = list([1, 2, 3, 4])\n",
    "l1[-1] = list('abc')\n",
    "print(l1)\n"
   ]
  },
  {
   "cell_type": "markdown",
   "id": "f65d6199-5f4b-4c68-bcb9-159bd09d7a62",
   "metadata": {},
   "source": [
    "### Các phương thức của list"
   ]
  },
  {
   "cell_type": "code",
   "execution_count": 63,
   "id": "da5e0ed5-edf3-4059-9e58-e7280d7695b5",
   "metadata": {},
   "outputs": [
    {
     "name": "stdout",
     "output_type": "stream",
     "text": [
      "['An', 'Nguyen', 'Van']\n"
     ]
    }
   ],
   "source": [
    "x = 'Nguyen Van An'.split()\n",
    "x.sort(key=str.lower)\n",
    "print(x)"
   ]
  },
  {
   "cell_type": "markdown",
   "id": "270ad017-d67d-4406-9cbd-f48be34c9e5c",
   "metadata": {},
   "source": [
    "## Tuple (hàng)"
   ]
  },
  {
   "cell_type": "markdown",
   "id": "7deaba68-a8c1-475b-bd46-54c0ac04a54e",
   "metadata": {},
   "source": [
    "## Range (miền)"
   ]
  },
  {
   "cell_type": "markdown",
   "id": "1c7c9e23-0228-4a9e-ab6c-3f065c019d1d",
   "metadata": {},
   "source": [
    "## Set (tập hợp) và Frozenset (tập hợp tĩnh)"
   ]
  },
  {
   "cell_type": "markdown",
   "id": "2d0d851e-ac6e-4ea5-8770-22264aa85038",
   "metadata": {},
   "source": [
    "### Giới thiệu và khởi tạo"
   ]
  },
  {
   "cell_type": "code",
   "execution_count": 66,
   "id": "6e30b83c-6c6d-4a37-8c67-e6e2b5de7e2f",
   "metadata": {},
   "outputs": [
    {
     "name": "stdout",
     "output_type": "stream",
     "text": [
      "{'apple', 'orange', 'pear'}\n"
     ]
    }
   ],
   "source": [
    "# Khai báo trực tiếp bằng cách liệt kê các phần tử con đặt trong cặp ngoặc nhọn { }, ngăn cách bởi phẩy.\n",
    "basket = {'apple','orange','apple','pear'}\n",
    "print(basket)"
   ]
  },
  {
   "cell_type": "code",
   "execution_count": 67,
   "id": "8b087f23-3eb1-4a1e-9d29-8fe7c644766e",
   "metadata": {},
   "outputs": [
    {
     "name": "stdout",
     "output_type": "stream",
     "text": [
      "a= {1, 2, 3, 4, 5}\n"
     ]
    }
   ],
   "source": [
    "a = {5,2,3,1,4}\n",
    "print(\"a=\", a) #a = {1, 2, 3, 4, 5}"
   ]
  },
  {
   "cell_type": "code",
   "execution_count": 70,
   "id": "7dc3d0a1-a1ca-4158-ae78-0c202f1054ee",
   "metadata": {},
   "outputs": [
    {
     "name": "stdout",
     "output_type": "stream",
     "text": [
      "s1: {1, 2, 3, 4}\n",
      "s2: {1}\n",
      "s3: {2, 3, 4}\n",
      "s4: {1, 2, 3, 4, 5, 6, 7, 8, 9, 10, 11, 12, 13, 14, 15, 16, 17, 18, 19, 20, 21, 22, 23, 24, 25, 26, 27, 28, 29, 30, 31, 32, 33, 34, 35, 36, 37, 38, 39, 40, 41, 42, 43, 44, 45, 46, 47, 48, 49, 50, 51, 52, 53, 54, 55, 56, 57, 58, 59, 60, 61, 62, 63, 64, 65, 66, 67, 68, 69, 70, 71, 72, 73, 74, 75, 76, 77, 78, 79, 80, 81, 82, 83, 84, 85, 86, 87, 88, 89, 90, 91, 92, 93, 94, 95, 96, 97, 98, 99}\n"
     ]
    }
   ],
   "source": [
    "# Tạo set bằng constructor\n",
    "s1 = set([1, 2, 3, 4]) \n",
    "print(\"s1:\", s1)   # {1, 2, 3, 4}\n",
    "\n",
    "s2 = set((1, 1, 1)) \n",
    "print(\"s2:\", s2)   # {1} vì set loại bỏ trùng lặp\n",
    "\n",
    "# Phép trừ tập hợp (dùng dấu - chứ không phải gạch dài đặc biệt)\n",
    "s3 = s1 - s2 \n",
    "print(\"s3:\", s3)   # {2, 3, 4}\n",
    "\n",
    "# Tạo set từ range\n",
    "s4 = set(range(1, 100)) \n",
    "print(\"s4:\", s4)   # {1, 2, 3, ..., 99}\n",
    "\n"
   ]
  },
  {
   "cell_type": "markdown",
   "id": "6828c664-3a28-4572-989a-c776c78053eb",
   "metadata": {},
   "source": [
    "### Khởi tạo Set"
   ]
  },
  {
   "cell_type": "code",
   "execution_count": 73,
   "id": "e791bcdf-78a9-4ec6-a6d4-38e7259bad65",
   "metadata": {},
   "outputs": [
    {
     "name": "stdout",
     "output_type": "stream",
     "text": [
      "{'d', 'r'}\n"
     ]
    }
   ],
   "source": [
    "#Tạo set bằng set comprehension\n",
    "a = {x for x in 'abracadabra' if x not in 'abc'}\n",
    "print(a)"
   ]
  },
  {
   "cell_type": "code",
   "execution_count": 75,
   "id": "01b9cd8e-28e5-406c-9557-4ca2f3c6d2d2",
   "metadata": {},
   "outputs": [
    {
     "name": "stdout",
     "output_type": "stream",
     "text": [
      "{(2, 3), (1, 2)}\n",
      "{(2, 3), (1, 2), 'abc'}\n"
     ]
    }
   ],
   "source": [
    "#  Set không thể chứa những đối tượng mutable (có thể bị thay đổi), mặc dù chính set lại có thể thay đổi\n",
    "a = set(((1,2),(2,3))) \n",
    "print(a)\n",
    "a.add(\"abc\")\n",
    "print(a)"
   ]
  },
  {
   "cell_type": "code",
   "execution_count": 76,
   "id": "54cfc042-0601-485f-9f54-454c53a72899",
   "metadata": {},
   "outputs": [
    {
     "name": "stdout",
     "output_type": "stream",
     "text": [
      "frozenset({(2, 3), (1, 2)})\n"
     ]
    }
   ],
   "source": [
    "#Frozenset giống set, nhưng không thể bị thay đổi\n",
    "b = frozenset(((1,2),(2,3)))\n",
    "print(b)\n"
   ]
  },
  {
   "cell_type": "code",
   "execution_count": 79,
   "id": "971ecf44-f776-4335-96ae-4da5626fd1ed",
   "metadata": {},
   "outputs": [
    {
     "name": "stdout",
     "output_type": "stream",
     "text": [
      "ketqua_Set= {8.0, 'Sinh viên', (1, 2, 3)}\n"
     ]
    }
   ],
   "source": [
    "#Set Hỗn hợp\n",
    "my_set = {8.0, 'Sinh viên', (1, 2, 3)}\n",
    "print('ketqua_Set=',my_set)"
   ]
  },
  {
   "cell_type": "code",
   "execution_count": 80,
   "id": "0431a334-f109-4cd6-ab16-6ed0e470caae",
   "metadata": {},
   "outputs": [
    {
     "name": "stdout",
     "output_type": "stream",
     "text": [
      "{1, 2, 3, 4, 5, 6, 8}\n"
     ]
    }
   ],
   "source": [
    "# Khởi tạo my_set\n",
    "my_set = {1,3}\n",
    "my_set.add(2) #thêm\n",
    "my_set.update([2,3,4]) # Cập nhật\n",
    "my_set.update([4,5], {1,6,8}) # Cập nhật set\n",
    "print(my_set)"
   ]
  },
  {
   "cell_type": "markdown",
   "id": "c02f83db-9089-448e-83c3-c163dd03d69b",
   "metadata": {},
   "source": [
    "### Các phép toán trên set"
   ]
  },
  {
   "cell_type": "code",
   "execution_count": 82,
   "id": "1602b508-2344-4912-a92e-a28406de5aee",
   "metadata": {},
   "outputs": [
    {
     "name": "stdout",
     "output_type": "stream",
     "text": [
      "a: {'c', 'r', 'a', 'd', 'b'}\n",
      "b: {'l', 'c', 'a', 'm', 'z'}\n",
      "a - b: {'d', 'b', 'r'}\n",
      "a | b: {'c', 'l', 'r', 'a', 'm', 'z', 'd', 'b'}\n",
      "a & b: {'a', 'c'}\n",
      "a ^ b: {'l', 'm', 'r', 'z', 'd', 'b'}\n"
     ]
    }
   ],
   "source": [
    "a = set('abracadabra')\n",
    "print(\"a:\", a)\n",
    "\n",
    "b = set('alacazam')\n",
    "print(\"b:\", b)\n",
    "\n",
    "# Phép Hiệu: thuộc a nhưng không thuộc b\n",
    "print(\"a - b:\", a - b)\n",
    "\n",
    "# Phép Hợp: thuộc a hoặc b\n",
    "print(\"a | b:\", a | b)\n",
    "\n",
    "# Phép Giao: thuộc cả a và b\n",
    "print(\"a & b:\", a & b)\n",
    "\n",
    "# Phép Xor: thuộc hoặc a, hoặc b nhưng không phải cả 2\n",
    "print(\"a ^ b:\", a ^ b)\n",
    "\n"
   ]
  },
  {
   "cell_type": "markdown",
   "id": "610b7a68-a1ba-44ea-8a9a-2931d4c8c3a8",
   "metadata": {},
   "source": [
    "### Các phương thức của set"
   ]
  },
  {
   "cell_type": "code",
   "execution_count": 83,
   "id": "8d24aca3-03a0-4af5-b03d-1fddf3b8da44",
   "metadata": {},
   "outputs": [
    {
     "name": "stdout",
     "output_type": "stream",
     "text": [
      "Số lớn nhất là : 33\n"
     ]
    }
   ],
   "source": [
    "num = {1,3,5,6,8,20,7,8,29,33}\n",
    "print(\"Số lớn nhất là :\", max(num))"
   ]
  },
  {
   "cell_type": "markdown",
   "id": "0eacb174-e6e9-4e18-836b-1bbc3fd3ed7d",
   "metadata": {},
   "source": [
    "### Vòng lặp for của set()"
   ]
  },
  {
   "cell_type": "code",
   "execution_count": 86,
   "id": "5d806493-ef05-4aef-ac0c-0c0b77d62b16",
   "metadata": {},
   "outputs": [
    {
     "name": "stdout",
     "output_type": "stream",
     "text": [
      "orange\n",
      "pear\n",
      "lemon\n",
      "apple\n"
     ]
    }
   ],
   "source": [
    "setFruits = {'lemon','orange','apple','pear'}\n",
    "for x in setFruits:\n",
    "    print(x)"
   ]
  },
  {
   "cell_type": "code",
   "execution_count": 88,
   "id": "4aa8a4b2-b586-4f5c-a1c6-1223563c3416",
   "metadata": {},
   "outputs": [
    {
     "name": "stdout",
     "output_type": "stream",
     "text": [
      "u\n",
      "c\n",
      "g\n",
      "o\n",
      "v\n",
      "n\n",
      "i\n",
      "h\n"
     ]
    }
   ],
   "source": [
    "for letter in set(\"chivuong\"):\n",
    "    print(letter)"
   ]
  },
  {
   "cell_type": "markdown",
   "id": "86fea376-7c90-4c68-bf17-3c2e986ac8aa",
   "metadata": {},
   "source": [
    "## Dictionary (từ điển)"
   ]
  },
  {
   "cell_type": "code",
   "execution_count": 90,
   "id": "3b72b43b-1a84-4664-8430-9ba67d71b3cf",
   "metadata": {},
   "outputs": [
    {
     "name": "stdout",
     "output_type": "stream",
     "text": [
      "{(1, 2, 3): 'abc', 3.1415: 'abc'}\n"
     ]
    }
   ],
   "source": [
    "#Chú ý: chỉ những loại dữ liệu immutable (không thể thay đổi) mới có thể dùng làm key của từ điển\n",
    "dict = {(1,2,3):\"abc\", 3.1415:\"abc\"}\n",
    "print(dict)"
   ]
  },
  {
   "cell_type": "code",
   "execution_count": 91,
   "id": "3102a768-db6d-4690-a107-57f3c5811e05",
   "metadata": {},
   "outputs": [
    {
     "ename": "TypeError",
     "evalue": "unhashable type: 'list'",
     "output_type": "error",
     "traceback": [
      "\u001b[1;31m---------------------------------------------------------------------------\u001b[0m",
      "\u001b[1;31mTypeError\u001b[0m                                 Traceback (most recent call last)",
      "Cell \u001b[1;32mIn[91], line 1\u001b[0m\n\u001b[1;32m----> 1\u001b[0m \u001b[38;5;28mdict\u001b[39m \u001b[38;5;241m=\u001b[39m {[\u001b[38;5;241m1\u001b[39m,\u001b[38;5;241m2\u001b[39m,\u001b[38;5;241m3\u001b[39m]:\u001b[38;5;124m\"\u001b[39m\u001b[38;5;124mabc\u001b[39m\u001b[38;5;124m\"\u001b[39m}\n",
      "\u001b[1;31mTypeError\u001b[0m: unhashable type: 'list'"
     ]
    }
   ],
   "source": [
    "dict = {[1,2,3]:\"abc\"} # lỗi"
   ]
  },
  {
   "cell_type": "code",
   "execution_count": 92,
   "id": "24874cc2-7d65-4b10-9a24-6c6ce2ecdda8",
   "metadata": {},
   "outputs": [
    {
     "name": "stdout",
     "output_type": "stream",
     "text": [
      "('a', 1)\n",
      "('b', 2)\n",
      "('c', 3)\n"
     ]
    },
    {
     "data": {
      "text/plain": [
       "('c', 3)"
      ]
     },
     "execution_count": 92,
     "metadata": {},
     "output_type": "execute_result"
    }
   ],
   "source": [
    "#Dùng zip để ghép 2 list thành từ điển\n",
    "l1 = [\"a\",\"b\",\"c\"]\n",
    "l2 = [1,2,3]\n",
    "c = zip(l1, l2)\n",
    "for i in c:\n",
    "    print(i)\n",
    "('a', 1)\n",
    "('b', 2)\n",
    "('c', 3)"
   ]
  },
  {
   "cell_type": "code",
   "execution_count": 96,
   "id": "a328cf97-17b0-4097-b29a-8e4edb9089cf",
   "metadata": {},
   "outputs": [
    {
     "name": "stdout",
     "output_type": "stream",
     "text": [
      "{1: 'Nguyen', 2: 'Van', 3: 'An'}\n"
     ]
    }
   ],
   "source": [
    "# Tạo mới từ điển\n",
    "# tạo một dict với key là các số nguyên\n",
    "Dict = {1: 'Nguyen', 2: 'Van', 3: 'An'}\n",
    "print(Dict)"
   ]
  },
  {
   "cell_type": "code",
   "execution_count": 97,
   "id": "fc17a55d-67f9-4128-86f9-418006ba797d",
   "metadata": {},
   "outputs": [
    {
     "name": "stdout",
     "output_type": "stream",
     "text": [
      "{'Name': 'dict', 1: [1, 2, 3, 4]}\n"
     ]
    }
   ],
   "source": [
    "# tạo một dict với key hỗn hợp\n",
    "Dict = {'Name': 'dict', 1: [1, 2, 3, 4]}\n",
    "print(Dict)"
   ]
  },
  {
   "cell_type": "code",
   "execution_count": 101,
   "id": "6ae76312-cf3b-4e8b-97e0-5b4862e7a309",
   "metadata": {},
   "outputs": [
    {
     "name": "stdout",
     "output_type": "stream",
     "text": [
      "{0: 'Xin chao', 1: 'lop hoc Khoa học du lieu'}\n"
     ]
    }
   ],
   "source": [
    "#Thêm các giá trị vào từ điển\n",
    "\n",
    "# tạo một từ điển\n",
    "Dict = {}\n",
    "# thêm các giá trị\n",
    "Dict[0] = 'Xin chao'\n",
    "Dict[1] = 'lop hoc Khoa học du lieu'\n",
    "print(Dict)"
   ]
  },
  {
   "cell_type": "code",
   "execution_count": 103,
   "id": "ac89d639-549d-45c6-8bd1-e7cfed8d828f",
   "metadata": {},
   "outputs": [
    {
     "name": "stdout",
     "output_type": "stream",
     "text": [
      "Lớp\n",
      "Dữ liệu\n"
     ]
    }
   ],
   "source": [
    "# Truy cập giá trị của từ điển\n",
    "\n",
    "# tạo một dict mới\n",
    "Dict = {1: 'Lớp', 2: 'Khoa học', 3: 'Dữ liệu'}\n",
    "\n",
    "# truy cập theo cách thông thường\n",
    "print(Dict[1])\n",
    "\n",
    "# truy cập bằng phương thức get()\n",
    "print(Dict.get(3))"
   ]
  },
  {
   "cell_type": "code",
   "execution_count": 107,
   "id": "ec71963c-cf49-4a8c-9f0e-28e154081f65",
   "metadata": {},
   "outputs": [
    {
     "name": "stdout",
     "output_type": "stream",
     "text": [
      "Chuỗi tương đương là : {'Ten': 'An', 'Tuoi': 20}\n"
     ]
    }
   ],
   "source": [
    "# Chuyển từ điển thành chuỗi: str()\n",
    "Dict = {'Ten':'An','Tuoi':20};\n",
    "print('Chuỗi tương đương là :',str (Dict))\n"
   ]
  },
  {
   "cell_type": "code",
   "execution_count": 2,
   "id": "b05e5c1c-62c4-424c-849c-54fea45be932",
   "metadata": {},
   "outputs": [
    {
     "name": "stdout",
     "output_type": "stream",
     "text": [
      "{'Cúc': 18, 'Lan': 21, 'Hồng': 20, 'Mai': 27, 'Đào': 25}\n"
     ]
    }
   ],
   "source": [
    "# Cập nhật 1 giá trị của từ điển: update()\n",
    "Dict = {'Cúc':18, 'Lan':19, 'Hồng':20, 'Mai':27}\n",
    "Dict.update({'Lan':21}) #cập nhật tuổi cho Lan\n",
    "Dict.update({'Đào':25}) #thêm một phần tử mới là Đào\n",
    "print(Dict)"
   ]
  },
  {
   "cell_type": "markdown",
   "id": "56230dcf-ff47-4996-b72e-d550e6902c43",
   "metadata": {},
   "source": [
    "##  Module và Package"
   ]
  },
  {
   "cell_type": "code",
   "execution_count": null,
   "id": "27535c85-afd6-480c-a28b-c3c4a59b480b",
   "metadata": {},
   "outputs": [],
   "source": [
    "# Khai báo import module đó:\n",
    "import <tên-module>\n"
   ]
  },
  {
   "cell_type": "code",
   "execution_count": null,
   "id": "1e423122-a576-48fb-bf93-868bb0f52046",
   "metadata": {},
   "outputs": [],
   "source": [
    "# Hoặc có thể import riêng một hàm hoặc nhiều hàm, cú pháp:\n",
    "from <tên-module> import fuc1, fuc2,..., fucN"
   ]
  },
  {
   "cell_type": "code",
   "execution_count": 3,
   "id": "f61b97a1-c8f8-4c92-84b5-89865747b489",
   "metadata": {},
   "outputs": [],
   "source": [
    "# Package = Thư mục các module (lưu trữ vật lý)\n",
    "import numpy\n",
    "A = numpy.array([1, 2, 3]) "
   ]
  },
  {
   "cell_type": "code",
   "execution_count": 4,
   "id": "18479fa0-69e3-409d-b60a-32f29e0a4afc",
   "metadata": {},
   "outputs": [],
   "source": [
    "import numpy as np\n",
    "B = np.array([1, 2, 3])"
   ]
  },
  {
   "cell_type": "code",
   "execution_count": 5,
   "id": "bc6584d0-b609-4e0b-a6dd-eabd008e73e1",
   "metadata": {},
   "outputs": [],
   "source": [
    "from numpy import array\n",
    "C = array([1, 2, 3]) # ok"
   ]
  },
  {
   "cell_type": "markdown",
   "id": "fb96f00a-8a85-458a-a42a-8761a1e89dfa",
   "metadata": {},
   "source": [
    "## Thư viện NumPy"
   ]
  },
  {
   "cell_type": "markdown",
   "id": "de167bb3-3008-46d5-b27e-f82729d0c315",
   "metadata": {},
   "source": [
    "### Tạo mảng và truy cập"
   ]
  },
  {
   "cell_type": "code",
   "execution_count": 6,
   "id": "1e9085ca-b017-458c-85dc-bc9642394209",
   "metadata": {},
   "outputs": [
    {
     "name": "stdout",
     "output_type": "stream",
     "text": [
      "<class 'numpy.ndarray'>\n",
      "(3,)\n",
      "1 2 3\n",
      "[5 2 3]\n",
      "(2, 3)\n",
      "1 2 4\n",
      "[[1 0 0]\n",
      " [0 3 0]\n",
      " [0 0 4]]\n"
     ]
    }
   ],
   "source": [
    "import numpy as np\n",
    "\n",
    "a = np.array([1, 2, 3]) # tạo mảng 1 chiều\n",
    "print(type(a)) \n",
    "print(a.shape) \"\n",
    "print(a[0], a[1], a[2]) \n",
    "a[0] = 5\n",
    "print(a) # in \"[5, 2, 3]\"\n",
    "b = np.array([[1, 2, 3],[4, 5, 6]]) # tạo mảng 2 chiều\n",
    "print(b.shape) # in \"(2, 3)\"\n",
    "print(b[0, 0], b[0, 1], b[1, 0]) \n",
    "print(np.diag([1, 3, 4])) "
   ]
  },
  {
   "cell_type": "markdown",
   "id": "9c1d9b75-7cd9-4e5d-ab43-150cf3bfe76e",
   "metadata": {},
   "source": [
    "### Nhiều cách khởi tạo phong phú"
   ]
  },
  {
   "cell_type": "code",
   "execution_count": 14,
   "id": "ae9f3e7f-4a07-4916-8b41-e03f0749ace9",
   "metadata": {},
   "outputs": [
    {
     "name": "stdout",
     "output_type": "stream",
     "text": [
      "2 6\n",
      "(2, 3)\n",
      "int32\n"
     ]
    }
   ],
   "source": [
    "import numpy as np\n",
    "\n",
    "x = np.arange(0,3) # mảng [0. 1. 2.]\n",
    "a = np.zeros((2, 2)) # mảng 2x2 toàn số 0\n",
    "b = np.ones((1, 2)) # mảng 1x2 toàn số 1\n",
    "c = np.full((3, 2, 2), 9) # mảng 3x2x2 toàn số 9\n",
    "d = np.eye(2) # ma trận đơn vị 2x2\n",
    "e = np.random.random((3, 2)) # mảng 3x2 ngẫu nhiên [0,1)\n",
    "# mảng 2x3 điền các số từ 1 đến 6, kiểu số nguyên 32 bit\n",
    "x = np.array([[1, 2, 3], [4, 5, 6]], np.int32)\n",
    "print(x.ndim, x.size)\n",
    "print(x.shape) \n",
    "print(x.dtype)"
   ]
  },
  {
   "cell_type": "markdown",
   "id": "beffce27-411a-40b0-a542-1f5737141720",
   "metadata": {},
   "source": [
    "### Truy cập theo chỉ số (slicing)"
   ]
  },
  {
   "cell_type": "code",
   "execution_count": 17,
   "id": "af76f1e4-91f6-4b22-8210-bb279490b05c",
   "metadata": {},
   "outputs": [
    {
     "name": "stdout",
     "output_type": "stream",
     "text": [
      "2\n",
      "77\n"
     ]
    }
   ],
   "source": [
    "# Truy cập theo chỉ số (slicing)\n",
    "import numpy as np\n",
    "# mảng 3x4\n",
    "a = np.array([[1, 2, 3, 4], [5, 6, 7, 8], [9, 10, 11, 12]])\n",
    "# mảng 2x2 trích xuất từ a, dòng 0+1, cột 1+2\n",
    "b = a[:2, 1:3]\n",
    "# chú ý: mảng của numpy tham chiếu chứ không copy dữ liệu\n",
    "print(a[0, 1]) \n",
    "b[0, 0] = 77 \n",
    "print(a[0, 1])"
   ]
  },
  {
   "cell_type": "markdown",
   "id": "20007f9b-2d5f-445a-9532-eadc047d843b",
   "metadata": {},
   "source": [
    "### Cẩn thận với slicing\""
   ]
  },
  {
   "cell_type": "code",
   "execution_count": 18,
   "id": "a5e6bb78-598d-49ce-82b0-3ec227341e6e",
   "metadata": {},
   "outputs": [
    {
     "name": "stdout",
     "output_type": "stream",
     "text": [
      "[5 6 7 8] (4,)\n",
      "[[5 6 7 8]] (1, 4)\n",
      "[77  6 10] (3,)\n",
      "[[77]\n",
      " [ 6]\n",
      " [10]] (3, 1)\n"
     ]
    }
   ],
   "source": [
    "row_r1 = a[1, :] # mảng 1 chiều độ dài 4\n",
    "row_r2 = a[1:2, :] # mảng 2 chiều 1x4\n",
    "print(row_r1, row_r1.shape) # in ra \"[5 6 7 8] (4,)\"\n",
    "print(row_r2, row_r2.shape) # in ra \"[[5 6 7 8]] (1, 4)\"\n",
    "col_r1 = a[:, 1] # mảng 1 chiều độ dài 3\n",
    "col_r2 = a[:, 1:2] # mảng 2 chiều 3x1\n",
    "print(col_r1, col_r1.shape) # in ra \"[ 2 6 10] (3,)\"\n",
    "print(col_r2, col_r2.shape) # in ra \"[[ 2]\n",
    "\n",
    "# [ 6]\n",
    "# [10]] (3, 1)\""
   ]
  },
  {
   "cell_type": "markdown",
   "id": "fd5af146-22e0-4ee3-b4b0-57f95b79ca60",
   "metadata": {},
   "source": [
    "## Các phép toán trên mảng"
   ]
  },
  {
   "cell_type": "markdown",
   "id": "79afd171-6a59-4417-b68c-3c4ed035a5f5",
   "metadata": {},
   "source": [
    "### NumPy có nhiều phép toán về mảng"
   ]
  },
  {
   "cell_type": "code",
   "execution_count": 19,
   "id": "8166c565-f4fb-4ae2-9229-c2bd01f0d46c",
   "metadata": {},
   "outputs": [
    {
     "name": "stdout",
     "output_type": "stream",
     "text": [
      "[[ 6.  8.]\n",
      " [10. 12.]]\n",
      "[[-4. -4.]\n",
      " [-4. -4.]]\n",
      "[[ 5. 12.]\n",
      " [21. 32.]]\n",
      "[[0.2        0.33333333]\n",
      " [0.42857143 0.5       ]]\n",
      "[[1.         1.41421356]\n",
      " [1.73205081 2.        ]]\n",
      "[[ 2.  4.]\n",
      " [ 8. 16.]]\n"
     ]
    }
   ],
   "source": [
    "x = np.array([[1, 2], [3, 4]], dtype=np.float64)\n",
    "y = np.array([[5, 6], [7, 8]], dtype=np.float64)\n",
    "print(x + y) # print(np.add(x, y)), xử lý khác list\n",
    "print(x - y) # print(np.subtract(x, y))\n",
    "print(x * y) # print(np.multiply(x, y))\n",
    "print(x / y) # print(np.divide(x, y))\n",
    "print(np.sqrt(x)) # khai căn tất cả các phần tử\n",
    "print(2**x) # tính 2 mũ các phần tử trong x"
   ]
  },
  {
   "cell_type": "markdown",
   "id": "727c9c00-e51d-4794-a5c0-8e6f382ecd70",
   "metadata": {},
   "source": [
    "### Nhân ma trận (dot) và nghịch đảo"
   ]
  },
  {
   "cell_type": "code",
   "execution_count": 20,
   "id": "6831871a-21d6-497b-b451-0c780f98da88",
   "metadata": {},
   "outputs": [
    {
     "name": "stdout",
     "output_type": "stream",
     "text": [
      "219\n",
      "[29 67]\n",
      "[[19 22]\n",
      " [43 50]]\n",
      "[[-2.   1. ]\n",
      " [ 1.5 -0.5]]\n"
     ]
    }
   ],
   "source": [
    "import numpy as np\n",
    "\n",
    "x = np.array([[1, 2],[3, 4]])\n",
    "y = np.array([[5, 6],[7, 8]])\n",
    "v = np.array([9, 10])\n",
    "w = np.array([11, 12])\n",
    "print(v.dot(w)) # tương tự print(np.dot(v, w))\n",
    "print(x.dot(v)) # tương tự print(np.dot(x, v))\n",
    "print(x.dot(y)) # tương tự print(np.dot(x, y))\n",
    "print(np.linalg.inv(x)) # tính và in nghịch đảo của x"
   ]
  },
  {
   "cell_type": "markdown",
   "id": "abf56b2e-8bb4-45cc-9bbc-94e64f77a043",
   "metadata": {},
   "source": [
    "### Ma trận chuyển vị"
   ]
  },
  {
   "cell_type": "code",
   "execution_count": 22,
   "id": "27a1d560-9354-49c4-bf4a-425637395f27",
   "metadata": {},
   "outputs": [
    {
     "name": "stdout",
     "output_type": "stream",
     "text": [
      "[[1 2]\n",
      " [3 4]]\n",
      "[[1 3]\n",
      " [2 4]]\n",
      "[1 2 3]\n",
      "[1 2 3]\n",
      "[[1]\n",
      " [2]\n",
      " [3]]\n"
     ]
    }
   ],
   "source": [
    "import numpy as np\n",
    "x = np.array([[1, 2], [3, 4]])\n",
    "print(x) \n",
    "# [3 4]]\"\n",
    "print(x.T) \n",
    "# [2 4]]\"\n",
    "# chú ý: mảng 1 chiều không có chuyển vị\n",
    "y = np.array([1, 2, 3])\n",
    "print(y) \n",
    "print(y.T) \n",
    "z = np.array([[1, 2, 3]])\n",
    "print(z.T) "
   ]
  },
  {
   "cell_type": "markdown",
   "id": "792fef19-29fa-4ae3-8967-e31de2a98431",
   "metadata": {},
   "source": [
    "## Một số thao tác thông dụng"
   ]
  },
  {
   "cell_type": "markdown",
   "id": "070d9f88-b136-48a5-884b-1ede9d291feb",
   "metadata": {},
   "source": [
    "### Đọc dữ liệu từ file"
   ]
  },
  {
   "cell_type": "code",
   "execution_count": null,
   "id": "d4618cd4-06a7-42e3-b3fc-78efa30dcc3f",
   "metadata": {},
   "outputs": [],
   "source": [
    "from io import StringIO\n",
    "import numpy as np\n",
    "c = StringIO(\"0 1\\n2 3\")\n",
    "x = np.loadtxt(c)\n",
    "\n",
    "d = StringIO(\"M 21 72\\nF 35 58\")\n",
    "y = np.loadtxt(d, dtype={'names': ('gender', 'weight'),'formats': ('S1', 'i4', 'f4')})\n",
    "print(y) "
   ]
  },
  {
   "cell_type": "markdown",
   "id": "10a48326-10a7-4335-94d7-3e1436edf055",
   "metadata": {},
   "source": [
    "### Cơ chế broadcasting"
   ]
  },
  {
   "cell_type": "code",
   "execution_count": 26,
   "id": "afecff9f-9c6e-4be4-a0b8-52944744d7dc",
   "metadata": {},
   "outputs": [
    {
     "name": "stdout",
     "output_type": "stream",
     "text": [
      "[[ 2  2  4]\n",
      " [ 5  5  7]\n",
      " [ 8  8 10]\n",
      " [11 11 13]]\n"
     ]
    }
   ],
   "source": [
    "import numpy as np\n",
    "\n",
    "x = np.array([[1, 2, 3], [4, 5, 6], [7, 8, 9], [10, 11, 12]])\n",
    "v = np.array([1, 0, 1])\n",
    "y = x + v\n",
    "print(y)"
   ]
  },
  {
   "cell_type": "markdown",
   "id": "71c4141c-68c7-4b96-81a6-ee678543ef9d",
   "metadata": {},
   "source": [
    "### Tính tổng theo các trục"
   ]
  },
  {
   "cell_type": "code",
   "execution_count": 27,
   "id": "af38690f-e433-4965-b772-c9ca0ea9612b",
   "metadata": {},
   "outputs": [
    {
     "name": "stdout",
     "output_type": "stream",
     "text": [
      "10\n",
      "[4 6]\n",
      "[3 7]\n"
     ]
    }
   ],
   "source": [
    "import numpy as np\n",
    "x = np.array([[1, 2], [3, 4]])\n",
    "print(np.sum(x)) # tính tổng toàn bộ x\n",
    "print(np.sum(x, axis=0)) # tính tổng mỗi cột, \n",
    "print(np.sum(x, axis=1)) # tính tổng mỗi hàng, "
   ]
  },
  {
   "cell_type": "markdown",
   "id": "73f69fb1-6207-4d2b-809f-ef2b52ff4848",
   "metadata": {},
   "source": [
    "### Trích xuất dữ liệu theo dãy"
   ]
  },
  {
   "cell_type": "code",
   "execution_count": 28,
   "id": "410597a5-1ec6-4db3-a540-8f2c5250b714",
   "metadata": {},
   "outputs": [
    {
     "name": "stdout",
     "output_type": "stream",
     "text": [
      "[1 4 5]\n",
      "[1 4 5]\n",
      "[2 2]\n",
      "[2 2]\n"
     ]
    }
   ],
   "source": [
    "import numpy as np\n",
    "a = np.array([[1,2], [3, 4], [5, 6]])\n",
    "print(a[[0, 1, 2], [0, 1, 0]])\n",
    "print(np.array([a[0, 0], a[1, 1], a[2, 0]]))\n",
    "print(a[[0, 0], [1, 1]])\n",
    "print(np.array([a[0, 1], a[0, 1]]))"
   ]
  },
  {
   "cell_type": "markdown",
   "id": "34ed9446-f954-474d-beca-6c8cbf35af82",
   "metadata": {},
   "source": [
    "### Lọc phần tử theo chỉ số"
   ]
  },
  {
   "cell_type": "code",
   "execution_count": 30,
   "id": "1c357475-7c88-415c-835c-319fc390a8c2",
   "metadata": {},
   "outputs": [
    {
     "name": "stdout",
     "output_type": "stream",
     "text": [
      "[ 1  6  7 11]\n",
      "[[11  2  3]\n",
      " [ 4  5 16]\n",
      " [17  8  9]\n",
      " [10 21 12]]\n"
     ]
    }
   ],
   "source": [
    "a = np.array([[1, 2, 3], [4, 5, 6], [7, 8, 9], [10, 11, 12]])\n",
    "b = np.array([0, 2, 0, 1]) # b là mảng các chỉ số\n",
    "print(a[np.arange(4), b]) # in ra \"[1 6 7 11]\"\n",
    "a[np.arange(4), b] += 10 # cộng tất cả các phần tử được lọc thêm 10\n",
    "print(a)"
   ]
  },
  {
   "cell_type": "markdown",
   "id": "e2fb819e-8c4e-4c4f-bb6f-0575013a8cb4",
   "metadata": {},
   "source": [
    "### Lọc dữ liệu theo điều kiện"
   ]
  },
  {
   "cell_type": "code",
   "execution_count": 31,
   "id": "8fa0f80d-1a98-4cbf-b41a-baf0d23eca62",
   "metadata": {},
   "outputs": [
    {
     "name": "stdout",
     "output_type": "stream",
     "text": [
      "[[False False]\n",
      " [ True  True]\n",
      " [ True  True]]\n",
      "[3 4 5 6]\n",
      "[3 4 5 6]\n"
     ]
    }
   ],
   "source": [
    "import numpy as np\n",
    "a = np.array([[1, 2], [3, 4], [5, 6]])\n",
    "bool_idx = (a > 2)\n",
    "print(bool_idx) # in ra \"[[False False]\n",
    "# lọc dữ liệu trong a, trả về một dãy\n",
    "print(a[bool_idx]) \n",
    "# có thể viết trực tiếp điều kiện (ngắn gọn hơn)\n",
    "print(a[a > 2]) "
   ]
  },
  {
   "cell_type": "markdown",
   "id": "6463ccde-bf30-40ba-83cb-b06b24b95477",
   "metadata": {},
   "source": [
    "### Điều chỉnh cỡ ma trận"
   ]
  },
  {
   "cell_type": "code",
   "execution_count": 34,
   "id": "6f6b3132-b724-4733-8bf4-22c6d3a54148",
   "metadata": {},
   "outputs": [
    {
     "data": {
      "text/plain": [
       "array([[1, 3, 4],\n",
       "       [4, 4, 2]])"
      ]
     },
     "execution_count": 34,
     "metadata": {},
     "output_type": "execute_result"
    }
   ],
   "source": [
    "x = np.array([[1, 3], [4, 4], [4, 2]])\n",
    "x.shape\n",
    "x = np.array([[1, 3], [4, 4], [4, 2]])\n",
    "x = x.reshape(2, 3)  # thành 2x3\n",
    "x\n",
    "array([[1, 3, 4], [4, 4, 2]])\n",
    "x = np.array([[1, 3], [4, 4], [4, 2]])\n",
    "x = x.reshape(2, -1) # tự tính chiều còn lại\n",
    "x\n",
    "array([[1, 3, 4], [4, 4, 2]])"
   ]
  },
  {
   "cell_type": "markdown",
   "id": "0a89ce0f-cf4c-48f2-b0fc-694378b25174",
   "metadata": {},
   "source": [
    "### Elementwise operation"
   ]
  },
  {
   "cell_type": "code",
   "execution_count": null,
   "id": "246d2d84-aa9c-4d83-b635-c7034fd4e6ac",
   "metadata": {},
   "outputs": [],
   "source": [
    "# Element-wise là các phép toán cực kỳ phổ biến với tensor trong lập trình mạng neural\n",
    "x = np.array([1, 2, 3])\n",
    "np.log(x) # lấy log cơ số e từng phần tử\n",
    "\n",
    "np.abs(x) # lấy trị tuyệt đối từng phần tử\n",
    "\n",
    "np.maximum(x, 2) #lấy max\n",
    "\n",
    "np.minimum(x,2) #lấy min\n",
    "\n",
    "x**2 # lũy thừa 2 từng phần tử"
   ]
  },
  {
   "cell_type": "markdown",
   "id": "d62914a7-7927-4bf3-8f41-1c285ddf0871",
   "metadata": {},
   "source": [
    "### Tính norm cấp 2 của vector"
   ]
  },
  {
   "cell_type": "code",
   "execution_count": 51,
   "id": "96a9cb36-9588-4888-949c-bbdec7e050fc",
   "metadata": {},
   "outputs": [],
   "source": [
    "# norm cấp 2 của vector là chiều dài của vector đó\n",
    "x = np.array([[0, 3], [4, 3], [6, 8]])\n"
   ]
  },
  {
   "cell_type": "code",
   "execution_count": 49,
   "id": "67b5a25c-8fce-4714-abab-6ca83994863f",
   "metadata": {},
   "outputs": [],
   "source": [
    "# tính norm mỗi dòng, kết quả: array([[3], [5], [10]])\n",
    "np.linalg.norm(x, axis = 1, keepdims = True)\n",
    "x = np.array([[0, 6], [4, 0], [3, 8]])\n"
   ]
  },
  {
   "cell_type": "code",
   "execution_count": 48,
   "id": "ddfbb654-9a48-4cdd-b8c1-33d5cb7c0472",
   "metadata": {},
   "outputs": [
    {
     "data": {
      "text/plain": [
       "array([[ 5., 10.]])"
      ]
     },
     "execution_count": 48,
     "metadata": {},
     "output_type": "execute_result"
    }
   ],
   "source": [
    "# tính norm mỗi cột, kết quả: array([[5, 10]])\n",
    "np.linalg.norm(x, axis = 0, keepdims = True)\n"
   ]
  },
  {
   "cell_type": "markdown",
   "id": "7ddb064d-1208-4432-abf7-39207ccc69cc",
   "metadata": {},
   "source": [
    "### Sinh mảng ngẫu nhiên"
   ]
  },
  {
   "cell_type": "code",
   "execution_count": 53,
   "id": "d0d45aea-fb44-48c9-817c-ea83975bf4c5",
   "metadata": {},
   "outputs": [
    {
     "data": {
      "text/plain": [
       "array([ 9,  1, 13,  8, 14, 17, 12,  4,  2, 10, 11, 15,  3,  0, 19, 16,  7,\n",
       "       18,  6,  5], dtype=int32)"
      ]
     },
     "execution_count": 53,
     "metadata": {},
     "output_type": "execute_result"
    }
   ],
   "source": [
    "np.random.random((3, 2)) # mảng 3x2 ngẫu nhiên trong [0,1)\n",
    "np.random.randn() # một số sinh theo phân phối chuẩn\n",
    "np.random.randn(3) # mảng 3 số theo phân phối chuẩn\n",
    "np.random.randn(3, 4) # mảng 3x4 theo phân phối chuẩn\n",
    "# mảng 2x4 gồm các số nguyên trong [3,15)\n",
    "np.random.randint(3, 15, (2, 4))\n",
    "# sinh một dãy là hoán vị ngẫu nhiên của dãy (0, 1, 2,..., 19)\n",
    "np.random.permutation(20)"
   ]
  },
  {
   "cell_type": "markdown",
   "id": "4e346aa1-6a93-4ae7-90e1-fcd2066b202a",
   "metadata": {},
   "source": [
    "### Các hàm thống kê"
   ]
  },
  {
   "cell_type": "code",
   "execution_count": 54,
   "id": "c539bf11-a7fc-40fd-8474-7635623026c4",
   "metadata": {},
   "outputs": [
    {
     "name": "stdout",
     "output_type": "stream",
     "text": [
      "-0.05476522380609342\n",
      "-0.0264670618950665\n",
      "[0.49999975 0.72423094 0.61379918 0.45527465]\n",
      "[0.27436488 0.21223285 0.26867816]\n"
     ]
    }
   ],
   "source": [
    "import numpy as np\n",
    "a = np.random.randn(3, 4)\n",
    "# tính trung bình của cả ma trận a\n",
    "print(np.mean(a))\n",
    "# tính trung vị của cột đầu tiên\n",
    "print(np.median(a[:,0]))\n",
    "# tính độ lệch chuẩn của từng dòng\n",
    "print(a.std(axis=0))\n",
    "# tính phương sai của từng cột\n",
    "print(a.var(axis=1))"
   ]
  },
  {
   "cell_type": "markdown",
   "id": "57b6936c-0796-4a02-bf4e-a4e2e3c3eaf7",
   "metadata": {},
   "source": [
    "## Thư viện matplotlib"
   ]
  },
  {
   "cell_type": "markdown",
   "id": "34dd712c-5643-498d-8c09-a176ffd3d1a6",
   "metadata": {},
   "source": [
    "### Vẽ biểu đồ đơn giản"
   ]
  },
  {
   "cell_type": "markdown",
   "id": "9d6456a3-b5c5-4d6a-b0f7-36350f094044",
   "metadata": {},
   "source": [
    "#### Vẽ biểu đồ y = x2"
   ]
  },
  {
   "cell_type": "code",
   "execution_count": 55,
   "id": "109b13b0-ff35-47ed-88ad-592bb9d26b86",
   "metadata": {},
   "outputs": [],
   "source": [
    "import numpy as np # thư viện numpy\n",
    "import matplotlib.pyplot as plt # thư viện pyplot"
   ]
  },
  {
   "cell_type": "code",
   "execution_count": 61,
   "id": "7ab5f903-ad51-4252-8af5-d33cd235d608",
   "metadata": {},
   "outputs": [
    {
     "data": {
      "image/png": "[encoded data removed]",
      "text/plain": [
       "<Figure size 640x480 with 1 Axes>"
      ]
     },
     "metadata": {},
     "output_type": "display_data"
    }
   ],
   "source": [
    "# chia đoạn từ -20 đến 20 thành 1000 đoạn\n",
    "x = np.linspace(-20, 20, 1000)\n",
    "# tính y\n",
    "y = x * x\n",
    "# vẽ biểu đồ tương quan giữa x và y\n",
    "plt.plot(x, y)\n",
    "# hiển thị biểu đồ\n",
    "plt.show()"
   ]
  },
  {
   "cell_type": "markdown",
   "id": "93edda84-d008-409f-a69b-aa038a590c79",
   "metadata": {},
   "source": [
    "#### Vẽ biểu đồ hình sin"
   ]
  },
  {
   "cell_type": "code",
   "execution_count": 63,
   "id": "5795c05a-8e5a-481b-9db0-76ba7a75eca1",
   "metadata": {},
   "outputs": [
    {
     "data": {
      "image/png": "[encoded data removed]",
      "text/plain": [
       "<Figure size 640x480 with 1 Axes>"
      ]
     },
     "metadata": {},
     "output_type": "display_data"
    }
   ],
   "source": [
    "# chia đoạn từ 0 đến 3π thành các đoạn con 0.1\n",
    "x = np.arange(0, 3 * np.pi, 0.1)\n",
    "# tính sin tương ứng với từng phần tử của x\n",
    "y = np.sin(x)\n",
    "# vẽ biểu đồ tương quan giữa x và y\n",
    "plt.plot(x, y)\n",
    "# hiển thị biểu đồ\n",
    "plt.show()"
   ]
  },
  {
   "cell_type": "markdown",
   "id": "fca284dd-31ce-4e30-bb34-6c64b72448c8",
   "metadata": {},
   "source": [
    "#### Biểu đồ cả SIN và COS"
   ]
  },
  {
   "cell_type": "code",
   "execution_count": 64,
   "id": "160f6439-9d13-485d-b12d-b94dd3ae912f",
   "metadata": {},
   "outputs": [
    {
     "data": {
      "image/png": "[encoded data removed]",
      "text/plain": [
       "<Figure size 640x480 with 1 Axes>"
      ]
     },
     "metadata": {},
     "output_type": "display_data"
    }
   ],
   "source": [
    "x = np.arange(0, 3 * np.pi, 0.1)\n",
    "y_sin = np.sin(x)\n",
    "y_cos = np.cos(x)\n",
    "plt.plot(x, y_sin)\n",
    "plt.plot(x, y_cos)\n",
    "plt.xlabel('Trục X')\n",
    "plt.ylabel('Trục Y')\n",
    "plt.title('Hàm SIN và COS trong khoảng 0 đến 3pi')\n",
    "plt.legend(['SIN(x)', 'COS(x)'])\n",
    "plt.show()"
   ]
  },
  {
   "cell_type": "markdown",
   "id": "73f99ff9-5936-4139-bc16-202de27982aa",
   "metadata": {},
   "source": [
    "### Một số loại biểu đồ thông dụng trong matplotlib "
   ]
  },
  {
   "cell_type": "markdown",
   "id": "6a0ba6c6-c3ac-49a7-8f95-d062a234cce7",
   "metadata": {},
   "source": [
    "#### Biểu đồ dạng đường (line plot)"
   ]
  },
  {
   "cell_type": "code",
   "execution_count": 67,
   "id": "adfab85e-4d6f-4e21-9662-a36366be9dca",
   "metadata": {},
   "outputs": [
    {
     "data": {
      "image/png": "[encoded data removed]",
      "text/plain": [
       "<Figure size 640x480 with 1 Axes>"
      ]
     },
     "metadata": {},
     "output_type": "display_data"
    }
   ],
   "source": [
    "# chia đoạn n0 -5 thành các bước 0.2\n",
    "t = np.arange(0., 5., 0.2)\n",
    "# Vẽ 3 đường: #- màu đỏ nét đứt: y = x\n",
    "# - màu xanh dương, đánh dấu ô vuông:\n",
    "y = x**2 \n",
    "#- màu xanh lá, đánh dấu tam giác:\n",
    "y = x**3\n",
    "plt.plot(t, t, 'r--', t, t**2, 'bs',\n",
    "t, t**3, 'g^')\n",
    "plt.show()"
   ]
  },
  {
   "cell_type": "markdown",
   "id": "e2dd34f8-bf9b-4d08-9ead-b3fb693e67be",
   "metadata": {},
   "source": [
    "#### Biểu đồ dạng cột (bar plot)"
   ]
  },
  {
   "cell_type": "code",
   "execution_count": 69,
   "id": "d2628e88-3134-4a95-bd00-e33965705b7e",
   "metadata": {},
   "outputs": [
    {
     "data": {
      "image/png": "[encoded data removed]",
      "text/plain": [
       "<Figure size 640x480 with 1 Axes>"
      ]
     },
     "metadata": {},
     "output_type": "display_data"
    }
   ],
   "source": [
    "# Biểu đồ dạng cột chiều đứng\n",
    "import matplotlib.pyplot as plt\n",
    "D = { 'Dược học': 3000,\n",
    "'KT-NH': 900,\n",
    "'QTKD': 2000,\n",
    "'CNTT': 1200,\n",
    "'CK-Oto': 1500,\n",
    "'NN': 500 }\n",
    "plt.bar(range(len(D)), D.values(),\n",
    "align='center')\n",
    "plt.xticks(range(len(D)),\n",
    "D.keys())\n",
    "plt.title('Các ngành tuyển sinh của Đại học Sài Gòn')\n",
    "plt.show()"
   ]
  },
  {
   "cell_type": "code",
   "execution_count": 71,
   "id": "0a2f8063-7fd6-4c0e-b224-2753279896c9",
   "metadata": {},
   "outputs": [
    {
     "data": {
      "image/png": "[encoded data removed]",
      "text/plain": [
       "<Figure size 640x480 with 1 Axes>"
      ]
     },
     "metadata": {},
     "output_type": "display_data"
    }
   ],
   "source": [
    "# Biểu đồ dạng cột chiều ngang\n",
    "import matplotlib.pyplot as plt\n",
    "D = { 'Dược học': 3000,\n",
    "'KT-NH': 900,\n",
    "'QTKD': 2000,\n",
    "'CNTT': 1200,\n",
    "'CK-Oto': 1500,\n",
    "'NN': 500 }\n",
    "plt.bar(range(len(D)),\n",
    "D.values(), align='center')\n",
    "plt.xticks(range(len(D)),\n",
    "D.keys())\n",
    "plt.title('Các ngành tuyển sinh của Đại học Nguyễn Tất Thành')\n",
    "plt.show()"
   ]
  },
  {
   "cell_type": "markdown",
   "id": "b2d59249-a4a8-46c2-ba80-6c87fc7ca1d9",
   "metadata": {},
   "source": [
    "#### Có thể ghép 2 biểu đồ"
   ]
  },
  {
   "cell_type": "code",
   "execution_count": 72,
   "id": "1173ebcd-6326-47f7-8dac-913649e37b75",
   "metadata": {},
   "outputs": [
    {
     "data": {
      "image/png": "[encoded data removed]",
      "text/plain": [
       "<Figure size 640x480 with 1 Axes>"
      ]
     },
     "metadata": {},
     "output_type": "display_data"
    }
   ],
   "source": [
    "plt.bar([1,3,5,7,9],[5,2,7,8,2],\n",
    "label=\"One\")\n",
    "plt.bar([2,4,6,8,10],[8,6,2,5,6] , label=\"Two\", color='g')\n",
    "plt.legend()\n",
    "plt.xlabel('bar number')\n",
    "plt.ylabel('bar height')\n",
    "plt.title('Ghép 2 biểu đồ')\n",
    "plt.show()"
   ]
  },
  {
   "cell_type": "markdown",
   "id": "91691610-367c-47ac-9efa-2a6ace35ec63",
   "metadata": {},
   "source": [
    "#### Biểu đồ bánh (pie chart)"
   ]
  },
  {
   "cell_type": "code",
   "execution_count": 73,
   "id": "5c94726d-71ea-4e83-884e-9677688bef49",
   "metadata": {},
   "outputs": [
    {
     "data": {
      "image/png": "[encoded data removed]",
      "text/plain": [
       "<Figure size 640x480 with 1 Axes>"
      ]
     },
     "metadata": {},
     "output_type": "display_data"
    }
   ],
   "source": [
    "import matplotlib.pyplot as plt\n",
    "D = { 'Dược học': 3000,\n",
    "'KT-NH': 900,\n",
    "'QTKD': 2000,\n",
    "'CNTT': 1200,\n",
    "'CK-Oto': 1500,\n",
    "'NN': 500 }\n",
    "plt.pie(D.values(),\n",
    "labels=D.keys(), autopct='%1.1f%%')\n",
    "plt.axis('equal') # trục x = trục y\n",
    "plt.show()"
   ]
  },
  {
   "cell_type": "markdown",
   "id": "21483c21-7b07-4ee7-8124-39e137e89d5b",
   "metadata": {},
   "source": [
    "### Một số chức năng hữu ích"
   ]
  },
  {
   "cell_type": "markdown",
   "id": "7c58f64b-7441-46aa-ae04-258f18cff280",
   "metadata": {},
   "source": [
    "#### Chia thành các biểu đồ con"
   ]
  },
  {
   "cell_type": "code",
   "execution_count": 74,
   "id": "6802e3da-ddf7-4b79-916c-3c7a62d61da9",
   "metadata": {},
   "outputs": [
    {
     "data": {
      "image/png": "[encoded data removed]",
      "text/plain": [
       "<Figure size 640x480 with 2 Axes>"
      ]
     },
     "metadata": {},
     "output_type": "display_data"
    }
   ],
   "source": [
    "import numpy as np\n",
    "import matplotlib.pyplot as plt\n",
    "x = np.arange(0, 3 * np.pi, 0.1)\n",
    "y_sin = np.sin(x)\n",
    "y_cos = np.cos(x)\n",
    "plt.subplot(2, 1, 1) # biểu đồ 1\n",
    "plt.plot(x, y_sin)\n",
    "plt.title('SIN(x)')\n",
    "plt.subplot(2, 1, 2) # biểu đồ 2\n",
    "plt.plot(x, y_cos)\n",
    "plt.title('COS(x)')\n",
    "plt.show()"
   ]
  },
  {
   "cell_type": "markdown",
   "id": "ed73579f-25a5-4fc7-b2a3-4222f5229b4b",
   "metadata": {},
   "source": [
    "### Chia thành các biểu đồ con"
   ]
  },
  {
   "cell_type": "code",
   "execution_count": 76,
   "id": "a15cbf34-04cd-4b20-85f3-51683cc82596",
   "metadata": {},
   "outputs": [
    {
     "data": {
      "image/png": "[encoded data removed]",
      "text/plain": [
       "<Figure size 640x480 with 2 Axes>"
      ]
     },
     "metadata": {},
     "output_type": "display_data"
    }
   ],
   "source": [
    "x1 = np.linspace(0.0, 5.0)\n",
    "x2 = np.linspace(0.0, 2.0)\n",
    "y1 = np.cos(2 * np.pi * x1) * np.exp(-x1)\n",
    "y2 = np.cos(2 * np.pi * x2)\n",
    "plt.subplot(2, 1, 1)\n",
    "plt.plot(x1, y1, 'o-')\n",
    "plt.subplot(2, 1, 2)\n",
    "plt.plot(x2, y2, '.-')\n",
    "plt.show()"
   ]
  },
  {
   "cell_type": "markdown",
   "id": "91fdf72d-0664-4e66-90e3-fa5171850d7b",
   "metadata": {},
   "source": [
    "#### Nạp ảnh (png_jpg)"
   ]
  },
  {
   "cell_type": "code",
   "execution_count": 82,
   "id": "72723117-1682-48a7-b4bc-6cd3eddbd703",
   "metadata": {},
   "outputs": [
    {
     "data": {
      "image/png": "[encoded data removed]",
      "text/plain": [
       "<Figure size 500x500 with 4 Axes>"
      ]
     },
     "metadata": {},
     "output_type": "display_data"
    }
   ],
   "source": [
    "import matplotlib.pyplot as plt\n",
    "import matplotlib.image as mpimg   # bổ sung import này\n",
    "\n",
    "# Đọc ảnh\n",
    "image = mpimg.imread(\"hoahong.jpg\")\n",
    "\n",
    "# Tạo Figure có 2x2 ô (subplot)\n",
    "fig, axs = plt.subplots(2, 2, figsize=(5, 5))\n",
    "\n",
    "# Hiển thị ảnh ở từng subplot\n",
    "axs[0, 0].imshow(image)\n",
    "axs[1, 0].imshow(image)\n",
    "axs[0, 1].imshow(image)\n",
    "axs[1, 1].imshow(image)\n",
    "\n",
    "# Ẩn trục cho đẹp\n",
    "for ax in axs.flat:\n",
    "    ax.axis(\"off\")\n",
    "\n",
    "plt.show()\n"
   ]
  },
  {
   "cell_type": "markdown",
   "id": "906179a1-3bd0-445d-b722-05365e645e76",
   "metadata": {},
   "source": [
    "#### Lưu biểu đồ ra file"
   ]
  },
  {
   "cell_type": "code",
   "execution_count": null,
   "id": "ca93227c-c577-43dd-af83-6371eaec506a",
   "metadata": {},
   "outputs": [],
   "source": [
    "import matplotlib.pyplot as plt\n",
    "import matplotlib.image as mpimg\n",
    "\n",
    "image = mpimg.imread(“hoahong.jpg\")\n",
    "fig, axs = plt.subplots(2, 2, figsize=(5, 5))\n",
    "axs[0, 0].imshow(image)\n",
    "axs[1, 0].imshow(image)\n",
    "axs[0, 1].imshow(image)\n",
    "axs[1, 1].imshow(image\n",
    "\n",
    "plt.savefig('1.jpg')\n",
    "plt.savefig('1.pdf')"
   ]
  },
  {
   "cell_type": "markdown",
   "id": "3766d43b-f4b8-47df-835d-cfb1eb683542",
   "metadata": {},
   "source": [
    "## Thư viện Panda"
   ]
  },
  {
   "cell_type": "markdown",
   "id": "6137b8e2-f2cd-44ad-a5d6-395fef299198",
   "metadata": {},
   "source": [
    "### Tạo dữ liệu series (1)"
   ]
  },
  {
   "cell_type": "code",
   "execution_count": 86,
   "id": "3a498697-1a69-4aba-ad2b-235031b76d65",
   "metadata": {},
   "outputs": [
    {
     "name": "stdout",
     "output_type": "stream",
     "text": [
      "0    36\n",
      "1    14\n",
      "2    38\n",
      "3    64\n",
      "dtype: int32\n",
      "RangeIndex(start=0, stop=4, step=1)\n",
      "[36 14 38 64]\n"
     ]
    }
   ],
   "source": [
    "import pandas as pd\n",
    "import numpy as np\n",
    "\n",
    "S = pd.Series(np.random.randint(100, size = 4))\n",
    "print(S)\n",
    "print(S.index)\n",
    "print(S.values)"
   ]
  },
  {
   "cell_type": "code",
   "execution_count": 87,
   "id": "5c4d8246-167d-4f5c-94e7-0a404c1f0c48",
   "metadata": {},
   "outputs": [
    {
     "name": "stdout",
     "output_type": "stream",
     "text": [
      "Ke toan    310\n",
      "KT         360\n",
      "CNTT       580\n",
      "Co khi     340\n",
      "dtype: int64\n",
      "Index(['Ke toan', 'KT', 'CNTT', 'Co khi'], dtype='object')\n",
      "[310 360 580 340]\n"
     ]
    }
   ],
   "source": [
    "import pandas as pd\n",
    "import numpy as np\n",
    "\n",
    "chi_so = [\"Ke toan\", \"KT\", \"CNTT\", \"Co khi\"]\n",
    "gia_tri = [310, 360, 580, 340]\n",
    "S = pd.Series(gia_tri, index=chi_so)\n",
    "print(S)\n",
    "print(S.index)\n",
    "print(S.values)"
   ]
  },
  {
   "cell_type": "code",
   "execution_count": 89,
   "id": "d44a8fe4-9786-4bef-89b2-cc1e14b52a56",
   "metadata": {},
   "outputs": [
    {
     "name": "stdout",
     "output_type": "stream",
     "text": [
      "KT        310\n",
      "KT        360\n",
      "CNTT      580\n",
      "Co khi    340\n",
      "dtype: int64\n",
      "Index(['KT', 'KT', 'CNTT', 'Co khi'], dtype='object')\n",
      "[310 360 580 340]\n"
     ]
    }
   ],
   "source": [
    "import pandas as pd\n",
    "import numpy as np\n",
    "\n",
    "chi_so = [\"KT\", \"KT\", \"CNTT\", \"Co khi\"] # trùng nhau\n",
    "gia_tri = [310, 360, 580, 340]\n",
    "S = pd.Series(gia_tri, index=chi_so)\n",
    "print(S)\n",
    "print(S.index)\n",
    "print(S.values)"
   ]
  },
  {
   "cell_type": "markdown",
   "id": "eb74ffc7-efb0-458d-8d1a-1aa395b9b71a",
   "metadata": {},
   "source": [
    "### Truy vấn dữ liệu thông qua chỉ số"
   ]
  },
  {
   "cell_type": "code",
   "execution_count": 90,
   "id": "c6194ae3-af12-4b49-93cf-005855daf609",
   "metadata": {},
   "outputs": [
    {
     "name": "stdout",
     "output_type": "stream",
     "text": [
      "340\n",
      "KT    310\n",
      "KT    360\n",
      "dtype: int64\n",
      "580\n"
     ]
    }
   ],
   "source": [
    "import pandas as pd\n",
    "import numpy as np\n",
    "\n",
    "chi_so = [\"KT\", \"KT\", \"CNTT\", \"Co khi\"] # trùng nhau\n",
    "gia_tri = [310, 360, 580, 340]\n",
    "S = pd.Series(gia_tri, index=chi_so)\n",
    "print(S['Co khi'])\n",
    "print(S['KT'])\n",
    "print(S.CNTT)"
   ]
  },
  {
   "cell_type": "markdown",
   "id": "5774d425-7011-482f-a9db-7b96e96323de",
   "metadata": {},
   "source": [
    "### Phép toán trên series"
   ]
  },
  {
   "cell_type": "code",
   "execution_count": 93,
   "id": "c34dd59c-00ed-41f9-8287-fcaaf5e24fd4",
   "metadata": {},
   "outputs": [
    {
     "name": "stdout",
     "output_type": "stream",
     "text": [
      "CNTT       680.0\n",
      "Co khi       NaN\n",
      "KT           NaN\n",
      "Ke toan      NaN\n",
      "PM           NaN\n",
      "dtype: float64\n"
     ]
    }
   ],
   "source": [
    "\n",
    "\n",
    "import pandas as pd\n",
    "import numpy as np\n",
    "\n",
    "chi_so = [\"Ke toan\",\"KT\", \"CNTT\", \"Co khi\"]\n",
    "gia_tri = [310, 360, 580, 340]\n",
    "# chỉ số giống nhau thì tính gộp, nếu không thì NaN\n",
    "S = pd.Series(gia_tri, index=chi_so)\n",
    "P = pd.Series([100, 100], ['CNTT', 'PM'])\n",
    "Y = S + P\n",
    "print(Y)"
   ]
  },
  {
   "cell_type": "markdown",
   "id": "39c979b1-c054-48f9-a7da-bba51a70fab5",
   "metadata": {},
   "source": [
    "### apply() một hàm khác trên series"
   ]
  },
  {
   "cell_type": "code",
   "execution_count": 97,
   "id": "15a70e10-0da6-4446-b378-5f873d1b344a",
   "metadata": {},
   "outputs": [
    {
     "name": "stdout",
     "output_type": "stream",
     "text": [
      "Ke toan    1310\n",
      "KT         1360\n",
      "CNTT        580\n",
      "Co khi     1340\n",
      "dtype: int64\n"
     ]
    }
   ],
   "source": [
    "import pandas as pd\n",
    "import numpy as np\n",
    "\n",
    "def Tang(x):\n",
    "    return x if x > 500 else x + 1000\n",
    "\n",
    "chi_so = [\"Ke toan\", \"KT\", \"CNTT\", \"Co khi\"]\n",
    "gia_tri = [310, 360, 580, 340]\n",
    "S = pd.Series(gia_tri, chi_so)\n",
    "# áp dụng Tang trên S (không thay đổi S)\n",
    "print(S.apply(Tang))"
   ]
  },
  {
   "cell_type": "markdown",
   "id": "cbc7caf0-947f-43ba-99cd-d6d20a5a3281",
   "metadata": {},
   "source": [
    "### Làm việc với dataframe"
   ]
  },
  {
   "cell_type": "markdown",
   "id": "1f1531ca-29f8-4cd2-bcda-04a907844842",
   "metadata": {},
   "source": [
    "#### Tạo dataframe từ list"
   ]
  },
  {
   "cell_type": "code",
   "execution_count": 98,
   "id": "584ba54a-9849-4099-bfd3-9d79a19d9900",
   "metadata": {},
   "outputs": [
    {
     "name": "stdout",
     "output_type": "stream",
     "text": [
      "   Year  Population    Total  Violent\n",
      "0  1960   179323175  3384200   288460\n",
      "1  1961   182992000  3488000   289390\n",
      "2  1962   185771000  3752200   301510\n",
      "3  1963   188483000  4109500   316970\n",
      "4  1964   191141000  4564600   364220\n"
     ]
    }
   ],
   "source": [
    "crimes_rates = {\n",
    "\"Year\":[1960,1961,1962,1963,1964],\n",
    "\"Population\":[179323175,182992000,185771000,188483000,\n",
    "191141000],\n",
    "\"Total\":[3384200,3488000,3752200,4109500,4564600],\n",
    "\"Violent\":[288460,289390,301510,316970,364220]\n",
    "}\n",
    "crimes_dataframe = pd.DataFrame(crimes_rates)\n",
    "print(crimes_dataframe)"
   ]
  },
  {
   "cell_type": "markdown",
   "id": "30644a38-484e-498c-a2f5-31cdefafd061",
   "metadata": {},
   "source": [
    "#### Tạo dataframe từ list các dictionary"
   ]
  },
  {
   "cell_type": "code",
   "execution_count": 99,
   "id": "a2f51e60-bc09-4b04-bf7c-b0c55db6b034",
   "metadata": {},
   "outputs": [
    {
     "name": "stdout",
     "output_type": "stream",
     "text": [
      "                MIT  Stanford   DHTL\n",
      "NumOfStudents  5000      4500  15000\n",
      "ranking           1         2    200\n",
      "int64\n"
     ]
    }
   ],
   "source": [
    "data = [\n",
    "{'MIT': 5000, 'Stanford': 4500, \"DHTL\":15000},\n",
    "{'MIT': 1, 'Stanford': 2, \"DHTL\":200}]\n",
    "df = pd.DataFrame(data, index=['NumOfStudents', \"ranking\"])\n",
    "print(df)\n",
    "print(df.DHTL.dtype)"
   ]
  },
  {
   "cell_type": "markdown",
   "id": "3b5eeab8-d915-4a39-a546-f337a43152c2",
   "metadata": {},
   "source": [
    "#### Tạo dataframe từ dictionary serias"
   ]
  },
  {
   "cell_type": "code",
   "execution_count": 100,
   "id": "13f4ee50-67d0-4c0b-870f-198fe42c4f9c",
   "metadata": {},
   "outputs": [
    {
     "name": "stdout",
     "output_type": "stream",
     "text": [
      "    one   two\n",
      "1   1.0  1000\n",
      "2  23.0  2400\n",
      "3  45.0  1132\n",
      "4   NaN  3434\n"
     ]
    }
   ],
   "source": [
    "data = {\n",
    "\"one\": pd.Series([1,23,45], index = [1,2,3]),\n",
    "\"two\": pd.Series([1000,2400,1132,3434], index =\n",
    "[1,2,3,4])\n",
    "}\n",
    "df = pd.DataFrame(data)\n",
    "print(df)"
   ]
  },
  {
   "cell_type": "markdown",
   "id": "b11ef321-a647-47cf-aaa6-5aa3e62137bb",
   "metadata": {},
   "source": [
    "#### Đọc dữ liệu từ file .csv"
   ]
  },
  {
   "cell_type": "code",
   "execution_count": 102,
   "id": "1337557a-80e2-47b8-9d39-5981ab7d7f14",
   "metadata": {},
   "outputs": [
    {
     "name": "stdout",
     "output_type": "stream",
     "text": [
      "        Country    Capital      Area  Population\n",
      "0        Brazil   Brasilia   8515767         211\n",
      "1        Russia     Moscow  17098242         145\n",
      "2         India  New Delhi   3287263        1366\n",
      "3         China    Beijing   9596961        1398\n",
      "4  South Africa   Pretoria   1219090          58\n"
     ]
    }
   ],
   "source": [
    "import pandas as pd\n",
    "\n",
    "d = pd.read_csv(\"brics.csv\")\n",
    "print(d)"
   ]
  },
  {
   "cell_type": "code",
   "execution_count": 118,
   "id": "edcbd0e0-d0f9-445e-8f65-8a9b504bf11e",
   "metadata": {},
   "outputs": [
    {
     "name": "stdout",
     "output_type": "stream",
     "text": [
      "0          Brazil\n",
      "1          Russia\n",
      "2           India\n",
      "3           China\n",
      "4    South Africa\n",
      "Name: Country, dtype: object\n"
     ]
    }
   ],
   "source": [
    "# Truy cập theo từng cột\n",
    "print(d['Country'])"
   ]
  },
  {
   "cell_type": "code",
   "execution_count": 110,
   "id": "e064f762-d8fa-4d5c-90ff-c766d3e7feec",
   "metadata": {},
   "outputs": [
    {
     "name": "stdout",
     "output_type": "stream",
     "text": [
      "        Country    Capital      Area  Population  on_earth\n",
      "0        Brazil   Brasilia   8515767         211      True\n",
      "1        Russia     Moscow  17098242         145      True\n",
      "2         India  New Delhi   3287263        1366      True\n",
      "3         China    Beijing   9596961        1398      True\n",
      "4  South Africa   Pretoria   1219090          58      True\n"
     ]
    }
   ],
   "source": [
    "# Thêm một cột \n",
    "d['on_earth']=[True, True,True,True,True]\n",
    "print(d)"
   ]
  },
  {
   "cell_type": "code",
   "execution_count": 113,
   "id": "64515545-2854-4344-9d4c-22cb7037d5dc",
   "metadata": {},
   "outputs": [
    {
     "name": "stdout",
     "output_type": "stream",
     "text": [
      "        Country    Capital      Area  Population  on_earth     density\n",
      "0        Brazil   Brasilia   8515767         211      True   24.777568\n",
      "1        Russia     Moscow  17098242         145      True    8.480404\n",
      "2         India  New Delhi   3287263        1366      True  415.543265\n",
      "3         China    Beijing   9596961        1398      True  145.671114\n",
      "4  South Africa   Pretoria   1219090          58      True   47.576471\n"
     ]
    }
   ],
   "source": [
    "d[\"density\" ]=d[\"Population\"]/d[\"Area\"] * 1000000\n",
    "print(d)"
   ]
  },
  {
   "cell_type": "code",
   "execution_count": 116,
   "id": "8dbf9e40-8704-490a-a856-38edcbd30599",
   "metadata": {},
   "outputs": [
    {
     "name": "stdout",
     "output_type": "stream",
     "text": [
      "        Country    Capital  on_earth     density\n",
      "0        Brazil   Brasilia      True   24.777568\n",
      "1        Russia     Moscow      True    8.480404\n",
      "2         India  New Delhi      True  415.543265\n",
      "3         China    Beijing      True  145.671114\n",
      "4  South Africa   Pretoria      True   47.576471\n"
     ]
    }
   ],
   "source": [
    "# Xóa dòng hoặc cột bằng drop\n",
    "# tạo ra dataframe mới bằng cách xóa 2 cột\n",
    "print(d.drop([\"Area\", \"Population\"], axis=1))"
   ]
  },
  {
   "cell_type": "code",
   "execution_count": 117,
   "id": "8557c999-13cc-4937-aca8-809434739682",
   "metadata": {},
   "outputs": [
    {
     "name": "stdout",
     "output_type": "stream",
     "text": [
      "        Country    Capital  on_earth     density\n",
      "0        Brazil   Brasilia      True   24.777568\n",
      "1        Russia     Moscow      True    8.480404\n",
      "2         India  New Delhi      True  415.543265\n",
      "3         China    Beijing      True  145.671114\n",
      "4  South Africa   Pretoria      True   47.576471\n"
     ]
    }
   ],
   "source": [
    "# trường hợp muốn xóa trên d, thêm tham số inplace=True\n",
    "d.drop([\"Area\", \"Population\"], axis=1, inplace=True)\n",
    "print(d)"
   ]
  },
  {
   "cell_type": "code",
   "execution_count": 121,
   "id": "ccf23a43-bbf0-4e20-96f2-4a5dc318dd91",
   "metadata": {},
   "outputs": [
    {
     "name": "stdout",
     "output_type": "stream",
     "text": [
      "642.0488224949762\n"
     ]
    }
   ],
   "source": [
    "# Tính tổng và tổng tích lũy\n",
    "# tính tổng của cột population, trả về tổng\n",
    "print(d.density.sum())"
   ]
  },
  {
   "cell_type": "code",
   "execution_count": 123,
   "id": "2d4e531b-0570-4201-a161-0518c47eab41",
   "metadata": {},
   "outputs": [
    {
     "name": "stdout",
     "output_type": "stream",
     "text": [
      "0     24.777568\n",
      "1     33.257972\n",
      "2    448.801238\n",
      "3    594.472352\n",
      "4    642.048822\n",
      "Name: density, dtype: float64\n"
     ]
    }
   ],
   "source": [
    "# tính tổng của cột population, trả về các tổng trong quá trình cộng\n",
    "print(d.density.cumsum())"
   ]
  },
  {
   "cell_type": "markdown",
   "id": "b7c90e0d-39be-4ae6-86b8-732ac07f695c",
   "metadata": {},
   "source": [
    "### Kết hợp giữa pandas và matplotlib"
   ]
  },
  {
   "cell_type": "code",
   "execution_count": 125,
   "id": "30bcb228-47d9-43e4-9226-a48590ac67f2",
   "metadata": {},
   "outputs": [
    {
     "data": {
      "image/png": "[encoded data removed]",
      "text/plain": [
       "<Figure size 640x480 with 1 Axes>"
      ]
     },
     "metadata": {},
     "output_type": "display_data"
    }
   ],
   "source": [
    "import pandas as pd\n",
    "import matplotlib.pyplot as plt\n",
    "d = pd.read_csv(\"brics.csv\", index_col = 0)\n",
    "d.Area.plot(kind='bar')\n",
    "plt.show()"
   ]
  },
  {
   "cell_type": "markdown",
   "id": "711d2256-a2ab-48c9-a00b-b2937939e974",
   "metadata": {},
   "source": [
    "### Tạo panel"
   ]
  },
  {
   "cell_type": "code",
   "execution_count": 2,
   "id": "cd0fb44d-f8ca-4068-bc74-dbb257cfd8b1",
   "metadata": {},
   "outputs": [
    {
     "name": "stdout",
     "output_type": "stream",
     "text": [
      "                   A         B         C         D\n",
      "Item Major                                        \n",
      "0    0      0.117479  0.584527  0.343852  0.180210\n",
      "     1      0.399595  0.003892  0.434862  0.558683\n",
      "     2      0.781166  0.798970  0.220930  0.499561\n",
      "1    0      0.236049  0.531589  0.165358  0.149888\n",
      "     1      0.820419  0.511504  0.734678  0.859530\n",
      "     2      0.207891  0.512118  0.043364  0.584275\n"
     ]
    }
   ],
   "source": [
    "import pandas as pd\n",
    "import numpy as np\n",
    "\n",
    "# Tạo dữ liệu 3 chiều: (items, major_axis, minor_axis)\n",
    "data = np.random.rand(2, 3, 4)\n",
    "\n",
    "# Dùng MultiIndex để mô phỏng Panel\n",
    "p = pd.DataFrame(\n",
    "    data.reshape(2*3, 4),\n",
    "    index=pd.MultiIndex.from_product([range(2), range(3)], names=[\"Item\", \"Major\"]),\n",
    "    columns=[\"A\", \"B\", \"C\", \"D\"]\n",
    ")\n",
    "\n",
    "print(p)"
   ]
  },
  {
   "cell_type": "markdown",
   "id": "c3af7a50-d825-4ea6-a212-7472a875820a",
   "metadata": {},
   "source": [
    "### Chọn và nhóm phần tử"
   ]
  },
  {
   "cell_type": "code",
   "execution_count": 4,
   "id": "c4064fd7-f509-429f-8b85-c53c4d9c9dcc",
   "metadata": {},
   "outputs": [
    {
     "data": {
      "text/html": [
       "<div>\n",
       "<style scoped>\n",
       "    .dataframe tbody tr th:only-of-type {\n",
       "        vertical-align: middle;\n",
       "    }\n",
       "\n",
       "    .dataframe tbody tr th {\n",
       "        vertical-align: top;\n",
       "    }\n",
       "\n",
       "    .dataframe thead th {\n",
       "        text-align: right;\n",
       "    }\n",
       "</style>\n",
       "<table border=\"1\" class=\"dataframe\">\n",
       "  <thead>\n",
       "    <tr style=\"text-align: right;\">\n",
       "      <th></th>\n",
       "      <th>Y</th>\n",
       "    </tr>\n",
       "    <tr>\n",
       "      <th>X</th>\n",
       "      <th></th>\n",
       "    </tr>\n",
       "  </thead>\n",
       "  <tbody>\n",
       "    <tr>\n",
       "      <th>A</th>\n",
       "      <td>7</td>\n",
       "    </tr>\n",
       "    <tr>\n",
       "      <th>B</th>\n",
       "      <td>3</td>\n",
       "    </tr>\n",
       "  </tbody>\n",
       "</table>\n",
       "</div>"
      ],
      "text/plain": [
       "   Y\n",
       "X   \n",
       "A  7\n",
       "B  3"
      ]
     },
     "execution_count": 4,
     "metadata": {},
     "output_type": "execute_result"
    }
   ],
   "source": [
    "df2 = pd.DataFrame({'X' : ['B', 'B', 'A', 'A'], 'Y' : [1, 2, 3, 4]})\n",
    "df2.groupby(['X']).sum()"
   ]
  },
  {
   "cell_type": "code",
   "execution_count": 5,
   "id": "adb062ec-67f1-4690-a009-3a35c94b20c8",
   "metadata": {},
   "outputs": [
    {
     "data": {
      "text/html": [
       "<div>\n",
       "<style scoped>\n",
       "    .dataframe tbody tr th:only-of-type {\n",
       "        vertical-align: middle;\n",
       "    }\n",
       "\n",
       "    .dataframe tbody tr th {\n",
       "        vertical-align: top;\n",
       "    }\n",
       "\n",
       "    .dataframe thead th {\n",
       "        text-align: right;\n",
       "    }\n",
       "</style>\n",
       "<table border=\"1\" class=\"dataframe\">\n",
       "  <thead>\n",
       "    <tr style=\"text-align: right;\">\n",
       "      <th></th>\n",
       "      <th>Y</th>\n",
       "    </tr>\n",
       "    <tr>\n",
       "      <th>X</th>\n",
       "      <th></th>\n",
       "    </tr>\n",
       "  </thead>\n",
       "  <tbody>\n",
       "    <tr>\n",
       "      <th>B</th>\n",
       "      <td>3</td>\n",
       "    </tr>\n",
       "    <tr>\n",
       "      <th>A</th>\n",
       "      <td>7</td>\n",
       "    </tr>\n",
       "  </tbody>\n",
       "</table>\n",
       "</div>"
      ],
      "text/plain": [
       "   Y\n",
       "X   \n",
       "B  3\n",
       "A  7"
      ]
     },
     "execution_count": 5,
     "metadata": {},
     "output_type": "execute_result"
    }
   ],
   "source": [
    "df2.groupby(['X'], sort=False).sum()"
   ]
  },
  {
   "cell_type": "code",
   "execution_count": 6,
   "id": "3f3c01af-b507-4270-a11e-91c5d1bdd7b7",
   "metadata": {},
   "outputs": [
    {
     "name": "stderr",
     "output_type": "stream",
     "text": [
      "C:\\Users\\MSI Gaming\\AppData\\Local\\Temp\\ipykernel_24560\\1036314070.py:3: FutureWarning: When grouping with a length-1 list-like, you will need to pass a length-1 tuple to get_group in a future version of pandas. Pass `(name,)` instead of `name` to silence this warning.\n",
      "  df3.groupby(['X']).get_group('A')\n"
     ]
    },
    {
     "data": {
      "text/html": [
       "<div>\n",
       "<style scoped>\n",
       "    .dataframe tbody tr th:only-of-type {\n",
       "        vertical-align: middle;\n",
       "    }\n",
       "\n",
       "    .dataframe tbody tr th {\n",
       "        vertical-align: top;\n",
       "    }\n",
       "\n",
       "    .dataframe thead th {\n",
       "        text-align: right;\n",
       "    }\n",
       "</style>\n",
       "<table border=\"1\" class=\"dataframe\">\n",
       "  <thead>\n",
       "    <tr style=\"text-align: right;\">\n",
       "      <th></th>\n",
       "      <th>X</th>\n",
       "      <th>Y</th>\n",
       "    </tr>\n",
       "  </thead>\n",
       "  <tbody>\n",
       "    <tr>\n",
       "      <th>0</th>\n",
       "      <td>A</td>\n",
       "      <td>1</td>\n",
       "    </tr>\n",
       "    <tr>\n",
       "      <th>2</th>\n",
       "      <td>A</td>\n",
       "      <td>3</td>\n",
       "    </tr>\n",
       "  </tbody>\n",
       "</table>\n",
       "</div>"
      ],
      "text/plain": [
       "   X  Y\n",
       "0  A  1\n",
       "2  A  3"
      ]
     },
     "execution_count": 6,
     "metadata": {},
     "output_type": "execute_result"
    }
   ],
   "source": [
    "df3 = pd.DataFrame({'X' : ['A', 'B', 'A', 'B'], 'Y' :\n",
    "[1, 4, 3, 2]})\n",
    "df3.groupby(['X']).get_group('A')"
   ]
  },
  {
   "cell_type": "code",
   "execution_count": 7,
   "id": "b1e57a4d-5ba6-4ae6-97e9-4efe084769b1",
   "metadata": {},
   "outputs": [
    {
     "name": "stderr",
     "output_type": "stream",
     "text": [
      "C:\\Users\\MSI Gaming\\AppData\\Local\\Temp\\ipykernel_24560\\1694778141.py:1: FutureWarning: When grouping with a length-1 list-like, you will need to pass a length-1 tuple to get_group in a future version of pandas. Pass `(name,)` instead of `name` to silence this warning.\n",
      "  df3.groupby(['X']).get_group('B')\n"
     ]
    },
    {
     "data": {
      "text/html": [
       "<div>\n",
       "<style scoped>\n",
       "    .dataframe tbody tr th:only-of-type {\n",
       "        vertical-align: middle;\n",
       "    }\n",
       "\n",
       "    .dataframe tbody tr th {\n",
       "        vertical-align: top;\n",
       "    }\n",
       "\n",
       "    .dataframe thead th {\n",
       "        text-align: right;\n",
       "    }\n",
       "</style>\n",
       "<table border=\"1\" class=\"dataframe\">\n",
       "  <thead>\n",
       "    <tr style=\"text-align: right;\">\n",
       "      <th></th>\n",
       "      <th>X</th>\n",
       "      <th>Y</th>\n",
       "    </tr>\n",
       "  </thead>\n",
       "  <tbody>\n",
       "    <tr>\n",
       "      <th>1</th>\n",
       "      <td>B</td>\n",
       "      <td>4</td>\n",
       "    </tr>\n",
       "    <tr>\n",
       "      <th>3</th>\n",
       "      <td>B</td>\n",
       "      <td>2</td>\n",
       "    </tr>\n",
       "  </tbody>\n",
       "</table>\n",
       "</div>"
      ],
      "text/plain": [
       "   X  Y\n",
       "1  B  4\n",
       "3  B  2"
      ]
     },
     "execution_count": 7,
     "metadata": {},
     "output_type": "execute_result"
    }
   ],
   "source": [
    "df3.groupby(['X']).get_group('B')"
   ]
  },
  {
   "cell_type": "markdown",
   "id": "357b6acb-d6db-432d-81a7-288f76013642",
   "metadata": {},
   "source": [
    "## `Thư viện scikit-learn"
   ]
  },
  {
   "cell_type": "markdown",
   "id": "66f9c48e-5cbc-40f8-b862-ec85d5595ad6",
   "metadata": {},
   "source": [
    "### Dự báo sử dụng hồi quy tuyến tính"
   ]
  },
  {
   "cell_type": "code",
   "execution_count": null,
   "id": "2d2366c6-1757-49aa-84b6-3a0d04a7089e",
   "metadata": {},
   "outputs": [],
   "source": [
    "import matplotlib.pyplot as plt\n",
    "import pandas as pd\n",
    "import numpy as np\n",
    "from sklearn import linear_model, metrics\n",
    "\n",
    "# đọc dữ liệu từ file csv\n",
    "df = pd.read_csv(\"nguoi.csv\", index_col = 0)\n",
    "print(df)\n",
    "# vẽ biểu đồ minh họa dataset\n",
    "plt.plot(df.Cao, df.Nang, 'ro')\n",
    "plt.xlabel('Chiều cao (cm)')\n",
    "plt.ylabel('Cân nặng (kg)')\n",
    "plt.show()"
   ]
  },
  {
   "cell_type": "code",
   "execution_count": null,
   "id": "609260c2-9197-43e3-bca4-35290b4b67a6",
   "metadata": {},
   "outputs": [],
   "source": [
    "# sử dụng hồi quy tuyến tính\n",
    "X = df.loc[:, ['Cao']].values\n",
    "y = df.Nang.values\n",
    "\n",
    "# X là dữ liệu đầu vào\n",
    "# y là dữ liệu đầu ra\n",
    "# loại mô hình\n",
    "# tập huấn trên dữ liệu\n",
    "\n",
    "model = linear_model.LinearRegression()\n",
    "model.fit(X, y)\n",
    "# in một số thông tin về mô hình\n",
    "mse = metrics.mean_squared_error(model.predict(X), y)\n",
    "print(\"Tổng bình phương sai số trên tập mẫu:\", mse)\n",
    "print(\"Hệ số hồi quy:\", model.coef_)\n",
    "print(\"Sai số:\", model.intercept_)\n",
    "print(f\"Công thức: [Nặng] = {model.coef_} x [Cao] +\n",
    "{model.intercept_}\")"
   ]
  },
  {
   "cell_type": "code",
   "execution_count": null,
   "id": "f9806cb4-73f8-44bf-aba0-77ff61873bce",
   "metadata": {},
   "outputs": [],
   "source": [
    "# vẽ lại sơ đồ\n",
    "plt.scatter(X, y, c='b')\n",
    "plt.plot(X, model.predict(X))\n",
    "plt.show()\n",
    "\n",
    "# dự báo một số tình huống\n",
    "while True:\n",
    "\n",
    "x = float(input(\"Nhập chiều cao (nhập 0 để dừng): \"))\n",
    "if x <= 0: break\n",
    "print(\"Người cao\", x, \"cm, dự báo cân nặng\",\n",
    "\n",
    "model.predict([[x]]))"
   ]
  },
  {
   "cell_type": "code",
   "execution_count": null,
   "id": "e11c4256-c415-480f-afc7-2f0abd07ed47",
   "metadata": {},
   "outputs": [],
   "source": [
    "# sử dụng hồi quy tuyến tính\n",
    "X = df.loc[:, ['Cao', 'GT']].values\n",
    "y = df.Nang.values\n",
    "\n",
    "# X là dữ liệu đầu vào\n",
    "# y là dữ liệu đầu ra\n",
    "model = linear_model.LinearRegression() # loại mô hình\n",
    "model.fit(X, y) # tập huấn trên dữ liệu\n",
    "\n",
    "# in một số thông tin về mô hình\n",
    "mse = metrics.mean_squared_error(model.predict(X), y)\n",
    "print(\"Tổng bình phương sai số trên tập mẫu:\", mse)\n",
    "print(\"Hệ số hồi quy:\", model.coef_)\n",
    "print(\"Sai số:\", model.intercept_)\n",
    "print(f\"Công thức: [Nặng] = {model.coef_} x [Cao, Giới tính] +\n",
    "{model.intercept_}\")"
   ]
  },
  {
   "cell_type": "code",
   "execution_count": null,
   "id": "76125b6d-ac97-4578-b042-d05265a38ac0",
   "metadata": {},
   "outputs": [],
   "source": [
    "# dự báo một số tình huống\n",
    "while True:\n",
    "\n",
    "x = float(input(\"Nhập chiều cao (nhập 0 để dừng): \"))\n",
    "if x <= 0: break\n",
    "print(\"Nam giới cao\", x, \"cm, dự báo cân nặng\",\n",
    "\n",
    "model.predict([[x, 1]]))\n",
    "\n",
    "print(\"Nữ giới cao\", x, \"cm, dự báo cân nặng\",\n",
    "\n",
    "model.predict([[x, 0]]))"
   ]
  },
  {
   "cell_type": "markdown",
   "id": "45740091-4c77-4e6a-b386-8587f5abc930",
   "metadata": {},
   "source": [
    "# END"
   ]
  },
  {
   "cell_type": "code",
   "execution_count": null,
   "id": "2173d99d-5145-4347-8147-d0170a400e4f",
   "metadata": {},
   "outputs": [],
   "source": []
  }
 ],
 "metadata": {
  "kernelspec": {
   "display_name": "Python [conda env:base] *",
   "language": "python",
   "name": "conda-base-py"
  },
  "language_info": {
   "codemirror_mode": {
    "name": "ipython",
    "version": 3
   },
   "file_extension": ".py",
   "mimetype": "text/x-python",
   "name": "python",
   "nbconvert_exporter": "python",
   "pygments_lexer": "ipython3",
   "version": "3.13.5"
  }
 },
 "nbformat": 4,
 "nbformat_minor": 5
}
