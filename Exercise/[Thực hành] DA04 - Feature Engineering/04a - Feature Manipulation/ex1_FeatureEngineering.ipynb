{
 "cells": [
  {
   "cell_type": "markdown",
   "id": "7461e2bc-45a9-4487-9c11-f1e66c7f769c",
   "metadata": {},
   "source": [
    "# Tutorial : Feature Construction"
   ]
  },
  {
   "cell_type": "markdown",
   "id": "a7b74e37-e86b-4ac4-94e1-99477792db86",
   "metadata": {},
   "source": [
    "Các tác vụ này được thực hiện bằng **transformers**\n",
    "\n",
    "\"transformer\" của sklearn được sử dụng cho việc này, các phương thức chính là:\n",
    "\n",
    "- transformer.fit()\n",
    "- transformer.transform()\n",
    "- transformer.fit_transform()\n",
    "\n",
    "Lưu ý rằng việc phân tích và điều chỉnh (huấn luyện) chỉ dựa trên tập dữ liệu huấn luyện. Sau đó, các phép biến đổi đã học được sẽ được áp dụng cho tập dữ liệu kiểm tra."
   ]
  },
  {
   "cell_type": "code",
   "execution_count": 1,
   "id": "c8aed3b2-5251-4a93-bfe3-08ccdf8508a3",
   "metadata": {},
   "outputs": [],
   "source": [
    "import pandas as pd\n",
    "import matplotlib.pyplot as plt\n",
    "import seaborn as sns\n",
    "import numpy as np"
   ]
  },
  {
   "cell_type": "markdown",
   "id": "3fcc1861-ac38-42b2-bbe1-681bafd7caad",
   "metadata": {},
   "source": [
    "## Load the dataset"
   ]
  },
  {
   "cell_type": "code",
   "execution_count": 2,
   "id": "f985326f-60a3-4d3b-ac41-5748c422160f",
   "metadata": {},
   "outputs": [
    {
     "data": {
      "text/html": [
       "<div>\n",
       "<style scoped>\n",
       "    .dataframe tbody tr th:only-of-type {\n",
       "        vertical-align: middle;\n",
       "    }\n",
       "\n",
       "    .dataframe tbody tr th {\n",
       "        vertical-align: top;\n",
       "    }\n",
       "\n",
       "    .dataframe thead th {\n",
       "        text-align: right;\n",
       "    }\n",
       "</style>\n",
       "<table border=\"1\" class=\"dataframe\">\n",
       "  <thead>\n",
       "    <tr style=\"text-align: right;\">\n",
       "      <th></th>\n",
       "      <th>sepal_length</th>\n",
       "      <th>sepal_width</th>\n",
       "      <th>petal_length</th>\n",
       "      <th>petal_width</th>\n",
       "      <th>species</th>\n",
       "    </tr>\n",
       "  </thead>\n",
       "  <tbody>\n",
       "    <tr>\n",
       "      <th>0</th>\n",
       "      <td>5.1</td>\n",
       "      <td>3.5</td>\n",
       "      <td>1.4</td>\n",
       "      <td>0.2</td>\n",
       "      <td>setosa</td>\n",
       "    </tr>\n",
       "    <tr>\n",
       "      <th>1</th>\n",
       "      <td>4.9</td>\n",
       "      <td>3.0</td>\n",
       "      <td>1.4</td>\n",
       "      <td>0.2</td>\n",
       "      <td>setosa</td>\n",
       "    </tr>\n",
       "    <tr>\n",
       "      <th>2</th>\n",
       "      <td>4.7</td>\n",
       "      <td>3.2</td>\n",
       "      <td>1.3</td>\n",
       "      <td>0.2</td>\n",
       "      <td>setosa</td>\n",
       "    </tr>\n",
       "    <tr>\n",
       "      <th>3</th>\n",
       "      <td>4.6</td>\n",
       "      <td>3.1</td>\n",
       "      <td>1.5</td>\n",
       "      <td>0.2</td>\n",
       "      <td>setosa</td>\n",
       "    </tr>\n",
       "    <tr>\n",
       "      <th>4</th>\n",
       "      <td>5.0</td>\n",
       "      <td>3.6</td>\n",
       "      <td>1.4</td>\n",
       "      <td>0.2</td>\n",
       "      <td>setosa</td>\n",
       "    </tr>\n",
       "  </tbody>\n",
       "</table>\n",
       "</div>"
      ],
      "text/plain": [
       "   sepal_length  sepal_width  petal_length  petal_width species\n",
       "0           5.1          3.5           1.4          0.2  setosa\n",
       "1           4.9          3.0           1.4          0.2  setosa\n",
       "2           4.7          3.2           1.3          0.2  setosa\n",
       "3           4.6          3.1           1.5          0.2  setosa\n",
       "4           5.0          3.6           1.4          0.2  setosa"
      ]
     },
     "execution_count": 2,
     "metadata": {},
     "output_type": "execute_result"
    }
   ],
   "source": [
    "df=sns.load_dataset('iris')\n",
    "df.head()"
   ]
  },
  {
   "cell_type": "code",
   "execution_count": 3,
   "id": "082c6340-1171-454e-adf9-f18d3fe7c1df",
   "metadata": {},
   "outputs": [],
   "source": [
    "# Tách biến mục tiêu\n",
    "X=df[df.columns[1:-1]] # đọc \"-1\" là \"biến cuối cùng\"\n",
    "y=df[df.columns[-1]]"
   ]
  },
  {
   "cell_type": "code",
   "execution_count": 4,
   "id": "354755e4-08b4-4afb-b6c6-4f670ab126bc",
   "metadata": {},
   "outputs": [
    {
     "data": {
      "text/plain": [
       "species\n",
       "setosa        50\n",
       "versicolor    50\n",
       "virginica     50\n",
       "Name: count, dtype: int64"
      ]
     },
     "execution_count": 4,
     "metadata": {},
     "output_type": "execute_result"
    }
   ],
   "source": [
    "# Hiển thị số lượng phiên bản của mỗi lớp\n",
    "y.value_counts()"
   ]
  },
  {
   "cell_type": "code",
   "execution_count": 5,
   "id": "f46d963c-488f-4961-977c-ced5b08bf8c7",
   "metadata": {},
   "outputs": [],
   "source": [
    "#phân chia dữ liệu\n",
    "from sklearn.model_selection import train_test_split\n",
    "X_train, X_test, y_train, y_test = train_test_split(X, y, test_size=0.3, random_state=42, stratify=y)"
   ]
  },
  {
   "cell_type": "code",
   "execution_count": 6,
   "id": "119fb58c-ad3d-49a6-9211-e6c568eb4d7e",
   "metadata": {},
   "outputs": [
    {
     "data": {
      "text/html": [
       "<div>\n",
       "<style scoped>\n",
       "    .dataframe tbody tr th:only-of-type {\n",
       "        vertical-align: middle;\n",
       "    }\n",
       "\n",
       "    .dataframe tbody tr th {\n",
       "        vertical-align: top;\n",
       "    }\n",
       "\n",
       "    .dataframe thead th {\n",
       "        text-align: right;\n",
       "    }\n",
       "</style>\n",
       "<table border=\"1\" class=\"dataframe\">\n",
       "  <thead>\n",
       "    <tr style=\"text-align: right;\">\n",
       "      <th></th>\n",
       "      <th>sepal_width</th>\n",
       "      <th>petal_length</th>\n",
       "      <th>petal_width</th>\n",
       "    </tr>\n",
       "  </thead>\n",
       "  <tbody>\n",
       "    <tr>\n",
       "      <th>98</th>\n",
       "      <td>2.5</td>\n",
       "      <td>3.0</td>\n",
       "      <td>1.1</td>\n",
       "    </tr>\n",
       "    <tr>\n",
       "      <th>68</th>\n",
       "      <td>2.2</td>\n",
       "      <td>4.5</td>\n",
       "      <td>1.5</td>\n",
       "    </tr>\n",
       "    <tr>\n",
       "      <th>19</th>\n",
       "      <td>3.8</td>\n",
       "      <td>1.5</td>\n",
       "      <td>0.3</td>\n",
       "    </tr>\n",
       "    <tr>\n",
       "      <th>143</th>\n",
       "      <td>3.2</td>\n",
       "      <td>5.9</td>\n",
       "      <td>2.3</td>\n",
       "    </tr>\n",
       "    <tr>\n",
       "      <th>99</th>\n",
       "      <td>2.8</td>\n",
       "      <td>4.1</td>\n",
       "      <td>1.3</td>\n",
       "    </tr>\n",
       "  </tbody>\n",
       "</table>\n",
       "</div>"
      ],
      "text/plain": [
       "     sepal_width  petal_length  petal_width\n",
       "98           2.5           3.0          1.1\n",
       "68           2.2           4.5          1.5\n",
       "19           3.8           1.5          0.3\n",
       "143          3.2           5.9          2.3\n",
       "99           2.8           4.1          1.3"
      ]
     },
     "execution_count": 6,
     "metadata": {},
     "output_type": "execute_result"
    }
   ],
   "source": [
    "#Kiểm tra trước khi chuẩn hóa\n",
    "X_train.head()"
   ]
  },
  {
   "cell_type": "markdown",
   "id": "ee4dfce6-439c-4d58-86b0-c901c7675a8c",
   "metadata": {},
   "source": [
    "## **PCA**"
   ]
  },
  {
   "cell_type": "markdown",
   "id": "dab582fe-ad63-4de2-9aaf-1373aa7444a6",
   "metadata": {},
   "source": [
    "### Chuẩn hóa Dữ liệu\n",
    "\n",
    "PCA bị ảnh hưởng bởi thang đo: bạn nên gán cho mỗi đặc trưng trong dữ liệu một thang đo tương tự (trung bình = 0 và phương sai = 1) trước khi áp dụng PCA.\n",
    "Chúng ta sẽ sử dụng `StandardScaler` để chuẩn hóa các đặc trưng trong tập dữ liệu."
   ]
  },
  {
   "cell_type": "code",
   "execution_count": 7,
   "id": "dd79463c-1ef0-47d7-a686-4487a5fc04ba",
   "metadata": {},
   "outputs": [],
   "source": [
    "#Bây giờ hãy áp dụng bộ biến đổi \"StandardScaler\" 1-1\n",
    "#1) nhập mô-đun\n",
    "from sklearn.preprocessing import StandardScaler\n",
    "\n",
    "#2) định nghĩa mô hình\n",
    "scaler=StandardScaler()\n",
    "\n",
    "#3) điều chỉnh mô hình\n",
    "scaler.fit(X_train)\n",
    "\n",
    "#4) biến đổi dữ liệu\n",
    "X_train_ss = scaler.transform(X_train)\n",
    "\n",
    "# Lưu ý 3 và 4 có thể được kết hợp như sau:\n",
    "# X_train_ss = SS.fit_transform(X_train)"
   ]
  },
  {
   "cell_type": "markdown",
   "id": "0384782e-90ad-40e2-a357-36f3199a08b3",
   "metadata": {},
   "source": [
    "### Run PCA"
   ]
  },
  {
   "cell_type": "code",
   "execution_count": 8,
   "id": "4737162a-d2c8-4a32-8d43-ab3103549898",
   "metadata": {},
   "outputs": [
    {
     "data": {
      "text/plain": [
       "array([[ 0.09953905, -1.27195338],\n",
       "       [ 1.24517682, -1.511778  ],\n",
       "       [-2.23995982,  0.82850939],\n",
       "       [ 1.56980436,  1.02026044],\n",
       "       [ 0.41457825, -0.43457392],\n",
       "       [ 1.48337778,  0.51976305],\n",
       "       [-1.80491446, -0.66531921],\n",
       "       [-2.2865126 ,  0.80241998],\n",
       "       [-1.58636569, -1.04325442],\n",
       "       [ 1.57485976,  0.53649337]])"
      ]
     },
     "execution_count": 8,
     "metadata": {},
     "output_type": "execute_result"
    }
   ],
   "source": [
    "#Bây giờ hãy thực hiện từ pca\n",
    "#Các bước tương tự như bộ chuyển đổi tỷ lệ\n",
    "#1) nhập mô-đun\n",
    "from sklearn.decomposition import PCA\n",
    "#2) định nghĩa mô hình\n",
    "pca = PCA(n_components=2) # n_components nghĩa là phép biến đổi pca xây dựng số lượng đặc trưng này\n",
    "#3) phù hợp với mô hình\n",
    "pca.fit(X_train_ss)\n",
    "#4) biến đổi dữ liệu\n",
    "pca_train = pca.transform(X_train_ss)\n",
    "# 3 và 4 có thể được kết hợp\n",
    "# pca_train = pca.fit_transform(X_train_ss)\n",
    "# in kết quả đầu ra, là một ma trận chỉ gồm hai đặc trưng\n",
    "pca_train[:10,:]\n",
    "# ALT: plt.scatter(pca_train[:,0],pca_train[:,1])"
   ]
  },
  {
   "cell_type": "markdown",
   "id": "7a1612d2-a879-4030-bead-15a1da30e870",
   "metadata": {},
   "source": [
    "### Visualising the results\n",
    "\n"
   ]
  },
  {
   "cell_type": "code",
   "execution_count": 9,
   "id": "1a20f2bc-a706-4b35-a1c4-3d677bbfa5d9",
   "metadata": {},
   "outputs": [
    {
     "data": {
      "image/png": "[encoded data removed]",
      "text/plain": [
       "<Figure size 640x480 with 1 Axes>"
      ]
     },
     "metadata": {},
     "output_type": "display_data"
    }
   ],
   "source": [
    "#định dạng và trực quan hóa dữ liệu đào tạo đã chuyển đổi\n",
    "df_pca_train = pd.DataFrame(data = pca_train, columns = ['pc1', 'pc2'])\n",
    "df_pca_train['species']=y_train\n",
    "sns.scatterplot(x='pc1', y='pc2', hue=df_pca_train['species'], data=df_pca_train);"
   ]
  },
  {
   "cell_type": "markdown",
   "id": "009b2546-a701-43cb-bbd3-0e65f555bd49",
   "metadata": {},
   "source": [
    "### Biến đổi dữ liệu thử nghiệm\n",
    "\n",
    "Lưu ý: Ở đây chúng tôi chỉ áp dụng các bộ biến đổi đã học để biến đổi dữ liệu thử nghiệm, KHÔNG sử dụng phép khớp."
   ]
  },
  {
   "cell_type": "code",
   "execution_count": 10,
   "id": "46e75d17-2aac-4a5f-b85c-f4afedb56e9f",
   "metadata": {},
   "outputs": [],
   "source": [
    "#1- Đầu tiên, áp dụng bộ chia tỷ lệ đã được xây dựng dựa trên dữ liệu huấn luyện để chia tỷ lệ dữ liệu kiểm tra\n",
    "X_test_ss = scaler.transform(X_test)\n",
    "#2- Thứ hai, áp dụng phép biến đổi pca đã được xây dựng dựa trên dữ liệu huấn luyện để chuyển dữ liệu kiểm tra đã được chia tỷ lệ\n",
    "pca_test = pca.transform(X_test_ss)"
   ]
  },
  {
   "cell_type": "markdown",
   "id": "3f68cd9f-2497-481e-b72b-f99f1ac12bf5",
   "metadata": {},
   "source": [
    "### Classification"
   ]
  },
  {
   "cell_type": "code",
   "execution_count": 11,
   "id": "ef859a80-73ce-4c68-b099-1375629f2274",
   "metadata": {},
   "outputs": [
    {
     "name": "stdout",
     "output_type": "stream",
     "text": [
      "Độ chính xác trước khi biến đổi = 0.91\n"
     ]
    }
   ],
   "source": [
    "# Thực hiện phân loại dựa trên dữ liệu gốc\n",
    "from sklearn.metrics import accuracy_score\n",
    "from sklearn.ensemble import RandomForestClassifier\n",
    "classifier = RandomForestClassifier(random_state=0)\n",
    "#classifier=SVC()\n",
    "classifier.fit(X_train, y_train)\n",
    "score = accuracy_score(classifier.predict(X_test), y_test)\n",
    "print('Độ chính xác trước khi biến đổi = {:.2f}'.format(score))"
   ]
  },
  {
   "cell_type": "markdown",
   "id": "8c3af269-2a04-4688-a0a9-08e4b6858100",
   "metadata": {},
   "source": [
    "## ICA\n",
    "\n",
    "Các bước rất giống với bộ chia tỷ lệ và bộ chuyển đổi PCA.\n",
    "\n",
    "Thực tế, có một số phương pháp ICA. Chúng ta sẽ sử dụng thuật toán `Fast ICA` của sklearn."
   ]
  },
  {
   "cell_type": "code",
   "execution_count": 12,
   "id": "d990bd61-7e7e-42e3-8f00-d43219d16f10",
   "metadata": {},
   "outputs": [],
   "source": [
    "from sklearn.decomposition import FastICA\n",
    "ica = FastICA(n_components=2)\n",
    "ica_train = ica.fit_transform(X_train_ss) "
   ]
  },
  {
   "cell_type": "code",
   "execution_count": 13,
   "id": "139d3b93-4985-4c79-961a-5ec5dfabe04c",
   "metadata": {},
   "outputs": [
    {
     "data": {
      "image/png": "[encoded data removed]",
      "text/plain": [
       "<Figure size 640x480 with 1 Axes>"
      ]
     },
     "metadata": {},
     "output_type": "display_data"
    }
   ],
   "source": [
    "# Visualisation\n",
    "df_ica_train = pd.DataFrame(data = ica_train, columns = ['ic1', 'ic2'])\n",
    "df_ica_train['species']=y_train\n",
    "sns.scatterplot(x='ic1', y='ic2', hue=df_ica_train['species'], data=df_ica_train);"
   ]
  },
  {
   "cell_type": "code",
   "execution_count": 14,
   "id": "c76c8f00-1ccb-4576-a546-23b2e4a95d8c",
   "metadata": {},
   "outputs": [
    {
     "name": "stdout",
     "output_type": "stream",
     "text": [
      "Accuracy after ICA transformation  = 0.91\n"
     ]
    }
   ],
   "source": [
    "# Thực hiện phân loại bằng dữ liệu đã chuyển đổi dựa trên ica\n",
    "# Chuyển đổi dữ liệu thử nghiệm bằng ica\n",
    "classifier.fit(ica_train, y_train)\n",
    "ica_test = ica.transform(X_test_ss)\n",
    "score = accuracy_score(classifier.predict(ica_test), y_test)\n",
    "print('Accuracy after ICA transformation  = {:.2f}'.format(score))"
   ]
  },
  {
   "cell_type": "code",
   "execution_count": 15,
   "id": "c5cf6417-5eb6-45a2-a2bf-9e9ad2ba20b6",
   "metadata": {},
   "outputs": [
    {
     "name": "stdout",
     "output_type": "stream",
     "text": [
      "Defaulting to user installation because normal site-packages is not writeable\n",
      "Requirement already satisfied: gplearn in c:\\users\\msi gaming\\appdata\\roaming\\python\\python313\\site-packages (0.4.2)\n",
      "Requirement already satisfied: scikit-learn>=1.0.2 in d:\\anaconda3\\lib\\site-packages (from gplearn) (1.6.1)\n",
      "Requirement already satisfied: joblib>=1.0.0 in d:\\anaconda3\\lib\\site-packages (from gplearn) (1.4.2)\n",
      "Requirement already satisfied: numpy>=1.19.5 in d:\\anaconda3\\lib\\site-packages (from scikit-learn>=1.0.2->gplearn) (2.1.3)\n",
      "Requirement already satisfied: scipy>=1.6.0 in d:\\anaconda3\\lib\\site-packages (from scikit-learn>=1.0.2->gplearn) (1.15.3)\n",
      "Requirement already satisfied: threadpoolctl>=3.1.0 in d:\\anaconda3\\lib\\site-packages (from scikit-learn>=1.0.2->gplearn) (3.5.0)\n"
     ]
    }
   ],
   "source": [
    "# Có thể cần phải cài đặt gói cho lập trình di truyền (gp)\n",
    "!pip install gplearn"
   ]
  },
  {
   "cell_type": "code",
   "execution_count": 29,
   "id": "3f9d42ce-1937-44d1-a254-e54566c78a53",
   "metadata": {},
   "outputs": [
    {
     "data": {
      "text/plain": [
       "array([1, 1, 0, 2, 1, 2, 0, 0, 0, 2, 2, 0, 0, 1, 1, 2, 0, 0, 2, 1, 0, 2,\n",
       "       2, 2, 1, 0, 0, 0, 1, 1, 0, 0, 1, 1, 0, 0, 1, 2, 2, 0, 2, 0, 2, 0,\n",
       "       2, 1, 0, 2, 1, 2, 1, 0, 1, 2, 1, 2, 0, 1, 0, 1, 1, 1, 2, 1, 1, 2,\n",
       "       2, 0, 2, 1, 1, 2, 0, 2, 2, 1, 0, 2, 2, 0, 0, 2, 2, 2, 0, 2, 1, 2,\n",
       "       2, 0, 1, 1, 1, 1, 1, 0, 2, 1, 2, 0, 0, 1, 0, 1, 0])"
      ]
     },
     "execution_count": 29,
     "metadata": {},
     "output_type": "execute_result"
    }
   ],
   "source": [
    "#Since this package does not work when the target variable is string, an encoder is used to convert it\n",
    "from sklearn.preprocessing import LabelEncoder\n",
    "le = LabelEncoder()\n",
    "label_encoded = le.fit_transform(y_train)\n",
    "label_encoded"
   ]
  },
  {
   "cell_type": "code",
   "execution_count": null,
   "id": "e500e900-46d2-41ad-83a1-343d0ffeacba",
   "metadata": {},
   "outputs": [],
   "source": [
    "#Now lets apply genetic programming.\n",
    "#Steps are similar to the scale, pca, and ica transformers\n",
    "from gplearn.genetic import SymbolicTransformer\n",
    "gp = SymbolicTransformer(n_components=2)\n",
    "gp.fit(X_train_ss, label_encoded)\n",
    "gp_train = gp.transform(X_train_ss)"
   ]
  },
  {
   "cell_type": "code",
   "execution_count": 32,
   "id": "89ec6f46-3c14-4a5f-b7ef-02834297c89c",
   "metadata": {},
   "outputs": [
    {
     "name": "stdout",
     "output_type": "stream",
     "text": [
      "Defaulting to user installation because normal site-packages is not writeable\n",
      "Collecting scikit-learn==1.5.2\n",
      "  Downloading scikit_learn-1.5.2-cp313-cp313-win_amd64.whl.metadata (13 kB)\n",
      "Requirement already satisfied: numpy>=1.19.5 in d:\\anaconda3\\lib\\site-packages (from scikit-learn==1.5.2) (2.1.3)\n",
      "Requirement already satisfied: scipy>=1.6.0 in d:\\anaconda3\\lib\\site-packages (from scikit-learn==1.5.2) (1.15.3)\n",
      "Requirement already satisfied: joblib>=1.2.0 in d:\\anaconda3\\lib\\site-packages (from scikit-learn==1.5.2) (1.4.2)\n",
      "Requirement already satisfied: threadpoolctl>=3.1.0 in d:\\anaconda3\\lib\\site-packages (from scikit-learn==1.5.2) (3.5.0)\n",
      "Downloading scikit_learn-1.5.2-cp313-cp313-win_amd64.whl (11.0 MB)\n",
      "   ---------------------------------------- 0.0/11.0 MB ? eta -:--:--\n",
      "   - -------------------------------------- 0.5/11.0 MB 6.0 MB/s eta 0:00:02\n",
      "   --- ------------------------------------ 1.0/11.0 MB 5.5 MB/s eta 0:00:02\n",
      "   ------- -------------------------------- 2.1/11.0 MB 4.0 MB/s eta 0:00:03\n",
      "   ---------- ----------------------------- 2.9/11.0 MB 3.9 MB/s eta 0:00:03\n",
      "   -------------- ------------------------- 3.9/11.0 MB 4.2 MB/s eta 0:00:02\n",
      "   -------------- ------------------------- 3.9/11.0 MB 4.2 MB/s eta 0:00:02\n",
      "   ---------------- ----------------------- 4.5/11.0 MB 3.3 MB/s eta 0:00:02\n",
      "   ------------------- -------------------- 5.2/11.0 MB 3.2 MB/s eta 0:00:02\n",
      "   ---------------------- ----------------- 6.0/11.0 MB 3.3 MB/s eta 0:00:02\n",
      "   ----------------------- ---------------- 6.6/11.0 MB 3.3 MB/s eta 0:00:02\n",
      "   ------------------------- -------------- 7.1/11.0 MB 3.2 MB/s eta 0:00:02\n",
      "   --------------------------- ------------ 7.6/11.0 MB 3.1 MB/s eta 0:00:02\n",
      "   ---------------------------- ----------- 7.9/11.0 MB 3.0 MB/s eta 0:00:02\n",
      "   ----------------------------- ---------- 8.1/11.0 MB 2.9 MB/s eta 0:00:01\n",
      "   ------------------------------ --------- 8.4/11.0 MB 2.8 MB/s eta 0:00:01\n",
      "   ------------------------------- -------- 8.7/11.0 MB 2.7 MB/s eta 0:00:01\n",
      "   -------------------------------- ------- 8.9/11.0 MB 2.6 MB/s eta 0:00:01\n",
      "   --------------------------------- ------ 9.2/11.0 MB 2.5 MB/s eta 0:00:01\n",
      "   ---------------------------------- ----- 9.4/11.0 MB 2.4 MB/s eta 0:00:01\n",
      "   ----------------------------------- ---- 9.7/11.0 MB 2.4 MB/s eta 0:00:01\n",
      "   ------------------------------------ --- 10.0/11.0 MB 2.3 MB/s eta 0:00:01\n",
      "   ------------------------------------- -- 10.2/11.0 MB 2.3 MB/s eta 0:00:01\n",
      "   -------------------------------------- - 10.5/11.0 MB 2.3 MB/s eta 0:00:01\n",
      "   ---------------------------------------- 11.0/11.0 MB 2.2 MB/s eta 0:00:00\n",
      "Installing collected packages: scikit-learn\n",
      "Successfully installed scikit-learn-1.5.2\n",
      "Note: you may need to restart the kernel to use updated packages.\n"
     ]
    }
   ],
   "source": [
    "pip install scikit-learn==1.5.2"
   ]
  },
  {
   "cell_type": "code",
   "execution_count": null,
   "id": "d96d0e6f-8ffd-4a7a-b469-ffd737dbe4ba",
   "metadata": {},
   "outputs": [],
   "source": [
    "# Visualisation using the gp-based transformed data\n",
    "df_gp_train = pd.DataFrame(data = gp_train, columns = ['gp1', 'gp2'])\n",
    "df_gp_train['species']=y_train\n",
    "sns.scatterplot(x='gp1', y='gp2', hue=df_gp_train['species'], data=df_gp_train)"
   ]
  },
  {
   "cell_type": "code",
   "execution_count": null,
   "id": "449e46f6-962c-4fed-8ae0-56f1d64b53c4",
   "metadata": {},
   "outputs": [],
   "source": [
    "# Transform test data using gp\n",
    "# Then, performing classification using the ica-based transformed data\n",
    "gp_test = gp.transform(X_test_ss)\n",
    "df_gp_test = pd.DataFrame(data = gp_test, columns = ['gp1', 'gp2'])\n",
    "df_gp_test['species']=y_test\n",
    "classifier.fit(gp_train, y_train)\n",
    "accuracy_score(classifier.predict(gp_test), y_test)"
   ]
  }
 ],
 "metadata": {
  "kernelspec": {
   "display_name": "Python [conda env:base] *",
   "language": "python",
   "name": "conda-base-py"
  },
  "language_info": {
   "codemirror_mode": {
    "name": "ipython",
    "version": 3
   },
   "file_extension": ".py",
   "mimetype": "text/x-python",
   "name": "python",
   "nbconvert_exporter": "python",
   "pygments_lexer": "ipython3",
   "version": "3.13.5"
  }
 },
 "nbformat": 4,
 "nbformat_minor": 5
}
