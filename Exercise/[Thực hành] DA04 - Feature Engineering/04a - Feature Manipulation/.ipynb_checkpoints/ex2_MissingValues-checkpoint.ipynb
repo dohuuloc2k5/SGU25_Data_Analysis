{
 "cells": [
  {
   "cell_type": "markdown",
   "id": "91ce5426-0787-4585-b7bd-b07bb06610bf",
   "metadata": {},
   "source": [
    "# Hướng dẫn 7b: Quy nạp dữ liệu\n",
    "\n",
    "Bài viết này bao gồm:\n",
    "\n",
    "* Phương pháp xóa\n",
    "- Xóa các đặc trưng chưa hoàn thiện\n",
    "- Xóa các trường hợp chưa hoàn thiện\n",
    "\n",
    "* pandas\n",
    "- Quy nạp đơn giản bằng pandas\n",
    "- Quy nạp nội suy bằng pandas\n",
    "\n",
    "* sklearn\n",
    "- Quy nạp đơn giản bằng sklearn\n",
    "- Quy nạp dựa trên KNN bằng skearn\n",
    "- Quy nạp lặp bằng skearn\n",
    "\n",
    "* Áp dụng các mô hình đã học vào dữ liệu kiểm tra chưa hoàn thiện\n",
    "\n",
    "----"
   ]
  },
  {
   "cell_type": "code",
   "execution_count": 2,
   "id": "994a69bf-2c62-4812-a63c-88610a95f57d",
   "metadata": {},
   "outputs": [],
   "source": [
    "import pandas as pd\n",
    "import matplotlib.pyplot as plt\n",
    "import seaborn as sns\n",
    "import numpy as np"
   ]
  },
  {
   "cell_type": "markdown",
   "id": "b705fde1-f3d4-4876-a030-9a3432f76bd0",
   "metadata": {},
   "source": [
    "## Tải và khám phá dữ liệu"
   ]
  },
  {
   "cell_type": "code",
   "execution_count": 3,
   "id": "0030e4ce-bec9-4024-b996-33fb2cbed8da",
   "metadata": {},
   "outputs": [
    {
     "data": {
      "text/html": [
       "<div>\n",
       "<style scoped>\n",
       "    .dataframe tbody tr th:only-of-type {\n",
       "        vertical-align: middle;\n",
       "    }\n",
       "\n",
       "    .dataframe tbody tr th {\n",
       "        vertical-align: top;\n",
       "    }\n",
       "\n",
       "    .dataframe thead th {\n",
       "        text-align: right;\n",
       "    }\n",
       "</style>\n",
       "<table border=\"1\" class=\"dataframe\">\n",
       "  <thead>\n",
       "    <tr style=\"text-align: right;\">\n",
       "      <th></th>\n",
       "      <th>pclass</th>\n",
       "      <th>survived</th>\n",
       "      <th>name</th>\n",
       "      <th>sex</th>\n",
       "      <th>age</th>\n",
       "      <th>sibsp</th>\n",
       "      <th>parch</th>\n",
       "      <th>ticket</th>\n",
       "      <th>fare</th>\n",
       "      <th>cabin</th>\n",
       "      <th>embarked</th>\n",
       "      <th>boat</th>\n",
       "      <th>body</th>\n",
       "      <th>home.dest</th>\n",
       "    </tr>\n",
       "  </thead>\n",
       "  <tbody>\n",
       "    <tr>\n",
       "      <th>0</th>\n",
       "      <td>1</td>\n",
       "      <td>1</td>\n",
       "      <td>Allen, Miss. Elisabeth Walton</td>\n",
       "      <td>female</td>\n",
       "      <td>29.0000</td>\n",
       "      <td>0</td>\n",
       "      <td>0</td>\n",
       "      <td>24160</td>\n",
       "      <td>211.3375</td>\n",
       "      <td>B5</td>\n",
       "      <td>S</td>\n",
       "      <td>2</td>\n",
       "      <td>NaN</td>\n",
       "      <td>St Louis, MO</td>\n",
       "    </tr>\n",
       "    <tr>\n",
       "      <th>1</th>\n",
       "      <td>1</td>\n",
       "      <td>1</td>\n",
       "      <td>Allison, Master. Hudson Trevor</td>\n",
       "      <td>male</td>\n",
       "      <td>0.9167</td>\n",
       "      <td>1</td>\n",
       "      <td>2</td>\n",
       "      <td>113781</td>\n",
       "      <td>151.5500</td>\n",
       "      <td>C22 C26</td>\n",
       "      <td>S</td>\n",
       "      <td>11</td>\n",
       "      <td>NaN</td>\n",
       "      <td>Montreal, PQ / Chesterville, ON</td>\n",
       "    </tr>\n",
       "    <tr>\n",
       "      <th>2</th>\n",
       "      <td>1</td>\n",
       "      <td>0</td>\n",
       "      <td>Allison, Miss. Helen Loraine</td>\n",
       "      <td>female</td>\n",
       "      <td>2.0000</td>\n",
       "      <td>1</td>\n",
       "      <td>2</td>\n",
       "      <td>113781</td>\n",
       "      <td>151.5500</td>\n",
       "      <td>C22 C26</td>\n",
       "      <td>S</td>\n",
       "      <td>NaN</td>\n",
       "      <td>NaN</td>\n",
       "      <td>Montreal, PQ / Chesterville, ON</td>\n",
       "    </tr>\n",
       "    <tr>\n",
       "      <th>3</th>\n",
       "      <td>1</td>\n",
       "      <td>0</td>\n",
       "      <td>Allison, Mr. Hudson Joshua Creighton</td>\n",
       "      <td>male</td>\n",
       "      <td>30.0000</td>\n",
       "      <td>1</td>\n",
       "      <td>2</td>\n",
       "      <td>113781</td>\n",
       "      <td>151.5500</td>\n",
       "      <td>C22 C26</td>\n",
       "      <td>S</td>\n",
       "      <td>NaN</td>\n",
       "      <td>135.0</td>\n",
       "      <td>Montreal, PQ / Chesterville, ON</td>\n",
       "    </tr>\n",
       "    <tr>\n",
       "      <th>4</th>\n",
       "      <td>1</td>\n",
       "      <td>0</td>\n",
       "      <td>Allison, Mrs. Hudson J C (Bessie Waldo Daniels)</td>\n",
       "      <td>female</td>\n",
       "      <td>25.0000</td>\n",
       "      <td>1</td>\n",
       "      <td>2</td>\n",
       "      <td>113781</td>\n",
       "      <td>151.5500</td>\n",
       "      <td>C22 C26</td>\n",
       "      <td>S</td>\n",
       "      <td>NaN</td>\n",
       "      <td>NaN</td>\n",
       "      <td>Montreal, PQ / Chesterville, ON</td>\n",
       "    </tr>\n",
       "  </tbody>\n",
       "</table>\n",
       "</div>"
      ],
      "text/plain": [
       "   pclass  survived                                             name     sex  \\\n",
       "0       1         1                    Allen, Miss. Elisabeth Walton  female   \n",
       "1       1         1                   Allison, Master. Hudson Trevor    male   \n",
       "2       1         0                     Allison, Miss. Helen Loraine  female   \n",
       "3       1         0             Allison, Mr. Hudson Joshua Creighton    male   \n",
       "4       1         0  Allison, Mrs. Hudson J C (Bessie Waldo Daniels)  female   \n",
       "\n",
       "       age  sibsp  parch  ticket      fare    cabin embarked boat   body  \\\n",
       "0  29.0000      0      0   24160  211.3375       B5        S    2    NaN   \n",
       "1   0.9167      1      2  113781  151.5500  C22 C26        S   11    NaN   \n",
       "2   2.0000      1      2  113781  151.5500  C22 C26        S  NaN    NaN   \n",
       "3  30.0000      1      2  113781  151.5500  C22 C26        S  NaN  135.0   \n",
       "4  25.0000      1      2  113781  151.5500  C22 C26        S  NaN    NaN   \n",
       "\n",
       "                         home.dest  \n",
       "0                     St Louis, MO  \n",
       "1  Montreal, PQ / Chesterville, ON  \n",
       "2  Montreal, PQ / Chesterville, ON  \n",
       "3  Montreal, PQ / Chesterville, ON  \n",
       "4  Montreal, PQ / Chesterville, ON  "
      ]
     },
     "execution_count": 3,
     "metadata": {},
     "output_type": "execute_result"
    }
   ],
   "source": [
    "import pandas as pd\n",
    "# Hoặc tải dữ liệu titanic đã được chia thành tập dữ liệu huấn luyện và tập dữ liệu kiểm tra theo https://www.kaggle.com/c/titanic/data\n",
    "# Nhưng dữ liệu kiểm tra của kaggle không có nhãn\n",
    "# Do đó, chúng ta sẽ tải toàn bộ dữ liệu từ kho dữ liệu rồi sau đó phân tách chúng\n",
    "titanic_data = pd.read_csv(\"https://www.openml.org/data/get_csv/16826755/phpMYEkMl.csv\", na_values=['?']) #yo\n",
    "titanic_data.head()"
   ]
  },
  {
   "cell_type": "markdown",
   "id": "28991999-84dc-4223-baa0-6887e5019ade",
   "metadata": {},
   "source": [
    "Giá trị được coi là \"bị thiếu\"\n",
    "\n",
    "Có nhiều cách để biểu diễn các giá trị bị thiếu trong cả tệp tập dữ liệu và python pandas.\n",
    "\n",
    "Các giá trị bị thiếu trong dữ liệu có thể là các mục trống, hoặc '?', hoặc một ký tự khác mà người thu thập dữ liệu đã đồng ý để biểu diễn dữ liệu chưa được quan sát. Trong trường hợp này là '?' -- biết được điều này, chúng tôi cho pandas biết những gì cần coi là giá trị bị thiếu thông qua na_values=['?'].\n",
    "\n",
    "Ở \"đầu kia\", pandas có thể biểu diễn các giá trị bị thiếu theo nhiều cách khác nhau. Như có thể thấy ở trên, \"NaN\" là ký hiệu giá trị bị thiếu mặc định, tuy nhiên, chúng ta cần có khả năng dễ dàng phát hiện giá trị này với dữ liệu thuộc các kiểu khác nhau: dấu phẩy động, số nguyên, boolean và đối tượng chung. Tuy nhiên, trong nhiều trường hợp, một số dạng khác có thể tham chiếu đến các giá trị bị thiếu như None \"bị thiếu\" hoặc \"không khả dụng\", \"NA\" hoặc (-)inf."
   ]
  },
  {
   "cell_type": "code",
   "execution_count": 4,
   "id": "8df8f23e-b79a-4078-aaeb-1b09c883c6f1",
   "metadata": {},
   "outputs": [],
   "source": [
    "# Hãy bỏ qua một số tính năng mà chúng ta sẽ không xem xét ở đây.\n",
    "titanic_data.drop(['name','ticket', 'embarked', 'boat' ,'body' ,'home.dest'], axis=1, inplace=True)"
   ]
  },
  {
   "cell_type": "markdown",
   "id": "aaf7bc1d-d728-456e-b2ef-533e79c19ddb",
   "metadata": {},
   "source": [
    "Bây giờ chúng ta sẽ chia dữ liệu để đào tạo và kiểm tra các tập hợp con vì CHỈ dữ liệu đào tạo sẽ được sử dụng để học các bộ lọc sau đó các mô hình đã học được sẽ được áp dụng cho dữ liệu kiểm tra."
   ]
  },
  {
   "cell_type": "code",
   "execution_count": 5,
   "id": "6e96a9bd-f55b-42fb-8557-28a9a757ca2e",
   "metadata": {},
   "outputs": [],
   "source": [
    "from sklearn.model_selection import train_test_split\n",
    "y=titanic_data['survived']\n",
    "X=titanic_data.drop(['survived'], axis=1)\n",
    "X_titanic_train, X_titanic_test, y_titanic_train, y_titanic_test = train_test_split(X, y, test_size=0.3, random_state=42)"
   ]
  },
  {
   "cell_type": "code",
   "execution_count": null,
   "id": "d72da85e-38a4-49e5-b27a-b9b7e35cfbc4",
   "metadata": {},
   "outputs": [],
   "source": [
    "#Bây giờ nếu chúng ta thực hiện phân loại, nó có thể không hoạt động với hầu hết các bộ phân loại\n",
    "from sklearn.ensemble import RandomForestClassifier\n",
    "classifier = RandomForestClassifier()\n",
    "#classifier=SVC()\n",
    "classifier.fit(X_titanic_train, y_titanic_train)"
   ]
  },
  {
   "cell_type": "markdown",
   "id": "b8f647ce-9389-499b-acfd-3a9b51629afe",
   "metadata": {},
   "source": [
    "# There is a problem that some features contain string values, namely the features \"sex\" and \"cabin\", so lets encode these features"
   ]
  },
  {
   "cell_type": "code",
   "execution_count": 6,
   "id": "c6e65d8a-8837-43e1-9d93-703865c0bbda",
   "metadata": {},
   "outputs": [
    {
     "name": "stdout",
     "output_type": "stream",
     "text": [
      "Defaulting to user installation because normal site-packages is not writeable\n",
      "Requirement already satisfied: scikit-learn in c:\\users\\msi gaming\\appdata\\roaming\\python\\python313\\site-packages (1.5.2)\n",
      "Collecting scikit-learn\n",
      "  Downloading scikit_learn-1.7.2-cp313-cp313-win_amd64.whl.metadata (11 kB)\n",
      "Requirement already satisfied: numpy>=1.22.0 in d:\\anaconda3\\lib\\site-packages (from scikit-learn) (2.1.3)\n",
      "Requirement already satisfied: scipy>=1.8.0 in d:\\anaconda3\\lib\\site-packages (from scikit-learn) (1.15.3)\n",
      "Requirement already satisfied: joblib>=1.2.0 in d:\\anaconda3\\lib\\site-packages (from scikit-learn) (1.4.2)\n",
      "Requirement already satisfied: threadpoolctl>=3.1.0 in d:\\anaconda3\\lib\\site-packages (from scikit-learn) (3.5.0)\n",
      "Downloading scikit_learn-1.7.2-cp313-cp313-win_amd64.whl (8.7 MB)\n",
      "   ---------------------------------------- 0.0/8.7 MB ? eta -:--:--\n",
      "   --- ------------------------------------ 0.8/8.7 MB 9.4 MB/s eta 0:00:01\n",
      "   ---------------------------------------- 8.7/8.7 MB 29.6 MB/s eta 0:00:00\n",
      "Installing collected packages: scikit-learn\n",
      "  Attempting uninstall: scikit-learn\n",
      "    Found existing installation: scikit-learn 1.5.2\n",
      "    Uninstalling scikit-learn-1.5.2:\n",
      "      Successfully uninstalled scikit-learn-1.5.2\n",
      "Successfully installed scikit-learn-1.7.2\n",
      "Phiên bản scikit-learn là 1.5.2.\n"
     ]
    },
    {
     "name": "stderr",
     "output_type": "stream",
     "text": [
      "  WARNING: Failed to remove contents in a temporary directory 'C:\\Users\\MSI Gaming\\AppData\\Roaming\\Python\\Python313\\site-packages\\~klearn'.\n",
      "  You can safely remove it manually.\n",
      "ERROR: pip's dependency resolver does not currently take into account all the packages that are installed. This behaviour is the source of the following dependency conflicts.\n",
      "sklearn-compat 0.1.3 requires scikit-learn<1.7,>=1.2, but you have scikit-learn 1.7.2 which is incompatible.\n"
     ]
    }
   ],
   "source": [
    "# Chúng ta cần sklearn được nâng cấp để chấp nhận các tham số cho bộ mã hóa\n",
    "import sklearn\n",
    "!pip install -U scikit-learn\n",
    "print('Phiên bản scikit-learn là {}.'.format(sklearn.__version__))"
   ]
  },
  {
   "cell_type": "code",
   "execution_count": null,
   "id": "147df268-3dc9-46d9-b10c-01ef5d97f03f",
   "metadata": {},
   "outputs": [],
   "source": [
    "import numpy as np\n",
    "# Mã hóa các đặc trưng phân loại bằng cách giữ nguyên các giá trị bị thiếu trong các đặc trưng chưa hoàn chỉnh\n",
    "from sklearn.preprocessing import OrdinalEncoder\n",
    "encoder_sex = OrdinalEncoder(handle_unknown = 'use_encoded_value', unknown_value=np.nan)\n",
    "X_titanic_train_encoded=X_titanic_train.copy()\n",
    "X_titanic_train_encoded['sex'] = encoder_sex.fit_transform(X_titanic_train_encoded['sex'].values.reshape(-1, 1))\n",
    "\n",
    "#Bây giờ, hãy mã hóa đặc trưng Cabin chưa hoàn chỉnh\n",
    "encoder_cabin = OrdinalEncoder(handle_unknown = 'use_encoded_value', unknown_value=np.nan) #Bạn có thể sử dụng cùng một bộ mã hóa cho cả hai, nhưng chúng tôi sử dụng hai bộ mã hóa để làm rõ hơn\n",
    "X_titanic_train_encoded['cabin'] = encoder_cabin.fit_transform(X_titanic_train_encoded['cabin'].values.reshape(-1, 1).astype(str))\n",
    "#lấy mã của giá trị \"nan\" cho đặc trưng phân loại cabin\n",
    "cabin_nan_code=encoder_cabin.transform([['nan']])[0][0]\n",
    "#print(cabin_nan_code)\n",
    "#Bây giờ, hãy lấy lại các giá trị nan bị thiếu trong dữ liệu đã mã hóa\n",
    "X_titanic_train_encoded['cabin'].replace(cabin_nan_code,np.nan,inplace=True)"
   ]
  },
  {
   "cell_type": "markdown",
   "id": "230e40d5-2863-4e9b-a038-ff946230a871",
   "metadata": {},
   "source": [
    "## `X_titanic_train_encoded` is the encoded incomplete training data"
   ]
  },
  {
   "cell_type": "code",
   "execution_count": 8,
   "id": "7c724b41-dd8f-4573-ad48-e47c7511436a",
   "metadata": {},
   "outputs": [
    {
     "name": "stdout",
     "output_type": "stream",
     "text": [
      "<class 'pandas.core.frame.DataFrame'>\n",
      "Index: 916 entries, 1214 to 1126\n",
      "Data columns (total 7 columns):\n",
      " #   Column  Non-Null Count  Dtype  \n",
      "---  ------  --------------  -----  \n",
      " 0   pclass  916 non-null    int64  \n",
      " 1   sex     916 non-null    float64\n",
      " 2   age     729 non-null    float64\n",
      " 3   sibsp   916 non-null    int64  \n",
      " 4   parch   916 non-null    int64  \n",
      " 5   fare    915 non-null    float64\n",
      " 6   cabin   204 non-null    float64\n",
      "dtypes: float64(4), int64(3)\n",
      "memory usage: 57.2 KB\n"
     ]
    }
   ],
   "source": [
    "#Check the types of the encoded data, no object features\n",
    "X_titanic_train_encoded.info()"
   ]
  },
  {
   "cell_type": "code",
   "execution_count": null,
   "id": "a314e4b4-746f-4bcf-bec8-ffca9dd8140e",
   "metadata": {},
   "outputs": [],
   "source": [
    "# As the data has no strings/object snow, let's try performing classification using the encoded data\n",
    "classifier.fit(X_titanic_train_encoded, y_titanic_train)"
   ]
  },
  {
   "cell_type": "markdown",
   "id": "9e90de37-3a8d-4ad1-b680-d826570b1080",
   "metadata": {},
   "source": [
    "## Note the error:ValueError: Input contains NaN, infinity or a value too large for dtype('float32').\n",
    "\n",
    "We need to handle the missing values before performing the classification."
   ]
  },
  {
   "cell_type": "code",
   "execution_count": 9,
   "id": "3e1e7739-5961-4d2f-8b67-7dd621a1fd25",
   "metadata": {},
   "outputs": [
    {
     "name": "stdout",
     "output_type": "stream",
     "text": [
      "The number of missing values \n",
      "pclass      0\n",
      "sex         0\n",
      "age       187\n",
      "sibsp       0\n",
      "parch       0\n",
      "fare        1\n",
      "cabin     712\n",
      "dtype: int64\n"
     ]
    }
   ],
   "source": [
    "print(\"The number of missing values \")\n",
    "print(X_titanic_train_encoded.isnull().sum())"
   ]
  },
  {
   "cell_type": "markdown",
   "id": "507820ab-0e8c-496f-96a4-a8033c6d2f05",
   "metadata": {},
   "source": [
    "We have three incomplete features \"age\", \"fare\", and \"cabin\""
   ]
  },
  {
   "cell_type": "markdown",
   "id": "58e12c4e-1abd-4acf-8ffb-94415834f4a8",
   "metadata": {},
   "source": [
    "## The deletion approach"
   ]
  },
  {
   "cell_type": "markdown",
   "id": "ba3ad3d7-ba0d-4482-b7f2-34a6f69e3544",
   "metadata": {},
   "source": [
    "### Deleting the incomplete features"
   ]
  },
  {
   "cell_type": "code",
   "execution_count": 10,
   "id": "55bf57a6-7658-4627-a5a6-68cedb23cd51",
   "metadata": {},
   "outputs": [
    {
     "data": {
      "text/html": [
       "<div>\n",
       "<style scoped>\n",
       "    .dataframe tbody tr th:only-of-type {\n",
       "        vertical-align: middle;\n",
       "    }\n",
       "\n",
       "    .dataframe tbody tr th {\n",
       "        vertical-align: top;\n",
       "    }\n",
       "\n",
       "    .dataframe thead th {\n",
       "        text-align: right;\n",
       "    }\n",
       "</style>\n",
       "<table border=\"1\" class=\"dataframe\">\n",
       "  <thead>\n",
       "    <tr style=\"text-align: right;\">\n",
       "      <th></th>\n",
       "      <th>pclass</th>\n",
       "      <th>sex</th>\n",
       "      <th>sibsp</th>\n",
       "      <th>parch</th>\n",
       "    </tr>\n",
       "  </thead>\n",
       "  <tbody>\n",
       "    <tr>\n",
       "      <th>1214</th>\n",
       "      <td>3</td>\n",
       "      <td>1.0</td>\n",
       "      <td>0</td>\n",
       "      <td>0</td>\n",
       "    </tr>\n",
       "    <tr>\n",
       "      <th>677</th>\n",
       "      <td>3</td>\n",
       "      <td>1.0</td>\n",
       "      <td>0</td>\n",
       "      <td>0</td>\n",
       "    </tr>\n",
       "    <tr>\n",
       "      <th>534</th>\n",
       "      <td>2</td>\n",
       "      <td>0.0</td>\n",
       "      <td>0</td>\n",
       "      <td>0</td>\n",
       "    </tr>\n",
       "    <tr>\n",
       "      <th>1174</th>\n",
       "      <td>3</td>\n",
       "      <td>0.0</td>\n",
       "      <td>8</td>\n",
       "      <td>2</td>\n",
       "    </tr>\n",
       "    <tr>\n",
       "      <th>864</th>\n",
       "      <td>3</td>\n",
       "      <td>0.0</td>\n",
       "      <td>0</td>\n",
       "      <td>0</td>\n",
       "    </tr>\n",
       "    <tr>\n",
       "      <th>...</th>\n",
       "      <td>...</td>\n",
       "      <td>...</td>\n",
       "      <td>...</td>\n",
       "      <td>...</td>\n",
       "    </tr>\n",
       "    <tr>\n",
       "      <th>1095</th>\n",
       "      <td>3</td>\n",
       "      <td>0.0</td>\n",
       "      <td>0</td>\n",
       "      <td>0</td>\n",
       "    </tr>\n",
       "    <tr>\n",
       "      <th>1130</th>\n",
       "      <td>3</td>\n",
       "      <td>0.0</td>\n",
       "      <td>0</td>\n",
       "      <td>0</td>\n",
       "    </tr>\n",
       "    <tr>\n",
       "      <th>1294</th>\n",
       "      <td>3</td>\n",
       "      <td>1.0</td>\n",
       "      <td>0</td>\n",
       "      <td>0</td>\n",
       "    </tr>\n",
       "    <tr>\n",
       "      <th>860</th>\n",
       "      <td>3</td>\n",
       "      <td>0.0</td>\n",
       "      <td>0</td>\n",
       "      <td>0</td>\n",
       "    </tr>\n",
       "    <tr>\n",
       "      <th>1126</th>\n",
       "      <td>3</td>\n",
       "      <td>0.0</td>\n",
       "      <td>0</td>\n",
       "      <td>0</td>\n",
       "    </tr>\n",
       "  </tbody>\n",
       "</table>\n",
       "<p>916 rows × 4 columns</p>\n",
       "</div>"
      ],
      "text/plain": [
       "      pclass  sex  sibsp  parch\n",
       "1214       3  1.0      0      0\n",
       "677        3  1.0      0      0\n",
       "534        2  0.0      0      0\n",
       "1174       3  0.0      8      2\n",
       "864        3  0.0      0      0\n",
       "...      ...  ...    ...    ...\n",
       "1095       3  0.0      0      0\n",
       "1130       3  0.0      0      0\n",
       "1294       3  1.0      0      0\n",
       "860        3  0.0      0      0\n",
       "1126       3  0.0      0      0\n",
       "\n",
       "[916 rows x 4 columns]"
      ]
     },
     "execution_count": 10,
     "metadata": {},
     "output_type": "execute_result"
    }
   ],
   "source": [
    "X_titanic_train_complete=X_titanic_train_encoded.copy()\n",
    "X_titanic_train_complete.dropna(axis=1, inplace=True)\n",
    "X_titanic_train_complete"
   ]
  },
  {
   "cell_type": "code",
   "execution_count": 11,
   "id": "6784e1ca-2a32-42fb-b981-4c17657d270d",
   "metadata": {},
   "outputs": [
    {
     "name": "stdout",
     "output_type": "stream",
     "text": [
      "pclass    0\n",
      "sex       0\n",
      "sibsp     0\n",
      "parch     0\n",
      "dtype: int64\n"
     ]
    }
   ],
   "source": [
    "#Check the number of missing values\n",
    "print(X_titanic_train_complete.isnull().sum())"
   ]
  },
  {
   "cell_type": "markdown",
   "id": "81deec26-1e3e-4b58-b5e3-0b0618e21d38",
   "metadata": {},
   "source": [
    "### Deleting the incomplete instances"
   ]
  },
  {
   "cell_type": "code",
   "execution_count": 12,
   "id": "41009386-33fe-42ae-9d34-32cbc10d62e4",
   "metadata": {},
   "outputs": [
    {
     "data": {
      "text/html": [
       "<div>\n",
       "<style scoped>\n",
       "    .dataframe tbody tr th:only-of-type {\n",
       "        vertical-align: middle;\n",
       "    }\n",
       "\n",
       "    .dataframe tbody tr th {\n",
       "        vertical-align: top;\n",
       "    }\n",
       "\n",
       "    .dataframe thead th {\n",
       "        text-align: right;\n",
       "    }\n",
       "</style>\n",
       "<table border=\"1\" class=\"dataframe\">\n",
       "  <thead>\n",
       "    <tr style=\"text-align: right;\">\n",
       "      <th></th>\n",
       "      <th>pclass</th>\n",
       "      <th>sex</th>\n",
       "      <th>age</th>\n",
       "      <th>sibsp</th>\n",
       "      <th>parch</th>\n",
       "      <th>fare</th>\n",
       "      <th>cabin</th>\n",
       "    </tr>\n",
       "  </thead>\n",
       "  <tbody>\n",
       "    <tr>\n",
       "      <th>39</th>\n",
       "      <td>1</td>\n",
       "      <td>1.0</td>\n",
       "      <td>48.0</td>\n",
       "      <td>0</td>\n",
       "      <td>0</td>\n",
       "      <td>50.4958</td>\n",
       "      <td>14.0</td>\n",
       "    </tr>\n",
       "    <tr>\n",
       "      <th>30</th>\n",
       "      <td>1</td>\n",
       "      <td>1.0</td>\n",
       "      <td>45.0</td>\n",
       "      <td>0</td>\n",
       "      <td>0</td>\n",
       "      <td>35.5000</td>\n",
       "      <td>145.0</td>\n",
       "    </tr>\n",
       "    <tr>\n",
       "      <th>242</th>\n",
       "      <td>1</td>\n",
       "      <td>0.0</td>\n",
       "      <td>33.0</td>\n",
       "      <td>0</td>\n",
       "      <td>0</td>\n",
       "      <td>27.7208</td>\n",
       "      <td>0.0</td>\n",
       "    </tr>\n",
       "    <tr>\n",
       "      <th>136</th>\n",
       "      <td>1</td>\n",
       "      <td>1.0</td>\n",
       "      <td>53.0</td>\n",
       "      <td>0</td>\n",
       "      <td>0</td>\n",
       "      <td>28.5000</td>\n",
       "      <td>68.0</td>\n",
       "    </tr>\n",
       "    <tr>\n",
       "      <th>3</th>\n",
       "      <td>1</td>\n",
       "      <td>1.0</td>\n",
       "      <td>30.0</td>\n",
       "      <td>1</td>\n",
       "      <td>2</td>\n",
       "      <td>151.5500</td>\n",
       "      <td>61.0</td>\n",
       "    </tr>\n",
       "    <tr>\n",
       "      <th>...</th>\n",
       "      <td>...</td>\n",
       "      <td>...</td>\n",
       "      <td>...</td>\n",
       "      <td>...</td>\n",
       "      <td>...</td>\n",
       "      <td>...</td>\n",
       "      <td>...</td>\n",
       "    </tr>\n",
       "    <tr>\n",
       "      <th>189</th>\n",
       "      <td>1</td>\n",
       "      <td>1.0</td>\n",
       "      <td>29.0</td>\n",
       "      <td>0</td>\n",
       "      <td>0</td>\n",
       "      <td>30.0000</td>\n",
       "      <td>113.0</td>\n",
       "    </tr>\n",
       "    <tr>\n",
       "      <th>252</th>\n",
       "      <td>1</td>\n",
       "      <td>1.0</td>\n",
       "      <td>61.0</td>\n",
       "      <td>1</td>\n",
       "      <td>3</td>\n",
       "      <td>262.3750</td>\n",
       "      <td>35.0</td>\n",
       "    </tr>\n",
       "    <tr>\n",
       "      <th>21</th>\n",
       "      <td>1</td>\n",
       "      <td>0.0</td>\n",
       "      <td>47.0</td>\n",
       "      <td>1</td>\n",
       "      <td>1</td>\n",
       "      <td>52.5542</td>\n",
       "      <td>101.0</td>\n",
       "    </tr>\n",
       "    <tr>\n",
       "      <th>276</th>\n",
       "      <td>1</td>\n",
       "      <td>1.0</td>\n",
       "      <td>57.0</td>\n",
       "      <td>1</td>\n",
       "      <td>0</td>\n",
       "      <td>146.5208</td>\n",
       "      <td>42.0</td>\n",
       "    </tr>\n",
       "    <tr>\n",
       "      <th>343</th>\n",
       "      <td>2</td>\n",
       "      <td>1.0</td>\n",
       "      <td>34.0</td>\n",
       "      <td>0</td>\n",
       "      <td>0</td>\n",
       "      <td>13.0000</td>\n",
       "      <td>112.0</td>\n",
       "    </tr>\n",
       "  </tbody>\n",
       "</table>\n",
       "<p>186 rows × 7 columns</p>\n",
       "</div>"
      ],
      "text/plain": [
       "     pclass  sex   age  sibsp  parch      fare  cabin\n",
       "39        1  1.0  48.0      0      0   50.4958   14.0\n",
       "30        1  1.0  45.0      0      0   35.5000  145.0\n",
       "242       1  0.0  33.0      0      0   27.7208    0.0\n",
       "136       1  1.0  53.0      0      0   28.5000   68.0\n",
       "3         1  1.0  30.0      1      2  151.5500   61.0\n",
       "..      ...  ...   ...    ...    ...       ...    ...\n",
       "189       1  1.0  29.0      0      0   30.0000  113.0\n",
       "252       1  1.0  61.0      1      3  262.3750   35.0\n",
       "21        1  0.0  47.0      1      1   52.5542  101.0\n",
       "276       1  1.0  57.0      1      0  146.5208   42.0\n",
       "343       2  1.0  34.0      0      0   13.0000  112.0\n",
       "\n",
       "[186 rows x 7 columns]"
      ]
     },
     "execution_count": 12,
     "metadata": {},
     "output_type": "execute_result"
    }
   ],
   "source": [
    "X_titanic_train_complete=X_titanic_train_encoded.copy()\n",
    "X_titanic_train_complete.dropna(axis=0, inplace=True)\n",
    "#The difference is axis=0 instead of 1\n",
    "X_titanic_train_complete"
   ]
  },
  {
   "cell_type": "markdown",
   "id": "82c067c1-ab83-43e4-a125-9ea70c216052",
   "metadata": {},
   "source": [
    "## Notice the reduction in the number of instances\n",
    "\n",
    "Another important point for the instance deletion approach is that there is a need to remove the target values (from y_train) that correspond to the incomplete (deleted) data instances"
   ]
  },
  {
   "cell_type": "code",
   "execution_count": 13,
   "id": "7e2cf106-3b63-4a61-a612-e633d42260fa",
   "metadata": {},
   "outputs": [
    {
     "name": "stdout",
     "output_type": "stream",
     "text": [
      "pclass    0\n",
      "sex       0\n",
      "age       0\n",
      "sibsp     0\n",
      "parch     0\n",
      "fare      0\n",
      "cabin     0\n",
      "dtype: int64\n"
     ]
    }
   ],
   "source": [
    "#Check the number of missing values\n",
    "print(X_titanic_train_complete.isnull().sum())"
   ]
  },
  {
   "cell_type": "markdown",
   "id": "3979eeb7-2903-4289-afa9-82697f0120bb",
   "metadata": {},
   "source": [
    "The deletion approach has several drawbacks. It reduces the availlable data, which limits the learning ability, especially when there are many missing values.\n",
    "\n",
    "Furthermore, the approach of deleting incomplete instances is not practical for test data: we really want to know the answer!"
   ]
  },
  {
   "cell_type": "markdown",
   "id": "c6903375-81e2-472a-9a48-bf2c35135891",
   "metadata": {},
   "source": [
    "## Imputation using `pandas`"
   ]
  },
  {
   "cell_type": "markdown",
   "id": "9bf0912c-1d07-4822-b924-e2f61836ee3b",
   "metadata": {},
   "source": [
    "### Simple imputation (`pandas`)"
   ]
  },
  {
   "cell_type": "code",
   "execution_count": 14,
   "id": "dd27eeb1-fbee-4a57-8f03-f67febc35fee",
   "metadata": {},
   "outputs": [
    {
     "name": "stdout",
     "output_type": "stream",
     "text": [
      "pclass    0\n",
      "sex       0\n",
      "age       0\n",
      "sibsp     0\n",
      "parch     0\n",
      "fare      0\n",
      "cabin     0\n",
      "dtype: int64\n"
     ]
    }
   ],
   "source": [
    "#Mean for numeric values\n",
    "X_titanic_data_complete=X_titanic_train_encoded.copy()\n",
    "X_titanic_data_complete['age']=X_titanic_data_complete['age'].fillna(X_titanic_data_complete['age'].mean())\n",
    "X_titanic_data_complete['fare']=X_titanic_data_complete['fare'].fillna(X_titanic_data_complete['fare'].mean())\n",
    "X_titanic_data_complete['cabin']=X_titanic_data_complete['cabin'].fillna(X_titanic_data_complete['cabin'].mean())\n",
    "# Show the number of missing values\n",
    "print(X_titanic_data_complete.isnull().sum())\n"
   ]
  },
  {
   "cell_type": "code",
   "execution_count": 15,
   "id": "d663fa90-c852-49ab-bad3-b6a5e29073cd",
   "metadata": {},
   "outputs": [
    {
     "data": {
      "text/html": [
       "<div>\n",
       "<style scoped>\n",
       "    .dataframe tbody tr th:only-of-type {\n",
       "        vertical-align: middle;\n",
       "    }\n",
       "\n",
       "    .dataframe tbody tr th {\n",
       "        vertical-align: top;\n",
       "    }\n",
       "\n",
       "    .dataframe thead th {\n",
       "        text-align: right;\n",
       "    }\n",
       "</style>\n",
       "<table border=\"1\" class=\"dataframe\">\n",
       "  <thead>\n",
       "    <tr style=\"text-align: right;\">\n",
       "      <th></th>\n",
       "      <th>pclass</th>\n",
       "      <th>sex</th>\n",
       "      <th>age</th>\n",
       "      <th>sibsp</th>\n",
       "      <th>parch</th>\n",
       "      <th>fare</th>\n",
       "      <th>cabin</th>\n",
       "    </tr>\n",
       "  </thead>\n",
       "  <tbody>\n",
       "    <tr>\n",
       "      <th>1214</th>\n",
       "      <td>3</td>\n",
       "      <td>1.0</td>\n",
       "      <td>29.102309</td>\n",
       "      <td>0</td>\n",
       "      <td>0</td>\n",
       "      <td>8.6625</td>\n",
       "      <td>73.27451</td>\n",
       "    </tr>\n",
       "    <tr>\n",
       "      <th>677</th>\n",
       "      <td>3</td>\n",
       "      <td>1.0</td>\n",
       "      <td>26.000000</td>\n",
       "      <td>0</td>\n",
       "      <td>0</td>\n",
       "      <td>7.8958</td>\n",
       "      <td>73.27451</td>\n",
       "    </tr>\n",
       "    <tr>\n",
       "      <th>534</th>\n",
       "      <td>2</td>\n",
       "      <td>0.0</td>\n",
       "      <td>19.000000</td>\n",
       "      <td>0</td>\n",
       "      <td>0</td>\n",
       "      <td>26.0000</td>\n",
       "      <td>73.27451</td>\n",
       "    </tr>\n",
       "    <tr>\n",
       "      <th>1174</th>\n",
       "      <td>3</td>\n",
       "      <td>0.0</td>\n",
       "      <td>29.102309</td>\n",
       "      <td>8</td>\n",
       "      <td>2</td>\n",
       "      <td>69.5500</td>\n",
       "      <td>73.27451</td>\n",
       "    </tr>\n",
       "    <tr>\n",
       "      <th>864</th>\n",
       "      <td>3</td>\n",
       "      <td>0.0</td>\n",
       "      <td>28.000000</td>\n",
       "      <td>0</td>\n",
       "      <td>0</td>\n",
       "      <td>7.7750</td>\n",
       "      <td>73.27451</td>\n",
       "    </tr>\n",
       "  </tbody>\n",
       "</table>\n",
       "</div>"
      ],
      "text/plain": [
       "      pclass  sex        age  sibsp  parch     fare     cabin\n",
       "1214       3  1.0  29.102309      0      0   8.6625  73.27451\n",
       "677        3  1.0  26.000000      0      0   7.8958  73.27451\n",
       "534        2  0.0  19.000000      0      0  26.0000  73.27451\n",
       "1174       3  0.0  29.102309      8      2  69.5500  73.27451\n",
       "864        3  0.0  28.000000      0      0   7.7750  73.27451"
      ]
     },
     "execution_count": 15,
     "metadata": {},
     "output_type": "execute_result"
    }
   ],
   "source": [
    "X_titanic_data_complete.head()"
   ]
  },
  {
   "cell_type": "markdown",
   "id": "28aa88ae-14dc-4252-a947-c333c1760187",
   "metadata": {},
   "source": [
    "## \"interpolation\" (`pandas`)"
   ]
  },
  {
   "cell_type": "code",
   "execution_count": 16,
   "id": "cd3a6a3b-62b9-48cd-873d-eaa113898fa5",
   "metadata": {},
   "outputs": [
    {
     "name": "stdout",
     "output_type": "stream",
     "text": [
      "pclass    0\n",
      "sex       0\n",
      "age       0\n",
      "sibsp     0\n",
      "parch     0\n",
      "fare      0\n",
      "cabin     0\n",
      "dtype: int64\n"
     ]
    }
   ],
   "source": [
    "X_titanic_data_complete = X_titanic_train_encoded.copy()\n",
    "X_titanic_data_complete = X_titanic_data_complete.interpolate()\n",
    "#The output is 'numpy.ndarray' so we convert it to dataframe for consistency\n",
    "X_titanic_train_complete = pd.DataFrame(X_titanic_train_complete)\n",
    "print(X_titanic_train_complete.isna().sum())"
   ]
  },
  {
   "cell_type": "markdown",
   "id": "403f1af0-44b8-4bf9-b45f-c74ebc59e656",
   "metadata": {},
   "source": [
    "## Imputation using `sklearn`"
   ]
  },
  {
   "cell_type": "markdown",
   "id": "6d030902-fbb6-490b-a8db-821b23a97d95",
   "metadata": {},
   "source": [
    "### Simple imputation (`sklearn`)"
   ]
  },
  {
   "cell_type": "code",
   "execution_count": null,
   "id": "48ccbf88-3e70-4b12-9df8-9a5bcde45579",
   "metadata": {},
   "outputs": [],
   "source": [
    "from sklearn.impute import SimpleImputer\n",
    "imputer = SimpleImputer()\n",
    "X_titanic_train_complete = imputer.fit_transform(X_titanic_train_encoded)\n",
    "#The output is 'numpy.ndarray' so we convert it to dataframe for consistency\n",
    "X_titanic_train_complete=pd.DataFrame(X_titanic_train_complete, columns=X_titanic_train_encoded.columns)\n",
    "print(\"The number of missing values :\\n\", X_titanic_train_complete.isnull().sum())"
   ]
  },
  {
   "cell_type": "code",
   "execution_count": 19,
   "id": "9ac48dc9-161e-4318-b2c5-4477b1492892",
   "metadata": {},
   "outputs": [
    {
     "data": {
      "text/html": [
       "<div>\n",
       "<style scoped>\n",
       "    .dataframe tbody tr th:only-of-type {\n",
       "        vertical-align: middle;\n",
       "    }\n",
       "\n",
       "    .dataframe tbody tr th {\n",
       "        vertical-align: top;\n",
       "    }\n",
       "\n",
       "    .dataframe thead th {\n",
       "        text-align: right;\n",
       "    }\n",
       "</style>\n",
       "<table border=\"1\" class=\"dataframe\">\n",
       "  <thead>\n",
       "    <tr style=\"text-align: right;\">\n",
       "      <th></th>\n",
       "      <th>pclass</th>\n",
       "      <th>sex</th>\n",
       "      <th>age</th>\n",
       "      <th>sibsp</th>\n",
       "      <th>parch</th>\n",
       "      <th>fare</th>\n",
       "      <th>cabin</th>\n",
       "    </tr>\n",
       "  </thead>\n",
       "  <tbody>\n",
       "    <tr>\n",
       "      <th>1214</th>\n",
       "      <td>3</td>\n",
       "      <td>1.0</td>\n",
       "      <td>NaN</td>\n",
       "      <td>0</td>\n",
       "      <td>0</td>\n",
       "      <td>8.6625</td>\n",
       "      <td>NaN</td>\n",
       "    </tr>\n",
       "    <tr>\n",
       "      <th>677</th>\n",
       "      <td>3</td>\n",
       "      <td>1.0</td>\n",
       "      <td>26.0</td>\n",
       "      <td>0</td>\n",
       "      <td>0</td>\n",
       "      <td>7.8958</td>\n",
       "      <td>NaN</td>\n",
       "    </tr>\n",
       "    <tr>\n",
       "      <th>534</th>\n",
       "      <td>2</td>\n",
       "      <td>0.0</td>\n",
       "      <td>19.0</td>\n",
       "      <td>0</td>\n",
       "      <td>0</td>\n",
       "      <td>26.0000</td>\n",
       "      <td>NaN</td>\n",
       "    </tr>\n",
       "    <tr>\n",
       "      <th>1174</th>\n",
       "      <td>3</td>\n",
       "      <td>0.0</td>\n",
       "      <td>NaN</td>\n",
       "      <td>8</td>\n",
       "      <td>2</td>\n",
       "      <td>69.5500</td>\n",
       "      <td>NaN</td>\n",
       "    </tr>\n",
       "    <tr>\n",
       "      <th>864</th>\n",
       "      <td>3</td>\n",
       "      <td>0.0</td>\n",
       "      <td>28.0</td>\n",
       "      <td>0</td>\n",
       "      <td>0</td>\n",
       "      <td>7.7750</td>\n",
       "      <td>NaN</td>\n",
       "    </tr>\n",
       "    <tr>\n",
       "      <th>...</th>\n",
       "      <td>...</td>\n",
       "      <td>...</td>\n",
       "      <td>...</td>\n",
       "      <td>...</td>\n",
       "      <td>...</td>\n",
       "      <td>...</td>\n",
       "      <td>...</td>\n",
       "    </tr>\n",
       "    <tr>\n",
       "      <th>1095</th>\n",
       "      <td>3</td>\n",
       "      <td>0.0</td>\n",
       "      <td>NaN</td>\n",
       "      <td>0</td>\n",
       "      <td>0</td>\n",
       "      <td>7.6292</td>\n",
       "      <td>NaN</td>\n",
       "    </tr>\n",
       "    <tr>\n",
       "      <th>1130</th>\n",
       "      <td>3</td>\n",
       "      <td>0.0</td>\n",
       "      <td>18.0</td>\n",
       "      <td>0</td>\n",
       "      <td>0</td>\n",
       "      <td>7.7750</td>\n",
       "      <td>NaN</td>\n",
       "    </tr>\n",
       "    <tr>\n",
       "      <th>1294</th>\n",
       "      <td>3</td>\n",
       "      <td>1.0</td>\n",
       "      <td>28.5</td>\n",
       "      <td>0</td>\n",
       "      <td>0</td>\n",
       "      <td>16.1000</td>\n",
       "      <td>NaN</td>\n",
       "    </tr>\n",
       "    <tr>\n",
       "      <th>860</th>\n",
       "      <td>3</td>\n",
       "      <td>0.0</td>\n",
       "      <td>26.0</td>\n",
       "      <td>0</td>\n",
       "      <td>0</td>\n",
       "      <td>7.9250</td>\n",
       "      <td>NaN</td>\n",
       "    </tr>\n",
       "    <tr>\n",
       "      <th>1126</th>\n",
       "      <td>3</td>\n",
       "      <td>0.0</td>\n",
       "      <td>28.0</td>\n",
       "      <td>0</td>\n",
       "      <td>0</td>\n",
       "      <td>7.8958</td>\n",
       "      <td>NaN</td>\n",
       "    </tr>\n",
       "  </tbody>\n",
       "</table>\n",
       "<p>916 rows × 7 columns</p>\n",
       "</div>"
      ],
      "text/plain": [
       "      pclass  sex   age  sibsp  parch     fare  cabin\n",
       "1214       3  1.0   NaN      0      0   8.6625    NaN\n",
       "677        3  1.0  26.0      0      0   7.8958    NaN\n",
       "534        2  0.0  19.0      0      0  26.0000    NaN\n",
       "1174       3  0.0   NaN      8      2  69.5500    NaN\n",
       "864        3  0.0  28.0      0      0   7.7750    NaN\n",
       "...      ...  ...   ...    ...    ...      ...    ...\n",
       "1095       3  0.0   NaN      0      0   7.6292    NaN\n",
       "1130       3  0.0  18.0      0      0   7.7750    NaN\n",
       "1294       3  1.0  28.5      0      0  16.1000    NaN\n",
       "860        3  0.0  26.0      0      0   7.9250    NaN\n",
       "1126       3  0.0  28.0      0      0   7.8958    NaN\n",
       "\n",
       "[916 rows x 7 columns]"
      ]
     },
     "execution_count": 19,
     "metadata": {},
     "output_type": "execute_result"
    }
   ],
   "source": [
    "X_titanic_train_encoded"
   ]
  },
  {
   "cell_type": "markdown",
   "id": "bd1aeee8-faee-4b4d-80eb-7c25ebbceafa",
   "metadata": {},
   "source": [
    "## The default strategy for sklearn simple imputer is the \"mean\", you can change it using the strategy parameter"
   ]
  },
  {
   "cell_type": "code",
   "execution_count": null,
   "id": "4c50dd33-6754-40ec-a97a-a7a950c5dc34",
   "metadata": {},
   "outputs": [],
   "source": [
    "imputer = SimpleImputer(strategy=\"median\")\n",
    "X_titanic_train_complete = imputer.fit_transform(X_titanic_train_encoded)\n",
    "#The output is 'numpy.ndarray' so we convert it to dataframe for consistency\n",
    "X_titanic_train_complete=pd.DataFrame(X_titanic_train_complete, columns=X_titanic_train_encoded.columns)\n",
    "print(\"The number of missing values :\\n\", X_titanic_train_complete.isnull().sum())"
   ]
  },
  {
   "cell_type": "markdown",
   "id": "a7cfd98f-025e-4053-bd69-6c855b71bf22",
   "metadata": {},
   "source": [
    "## kNN imputer (`sklearn`)"
   ]
  },
  {
   "cell_type": "code",
   "execution_count": null,
   "id": "de8967dd-ff2f-43c4-822b-98c23c70e4c0",
   "metadata": {},
   "outputs": [],
   "source": [
    "from sklearn.impute import KNNImputer\n",
    "imputer = KNNImputer()\n",
    "X_titanic_train_complete = imputer.fit_transform(X_titanic_train_encoded)\n",
    "#The output is 'numpy.ndarray' so we convert it to dataframe for consistency\n",
    "X_titanic_train_complete=pd.DataFrame(X_titanic_train_complete, columns=X_titanic_train_encoded.columns)\n",
    "print(\"The number of missing values :\\n\", X_titanic_train_complete.isnull().sum())"
   ]
  },
  {
   "cell_type": "code",
   "execution_count": null,
   "id": "b6c4b87e-b2e3-4379-a764-04515dcf63f6",
   "metadata": {},
   "outputs": [],
   "source": [
    "#The default k for the KNN imputer is 5, you can change it as follows:\n",
    "imputer = KNNImputer(n_neighbors=2)\n",
    "# etc etc..."
   ]
  },
  {
   "cell_type": "code",
   "execution_count": null,
   "id": "8708ab20-de4c-4cd5-bd2f-fcd9bd40d9b7",
   "metadata": {},
   "outputs": [],
   "source": [
    "from sklearn.experimental import enable_iterative_imputer\n",
    "from sklearn.impute import IterativeImputer\n",
    "imputer = IterativeImputer()\n",
    "X_titanic_train_complete = imputer.fit_transform(X_titanic_train_encoded)\n",
    "#The output is 'numpy.ndarray' so we convert it to dataframe for consistency\n",
    "X_titanic_train_complete=pd.DataFrame(X_titanic_train_complete, columns=X_titanic_train_encoded.columns)\n",
    "print(\"The number of missing values :\\n\", X_titanic_train_complete.isnull().sum())"
   ]
  },
  {
   "cell_type": "markdown",
   "id": "3202d911-c9ae-4bf6-b312-5140c63b8e49",
   "metadata": {},
   "source": [
    "You can reset the default parameters of the iterative imputer. For example, you can set the number of iterations. Moreover, you can specify the estimator for estimating the missing values."
   ]
  },
  {
   "cell_type": "code",
   "execution_count": null,
   "id": "c7a5d86a-c95a-4cde-b479-4494620163fa",
   "metadata": {},
   "outputs": [],
   "source": [
    "# Lets use DT as an estimator\n",
    "from sklearn.tree import DecisionTreeRegressor\n",
    "imputer = IterativeImputer(estimator=DecisionTreeRegressor())\n",
    "X_titanic_train_complete = imputer.fit_transform(X_titanic_train_encoded)\n",
    "#The output is 'numpy.ndarray' so we convert it to dataframe for consistency\n",
    "X_titanic_train_complete=pd.DataFrame(X_titanic_train_complete, columns=X_titanic_train_encoded.columns)\n",
    "print(\"The number of missing values :\\n\", X_titanic_train_complete.isnull().sum())"
   ]
  },
  {
   "cell_type": "markdown",
   "id": "347fdb4c-9558-4dcc-833f-f60add75689e",
   "metadata": {},
   "source": [
    "## Applying the learned models to incomplete test data"
   ]
  },
  {
   "cell_type": "code",
   "execution_count": null,
   "id": "4e51acc3-bcd4-45a9-b2e7-0073103ad212",
   "metadata": {},
   "outputs": [],
   "source": [
    "#The learnt encoder_sex should be used to encode the test data, NOTE there is NO fit here, just transform\n",
    "X_titanic_test_encoded=X_titanic_test.copy()\n",
    "X_titanic_test_encoded['sex'] = encoder_sex.transform(X_titanic_test_encoded['sex'].values.reshape(-1, 1))\n",
    "\n",
    "#The learnt encoder2 should be used to encode the test data, NOTE there is NO fit here, just transform\n",
    "X_titanic_test_encoded['cabin'] = encoder_cabin.transform(X_titanic_test_encoded['cabin'].values.reshape(-1, 1).astype(str))\n",
    "#Now, retrive the nan values to be missing in the encoded data\n",
    "X_titanic_test_encoded['cabin'].replace(cabin_nan_code,np.nan,inplace=True)\n"
   ]
  },
  {
   "cell_type": "markdown",
   "id": "f3321a6c-1b2d-4963-967f-fd970934a3c2",
   "metadata": {},
   "source": [
    "Second, use the learned imputer to estimate the missing values in the test data"
   ]
  },
  {
   "cell_type": "code",
   "execution_count": null,
   "id": "7b1900e5-d407-49b8-b55a-73ab2dc1d614",
   "metadata": {},
   "outputs": [],
   "source": [
    "print(\"The number of missing values in the test data before imputation :\\n\", X_titanic_test_encoded.isnull().sum())\n",
    "X_titanic_test_complete = imputer.transform(X_titanic_test_encoded)\n",
    "X_titanic_test_complete=pd.DataFrame(X_titanic_test_complete, columns=X_titanic_test_encoded.columns)\n",
    "print(\"The number of missing values in the test data after imputation :\\n\", X_titanic_test_complete.isnull().sum())"
   ]
  },
  {
   "cell_type": "markdown",
   "id": "3f43a481-4b56-48f3-8150-9d4a3471dac6",
   "metadata": {},
   "source": [
    "Finally, we can perform the classification using the imputed complete data."
   ]
  },
  {
   "cell_type": "code",
   "execution_count": 24,
   "id": "c934c59d-b26f-456c-8b0a-c5dabf32715d",
   "metadata": {},
   "outputs": [
    {
     "ename": "ImportError",
     "evalue": "cannot import name '_check_n_features' from 'sklearn.utils.validation' (C:\\Users\\MSI Gaming\\AppData\\Roaming\\Python\\Python313\\site-packages\\sklearn\\utils\\validation.py)",
     "output_type": "error",
     "traceback": [
      "\u001b[1;31m---------------------------------------------------------------------------\u001b[0m",
      "\u001b[1;31mImportError\u001b[0m                               Traceback (most recent call last)",
      "Cell \u001b[1;32mIn[24], line 3\u001b[0m\n\u001b[0;32m      1\u001b[0m \u001b[38;5;66;03m#We use f-measure because the classes are not balanced\u001b[39;00m\n\u001b[0;32m      2\u001b[0m \u001b[38;5;28;01mfrom\u001b[39;00m\u001b[38;5;250m \u001b[39m\u001b[38;5;21;01msklearn\u001b[39;00m\u001b[38;5;21;01m.\u001b[39;00m\u001b[38;5;21;01mmetrics\u001b[39;00m\u001b[38;5;250m \u001b[39m\u001b[38;5;28;01mimport\u001b[39;00m f1_score\n\u001b[1;32m----> 3\u001b[0m \u001b[38;5;28;01mfrom\u001b[39;00m\u001b[38;5;250m \u001b[39m\u001b[38;5;21;01msklearn\u001b[39;00m\u001b[38;5;21;01m.\u001b[39;00m\u001b[38;5;21;01mensemble\u001b[39;00m\u001b[38;5;250m \u001b[39m\u001b[38;5;28;01mimport\u001b[39;00m RandomForestClassifier\n\u001b[0;32m      4\u001b[0m classifier \u001b[38;5;241m=\u001b[39m RandomForestClassifier(random_state\u001b[38;5;241m=\u001b[39m\u001b[38;5;241m0\u001b[39m)\n\u001b[0;32m      5\u001b[0m \u001b[38;5;66;03m#classifier=SVC()\u001b[39;00m\n",
      "File \u001b[1;32m~\\AppData\\Roaming\\Python\\Python313\\site-packages\\sklearn\\ensemble\\__init__.py:6\u001b[0m\n\u001b[0;32m      1\u001b[0m \u001b[38;5;124;03m\"\"\"Ensemble-based methods for classification, regression and anomaly detection.\"\"\"\u001b[39;00m\n\u001b[0;32m      3\u001b[0m \u001b[38;5;66;03m# Authors: The scikit-learn developers\u001b[39;00m\n\u001b[0;32m      4\u001b[0m \u001b[38;5;66;03m# SPDX-License-Identifier: BSD-3-Clause\u001b[39;00m\n\u001b[1;32m----> 6\u001b[0m \u001b[38;5;28;01mfrom\u001b[39;00m\u001b[38;5;250m \u001b[39m\u001b[38;5;21;01m.\u001b[39;00m\u001b[38;5;21;01m_bagging\u001b[39;00m\u001b[38;5;250m \u001b[39m\u001b[38;5;28;01mimport\u001b[39;00m BaggingClassifier, BaggingRegressor\n\u001b[0;32m      7\u001b[0m \u001b[38;5;28;01mfrom\u001b[39;00m\u001b[38;5;250m \u001b[39m\u001b[38;5;21;01m.\u001b[39;00m\u001b[38;5;21;01m_base\u001b[39;00m\u001b[38;5;250m \u001b[39m\u001b[38;5;28;01mimport\u001b[39;00m BaseEnsemble\n\u001b[0;32m      8\u001b[0m \u001b[38;5;28;01mfrom\u001b[39;00m\u001b[38;5;250m \u001b[39m\u001b[38;5;21;01m.\u001b[39;00m\u001b[38;5;21;01m_forest\u001b[39;00m\u001b[38;5;250m \u001b[39m\u001b[38;5;28;01mimport\u001b[39;00m (\n\u001b[0;32m      9\u001b[0m     ExtraTreesClassifier,\n\u001b[0;32m     10\u001b[0m     ExtraTreesRegressor,\n\u001b[1;32m   (...)\u001b[0m\n\u001b[0;32m     13\u001b[0m     RandomTreesEmbedding,\n\u001b[0;32m     14\u001b[0m )\n",
      "File \u001b[1;32m~\\AppData\\Roaming\\Python\\Python313\\site-packages\\sklearn\\ensemble\\_bagging.py:17\u001b[0m\n\u001b[0;32m     15\u001b[0m \u001b[38;5;28;01mfrom\u001b[39;00m\u001b[38;5;250m \u001b[39m\u001b[38;5;21;01m.\u001b[39;00m\u001b[38;5;21;01m.\u001b[39;00m\u001b[38;5;21;01mbase\u001b[39;00m\u001b[38;5;250m \u001b[39m\u001b[38;5;28;01mimport\u001b[39;00m ClassifierMixin, RegressorMixin, _fit_context\n\u001b[0;32m     16\u001b[0m \u001b[38;5;28;01mfrom\u001b[39;00m\u001b[38;5;250m \u001b[39m\u001b[38;5;21;01m.\u001b[39;00m\u001b[38;5;21;01m.\u001b[39;00m\u001b[38;5;21;01mmetrics\u001b[39;00m\u001b[38;5;250m \u001b[39m\u001b[38;5;28;01mimport\u001b[39;00m accuracy_score, r2_score\n\u001b[1;32m---> 17\u001b[0m \u001b[38;5;28;01mfrom\u001b[39;00m\u001b[38;5;250m \u001b[39m\u001b[38;5;21;01m.\u001b[39;00m\u001b[38;5;21;01m.\u001b[39;00m\u001b[38;5;21;01mtree\u001b[39;00m\u001b[38;5;250m \u001b[39m\u001b[38;5;28;01mimport\u001b[39;00m DecisionTreeClassifier, DecisionTreeRegressor\n\u001b[0;32m     18\u001b[0m \u001b[38;5;28;01mfrom\u001b[39;00m\u001b[38;5;250m \u001b[39m\u001b[38;5;21;01m.\u001b[39;00m\u001b[38;5;21;01m.\u001b[39;00m\u001b[38;5;21;01mutils\u001b[39;00m\u001b[38;5;250m \u001b[39m\u001b[38;5;28;01mimport\u001b[39;00m (\n\u001b[0;32m     19\u001b[0m     Bunch,\n\u001b[0;32m     20\u001b[0m     _safe_indexing,\n\u001b[0;32m     21\u001b[0m     check_random_state,\n\u001b[0;32m     22\u001b[0m     column_or_1d,\n\u001b[0;32m     23\u001b[0m )\n\u001b[0;32m     24\u001b[0m \u001b[38;5;28;01mfrom\u001b[39;00m\u001b[38;5;250m \u001b[39m\u001b[38;5;21;01m.\u001b[39;00m\u001b[38;5;21;01m.\u001b[39;00m\u001b[38;5;21;01mutils\u001b[39;00m\u001b[38;5;21;01m.\u001b[39;00m\u001b[38;5;21;01m_mask\u001b[39;00m\u001b[38;5;250m \u001b[39m\u001b[38;5;28;01mimport\u001b[39;00m indices_to_mask\n",
      "File \u001b[1;32m~\\AppData\\Roaming\\Python\\Python313\\site-packages\\sklearn\\tree\\__init__.py:6\u001b[0m\n\u001b[0;32m      1\u001b[0m \u001b[38;5;124;03m\"\"\"Decision tree based models for classification and regression.\"\"\"\u001b[39;00m\n\u001b[0;32m      3\u001b[0m \u001b[38;5;66;03m# Authors: The scikit-learn developers\u001b[39;00m\n\u001b[0;32m      4\u001b[0m \u001b[38;5;66;03m# SPDX-License-Identifier: BSD-3-Clause\u001b[39;00m\n\u001b[1;32m----> 6\u001b[0m \u001b[38;5;28;01mfrom\u001b[39;00m\u001b[38;5;250m \u001b[39m\u001b[38;5;21;01m.\u001b[39;00m\u001b[38;5;21;01m_classes\u001b[39;00m\u001b[38;5;250m \u001b[39m\u001b[38;5;28;01mimport\u001b[39;00m (\n\u001b[0;32m      7\u001b[0m     BaseDecisionTree,\n\u001b[0;32m      8\u001b[0m     DecisionTreeClassifier,\n\u001b[0;32m      9\u001b[0m     DecisionTreeRegressor,\n\u001b[0;32m     10\u001b[0m     ExtraTreeClassifier,\n\u001b[0;32m     11\u001b[0m     ExtraTreeRegressor,\n\u001b[0;32m     12\u001b[0m )\n\u001b[0;32m     13\u001b[0m \u001b[38;5;28;01mfrom\u001b[39;00m\u001b[38;5;250m \u001b[39m\u001b[38;5;21;01m.\u001b[39;00m\u001b[38;5;21;01m_export\u001b[39;00m\u001b[38;5;250m \u001b[39m\u001b[38;5;28;01mimport\u001b[39;00m export_graphviz, export_text, plot_tree\n\u001b[0;32m     15\u001b[0m __all__ \u001b[38;5;241m=\u001b[39m [\n\u001b[0;32m     16\u001b[0m     \u001b[38;5;124m\"\u001b[39m\u001b[38;5;124mBaseDecisionTree\u001b[39m\u001b[38;5;124m\"\u001b[39m,\n\u001b[0;32m     17\u001b[0m     \u001b[38;5;124m\"\u001b[39m\u001b[38;5;124mDecisionTreeClassifier\u001b[39m\u001b[38;5;124m\"\u001b[39m,\n\u001b[1;32m   (...)\u001b[0m\n\u001b[0;32m     23\u001b[0m     \u001b[38;5;124m\"\u001b[39m\u001b[38;5;124mplot_tree\u001b[39m\u001b[38;5;124m\"\u001b[39m,\n\u001b[0;32m     24\u001b[0m ]\n",
      "File \u001b[1;32m~\\AppData\\Roaming\\Python\\Python313\\site-packages\\sklearn\\tree\\_classes.py:32\u001b[0m\n\u001b[0;32m     30\u001b[0m \u001b[38;5;28;01mfrom\u001b[39;00m\u001b[38;5;250m \u001b[39m\u001b[38;5;21;01m.\u001b[39;00m\u001b[38;5;21;01m.\u001b[39;00m\u001b[38;5;21;01mutils\u001b[39;00m\u001b[38;5;21;01m.\u001b[39;00m\u001b[38;5;21;01m_param_validation\u001b[39;00m\u001b[38;5;250m \u001b[39m\u001b[38;5;28;01mimport\u001b[39;00m Hidden, Interval, RealNotInt, StrOptions\n\u001b[0;32m     31\u001b[0m \u001b[38;5;28;01mfrom\u001b[39;00m\u001b[38;5;250m \u001b[39m\u001b[38;5;21;01m.\u001b[39;00m\u001b[38;5;21;01m.\u001b[39;00m\u001b[38;5;21;01mutils\u001b[39;00m\u001b[38;5;21;01m.\u001b[39;00m\u001b[38;5;21;01mmulticlass\u001b[39;00m\u001b[38;5;250m \u001b[39m\u001b[38;5;28;01mimport\u001b[39;00m check_classification_targets\n\u001b[1;32m---> 32\u001b[0m \u001b[38;5;28;01mfrom\u001b[39;00m\u001b[38;5;250m \u001b[39m\u001b[38;5;21;01m.\u001b[39;00m\u001b[38;5;21;01m.\u001b[39;00m\u001b[38;5;21;01mutils\u001b[39;00m\u001b[38;5;21;01m.\u001b[39;00m\u001b[38;5;21;01mvalidation\u001b[39;00m\u001b[38;5;250m \u001b[39m\u001b[38;5;28;01mimport\u001b[39;00m (\n\u001b[0;32m     33\u001b[0m     _assert_all_finite_element_wise,\n\u001b[0;32m     34\u001b[0m     _check_n_features,\n\u001b[0;32m     35\u001b[0m     _check_sample_weight,\n\u001b[0;32m     36\u001b[0m     assert_all_finite,\n\u001b[0;32m     37\u001b[0m     check_is_fitted,\n\u001b[0;32m     38\u001b[0m     validate_data,\n\u001b[0;32m     39\u001b[0m )\n\u001b[0;32m     40\u001b[0m \u001b[38;5;28;01mfrom\u001b[39;00m\u001b[38;5;250m \u001b[39m\u001b[38;5;21;01m.\u001b[39;00m\u001b[38;5;250m \u001b[39m\u001b[38;5;28;01mimport\u001b[39;00m _criterion, _splitter, _tree\n\u001b[0;32m     41\u001b[0m \u001b[38;5;28;01mfrom\u001b[39;00m\u001b[38;5;250m \u001b[39m\u001b[38;5;21;01m.\u001b[39;00m\u001b[38;5;21;01m_criterion\u001b[39;00m\u001b[38;5;250m \u001b[39m\u001b[38;5;28;01mimport\u001b[39;00m Criterion\n",
      "\u001b[1;31mImportError\u001b[0m: cannot import name '_check_n_features' from 'sklearn.utils.validation' (C:\\Users\\MSI Gaming\\AppData\\Roaming\\Python\\Python313\\site-packages\\sklearn\\utils\\validation.py)"
     ]
    }
   ],
   "source": [
    "#We use f-measure because the classes are not balanced\n",
    "from sklearn.metrics import f1_score\n",
    "from sklearn.ensemble import RandomForestClassifier\n",
    "classifier = RandomForestClassifier(random_state=0)\n",
    "#classifier=SVC()\n",
    "classifier.fit(X_titanic_train_complete, y_titanic_train)\n",
    "print(\"F1 score after imputation = \", f1_score(classifier.predict(X_titanic_test_complete), y_titanic_test))"
   ]
  },
  {
   "cell_type": "code",
   "execution_count": null,
   "id": "f7f4afdb-fa19-4fdf-bee2-7f87f1956a32",
   "metadata": {},
   "outputs": [],
   "source": []
  }
 ],
 "metadata": {
  "kernelspec": {
   "display_name": "Python [conda env:base] *",
   "language": "python",
   "name": "conda-base-py"
  },
  "language_info": {
   "codemirror_mode": {
    "name": "ipython",
    "version": 3
   },
   "file_extension": ".py",
   "mimetype": "text/x-python",
   "name": "python",
   "nbconvert_exporter": "python",
   "pygments_lexer": "ipython3",
   "version": "3.13.5"
  }
 },
 "nbformat": 4,
 "nbformat_minor": 5
}
