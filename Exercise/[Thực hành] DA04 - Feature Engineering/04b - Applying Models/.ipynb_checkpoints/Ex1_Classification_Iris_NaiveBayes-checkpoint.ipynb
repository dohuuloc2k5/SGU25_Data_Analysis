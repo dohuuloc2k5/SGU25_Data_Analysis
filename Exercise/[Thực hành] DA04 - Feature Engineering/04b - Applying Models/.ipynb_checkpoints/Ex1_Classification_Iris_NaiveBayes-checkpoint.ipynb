{
 "cells": [
  {
   "cell_type": "markdown",
   "id": "51bb2872-3e57-48b2-a132-9a77afacc765",
   "metadata": {},
   "source": [
    "# Phân loại Bayes Classification Scikit-Learn"
   ]
  },
  {
   "cell_type": "code",
   "execution_count": 1,
   "id": "fc4eab24-bdd9-46e1-9c84-4986823db1ec",
   "metadata": {},
   "outputs": [],
   "source": [
    "import matplotlib.pyplot as plt\n",
    "import pandas as pd\n",
    "from sklearn import datasets\n",
    "from sklearn.model_selection import train_test_split\n",
    "from sklearn.naive_bayes import GaussianNB"
   ]
  },
  {
   "cell_type": "markdown",
   "id": "9e235085-19f0-4802-87ba-7efbd8082331",
   "metadata": {},
   "source": [
    "Bộ dữ liệu Iris\n",
    "\n",
    "Trong bài tập này, chúng ta phải phân loại ba loại hoa diên vĩ dựa trên chiều dài và chiều rộng của lá đài và\n",
    "cánh hoa. Các loại này bao gồm Setosa, Versicolor và Virginica, được mã hóa lần lượt bằng 0, 1 và 2.\n",
    "\n",
    "Bộ dữ liệu phân loại diên vĩ có sẵn trong gói scikit-learn. Để tải xuống và sử dụng cho thí nghiệm của chúng ta, bạn có thể triển khai nó bằng mã sau:"
   ]
  },
  {
   "cell_type": "code",
   "execution_count": 2,
   "id": "9941e786-4052-4817-b2a3-544f28c2abe3",
   "metadata": {},
   "outputs": [],
   "source": [
    "# Downloading the iris dataset\n",
    "iris = datasets.load_iris()\n",
    "class_names = iris.target_names\n",
    "# Convert to pandas format for easier processing\n",
    "iris_df = pd.DataFrame(iris.data, columns=iris.feature_names)\n",
    "iris_df['target'] = iris.target"
   ]
  },
  {
   "cell_type": "code",
   "execution_count": 3,
   "id": "743dd4da-b855-417e-8e5c-e56ee4bbec09",
   "metadata": {},
   "outputs": [
    {
     "data": {
      "text/html": [
       "<div>\n",
       "<style scoped>\n",
       "    .dataframe tbody tr th:only-of-type {\n",
       "        vertical-align: middle;\n",
       "    }\n",
       "\n",
       "    .dataframe tbody tr th {\n",
       "        vertical-align: top;\n",
       "    }\n",
       "\n",
       "    .dataframe thead th {\n",
       "        text-align: right;\n",
       "    }\n",
       "</style>\n",
       "<table border=\"1\" class=\"dataframe\">\n",
       "  <thead>\n",
       "    <tr style=\"text-align: right;\">\n",
       "      <th></th>\n",
       "      <th>sepal length (cm)</th>\n",
       "      <th>sepal width (cm)</th>\n",
       "      <th>petal length (cm)</th>\n",
       "      <th>petal width (cm)</th>\n",
       "      <th>target</th>\n",
       "    </tr>\n",
       "  </thead>\n",
       "  <tbody>\n",
       "    <tr>\n",
       "      <th>0</th>\n",
       "      <td>5.1</td>\n",
       "      <td>3.5</td>\n",
       "      <td>1.4</td>\n",
       "      <td>0.2</td>\n",
       "      <td>0</td>\n",
       "    </tr>\n",
       "    <tr>\n",
       "      <th>1</th>\n",
       "      <td>4.9</td>\n",
       "      <td>3.0</td>\n",
       "      <td>1.4</td>\n",
       "      <td>0.2</td>\n",
       "      <td>0</td>\n",
       "    </tr>\n",
       "    <tr>\n",
       "      <th>2</th>\n",
       "      <td>4.7</td>\n",
       "      <td>3.2</td>\n",
       "      <td>1.3</td>\n",
       "      <td>0.2</td>\n",
       "      <td>0</td>\n",
       "    </tr>\n",
       "    <tr>\n",
       "      <th>3</th>\n",
       "      <td>4.6</td>\n",
       "      <td>3.1</td>\n",
       "      <td>1.5</td>\n",
       "      <td>0.2</td>\n",
       "      <td>0</td>\n",
       "    </tr>\n",
       "    <tr>\n",
       "      <th>4</th>\n",
       "      <td>5.0</td>\n",
       "      <td>3.6</td>\n",
       "      <td>1.4</td>\n",
       "      <td>0.2</td>\n",
       "      <td>0</td>\n",
       "    </tr>\n",
       "  </tbody>\n",
       "</table>\n",
       "</div>"
      ],
      "text/plain": [
       "   sepal length (cm)  sepal width (cm)  petal length (cm)  petal width (cm)  \\\n",
       "0                5.1               3.5                1.4               0.2   \n",
       "1                4.9               3.0                1.4               0.2   \n",
       "2                4.7               3.2                1.3               0.2   \n",
       "3                4.6               3.1                1.5               0.2   \n",
       "4                5.0               3.6                1.4               0.2   \n",
       "\n",
       "   target  \n",
       "0       0  \n",
       "1       0  \n",
       "2       0  \n",
       "3       0  \n",
       "4       0  "
      ]
     },
     "execution_count": 3,
     "metadata": {},
     "output_type": "execute_result"
    }
   ],
   "source": [
    "iris_df.head()"
   ]
  },
  {
   "cell_type": "markdown",
   "id": "6f4d91e2-6150-446f-b822-224c584bd49e",
   "metadata": {},
   "source": [
    "Đầu tiên, chúng tôi chia ngẫu nhiên tập dữ liệu thành tập huấn luyện (80%) và tập thử nghiệm (20%)."
   ]
  },
  {
   "cell_type": "code",
   "execution_count": 4,
   "id": "ae91e84b-5de6-4489-837e-cc1d4bde48a2",
   "metadata": {},
   "outputs": [],
   "source": [
    "# Splitting dataset into train set and test set\n",
    "X_train, X_test, y_train, y_test = train_test_split(\n",
    "iris_df[['sepal length (cm)', 'sepal width (cm)',\n",
    "'petal length (cm)','petal width (cm)']],\n",
    "iris_df['target'],\n",
    "test_size=0.2,\n",
    "random_state=2021)"
   ]
  },
  {
   "cell_type": "markdown",
   "id": "112c2e3b-15e8-4ba4-b68d-f3bccaa5305f",
   "metadata": {},
   "source": [
    "Mô hình hóa và Kết quả\n",
    "\n",
    "Trong thí nghiệm này, chúng tôi xây dựng một Bộ phân loại Naive Bayes để phân loại ba loại mống mắt. Chúng tôi giả định chiều dài của\n",
    "lá đài và cánh hoa tuân theo phân phối chuẩn. Vì vậy, chúng tôi có thể huấn luyện một Bộ phân loại Naive Bayes theo chuẩn Gauss như sau:"
   ]
  },
  {
   "cell_type": "code",
   "execution_count": 6,
   "id": "3992b6cf-b025-4d80-81cd-d84e9165e4c2",
   "metadata": {},
   "outputs": [
    {
     "name": "stdout",
     "output_type": "stream",
     "text": [
      "Training accuracy: 0.97\n",
      "Testing accuracy NB: 0.93\n"
     ]
    }
   ],
   "source": [
    "# Import Naive Bayes\n",
    "# In this case, I assume features follow a normal distribution\n",
    "NB = GaussianNB()\n",
    "# Train Naive Bayes Model\n",
    "NB.fit(X_train, y_train)\n",
    "print(\"Training accuracy: {:.2f}\".format(NB.score(X_train, y_train)))\n",
    "# Evaluate Model on test set\n",
    "y_predict = NB.predict(X_test)\n",
    "print(\"Testing accuracy NB: {:.2f}\".format(NB.score(X_test, y_test)))"
   ]
  },
  {
   "cell_type": "markdown",
   "id": "2b0928da-54fb-4e1d-82a2-eb278c15eea5",
   "metadata": {},
   "source": [
    "Sau khi đào tạo, mô hình của chúng tôi đạt độ chính xác 93% trên tập thử nghiệm."
   ]
  },
  {
   "cell_type": "markdown",
   "id": "39f06366-fe39-412c-b6b7-45f85ad46b52",
   "metadata": {},
   "source": [
    "Hình ảnh hóa kết quả\n",
    "\n",
    "Mô hình của chúng tôi rất hiệu quả trong việc phân loại các loài hoa diên vĩ. Để kiểm chứng dự đoán, chúng tôi sử dụng Phân tích Thành phần Chính (PCA) để thu nhỏ các chiều thành mô hình 2 chiều phục vụ cho việc hình ảnh hóa."
   ]
  },
  {
   "cell_type": "code",
   "execution_count": null,
   "id": "bbf6cbdd-9aef-47b4-90a2-3edf445c7534",
   "metadata": {},
   "outputs": [],
   "source": []
  }
 ],
 "metadata": {
  "kernelspec": {
   "display_name": "Python [conda env:base] *",
   "language": "python",
   "name": "conda-base-py"
  },
  "language_info": {
   "codemirror_mode": {
    "name": "ipython",
    "version": 3
   },
   "file_extension": ".py",
   "mimetype": "text/x-python",
   "name": "python",
   "nbconvert_exporter": "python",
   "pygments_lexer": "ipython3",
   "version": "3.13.5"
  }
 },
 "nbformat": 4,
 "nbformat_minor": 5
}
